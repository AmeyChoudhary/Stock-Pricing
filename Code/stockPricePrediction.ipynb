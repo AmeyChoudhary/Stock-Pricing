{
 "cells": [
  {
   "cell_type": "code",
   "execution_count": null,
   "metadata": {},
   "outputs": [
    {
     "name": "stderr",
     "output_type": "stream",
     "text": [
      "wandb: Using wandb-core as the SDK backend.  Please refer to https://wandb.me/wandb-core for more information.\n"
     ]
    },
    {
     "name": "stdout",
     "output_type": "stream",
     "text": [
      "Create sweep with ID: 7pu82bg8\n",
      "Sweep URL: https://wandb.ai/its_mrpsycho/stock_price_prediction/sweeps/7pu82bg8\n"
     ]
    },
    {
     "name": "stderr",
     "output_type": "stream",
     "text": [
      "wandb: Agent Starting Run: 27t6r7fd with config:\n",
      "wandb: \thidden_size: 64\n",
      "wandb: \tlr: 0.0001\n",
      "wandb: \tnum_epochs: 10000\n",
      "wandb: \tnum_layers: 2\n",
      "wandb: Currently logged in as: its_mrpsycho to https://api.wandb.ai. Use `wandb login --relogin` to force relogin\n"
     ]
    },
    {
     "data": {
      "text/html": [
       "Tracking run with wandb version 0.19.8"
      ],
      "text/plain": [
       "<IPython.core.display.HTML object>"
      ]
     },
     "metadata": {},
     "output_type": "display_data"
    },
    {
     "data": {
      "text/html": [
       "Run data is saved locally in <code>d:\\Finance\\Finance\\Option-Pricing\\Option_Pricing\\wandb\\run-20250314_170038-27t6r7fd</code>"
      ],
      "text/plain": [
       "<IPython.core.display.HTML object>"
      ]
     },
     "metadata": {},
     "output_type": "display_data"
    },
    {
     "data": {
      "text/html": [
       "Syncing run <strong><a href='https://wandb.ai/its_mrpsycho/stock_price_prediction/runs/27t6r7fd' target=\"_blank\">young-sweep-1</a></strong> to <a href='https://wandb.ai/its_mrpsycho/stock_price_prediction' target=\"_blank\">Weights & Biases</a> (<a href='https://wandb.me/developer-guide' target=\"_blank\">docs</a>)<br>Sweep page: <a href='https://wandb.ai/its_mrpsycho/stock_price_prediction/sweeps/7pu82bg8' target=\"_blank\">https://wandb.ai/its_mrpsycho/stock_price_prediction/sweeps/7pu82bg8</a>"
      ],
      "text/plain": [
       "<IPython.core.display.HTML object>"
      ]
     },
     "metadata": {},
     "output_type": "display_data"
    },
    {
     "data": {
      "text/html": [
       " View project at <a href='https://wandb.ai/its_mrpsycho/stock_price_prediction' target=\"_blank\">https://wandb.ai/its_mrpsycho/stock_price_prediction</a>"
      ],
      "text/plain": [
       "<IPython.core.display.HTML object>"
      ]
     },
     "metadata": {},
     "output_type": "display_data"
    },
    {
     "data": {
      "text/html": [
       " View sweep at <a href='https://wandb.ai/its_mrpsycho/stock_price_prediction/sweeps/7pu82bg8' target=\"_blank\">https://wandb.ai/its_mrpsycho/stock_price_prediction/sweeps/7pu82bg8</a>"
      ],
      "text/plain": [
       "<IPython.core.display.HTML object>"
      ]
     },
     "metadata": {},
     "output_type": "display_data"
    },
    {
     "data": {
      "text/html": [
       " View run at <a href='https://wandb.ai/its_mrpsycho/stock_price_prediction/runs/27t6r7fd' target=\"_blank\">https://wandb.ai/its_mrpsycho/stock_price_prediction/runs/27t6r7fd</a>"
      ],
      "text/plain": [
       "<IPython.core.display.HTML object>"
      ]
     },
     "metadata": {},
     "output_type": "display_data"
    },
    {
     "name": "stdout",
     "output_type": "stream",
     "text": [
      "Epoch 100: Test MSE = 44683.3164\n",
      "Epoch 200: Test MSE = 43332.8633\n",
      "Epoch 300: Test MSE = 42662.8438\n",
      "Epoch 400: Test MSE = 42242.6094\n",
      "Epoch 500: Test MSE = 41875.2148\n",
      "Epoch 600: Test MSE = 41547.3750\n",
      "Epoch 700: Test MSE = 41240.2109\n",
      "Epoch 800: Test MSE = 40945.5820\n",
      "Epoch 900: Test MSE = 40659.6445\n",
      "Epoch 1000: Test MSE = 40380.2109\n",
      "Epoch 1100: Test MSE = 40105.9102\n",
      "Epoch 1200: Test MSE = 39835.8164\n",
      "Epoch 1300: Test MSE = 39569.2617\n",
      "Epoch 1400: Test MSE = 39305.7734\n",
      "Epoch 1500: Test MSE = 39044.9805\n",
      "Epoch 1600: Test MSE = 38786.5938\n",
      "Epoch 1700: Test MSE = 38530.3828\n",
      "Epoch 1800: Test MSE = 38276.1719\n",
      "Epoch 1900: Test MSE = 38023.8086\n",
      "Epoch 2000: Test MSE = 37773.1562\n",
      "Epoch 2100: Test MSE = 37524.1172\n",
      "Epoch 2200: Test MSE = 37276.6016\n",
      "Epoch 2300: Test MSE = 37030.5312\n",
      "Epoch 2400: Test MSE = 36785.8320\n",
      "Epoch 2500: Test MSE = 36542.4570\n",
      "Epoch 2600: Test MSE = 36300.3477\n",
      "Epoch 2700: Test MSE = 36059.4609\n",
      "Epoch 2800: Test MSE = 35819.7578\n",
      "Epoch 2900: Test MSE = 35581.1992\n",
      "Epoch 3000: Test MSE = 35343.7578\n",
      "Epoch 3100: Test MSE = 35107.4102\n",
      "Epoch 3200: Test MSE = 34872.1211\n",
      "Epoch 3300: Test MSE = 34637.8711\n",
      "Epoch 3400: Test MSE = 34404.6445\n",
      "Epoch 3500: Test MSE = 34172.4180\n",
      "Epoch 3600: Test MSE = 33941.1758\n",
      "Epoch 3700: Test MSE = 33710.9062\n",
      "Epoch 3800: Test MSE = 33481.5938\n",
      "Epoch 3900: Test MSE = 33253.2227\n",
      "Epoch 4000: Test MSE = 33025.7891\n",
      "Epoch 4100: Test MSE = 32799.2773\n",
      "Epoch 4200: Test MSE = 32573.6758\n",
      "Epoch 4300: Test MSE = 32348.9766\n",
      "Epoch 4400: Test MSE = 32125.1816\n",
      "Epoch 4500: Test MSE = 31902.2734\n",
      "Epoch 4600: Test MSE = 31680.2500\n"
     ]
    }
   ],
   "source": [
    "import pandas as pd\n",
    "import numpy as np\n",
    "import torch\n",
    "import torch.nn as nn\n",
    "import random\n",
    "from sklearn.model_selection import train_test_split\n",
    "import wandb\n",
    "\n",
    "# Set random seeds for reproducibility\n",
    "random_state = 42\n",
    "np.random.seed(random_state)\n",
    "random.seed(random_state)\n",
    "torch.manual_seed(random_state)\n",
    "if torch.cuda.is_available():\n",
    "    torch.cuda.manual_seed_all(random_state)\n",
    "\n",
    "# ----- Load Stock and Sentiment Data -----\n",
    "stock_data = pd.read_csv('AAPL_trend.csv', parse_dates=['date'])\n",
    "# We can still filter out rows if needed, but for regression, you might want to use all data.\n",
    "stock_data['closingValue'] = stock_data['closingValue'].astype(float)\n",
    "sentiment_data = pd.read_csv('sentiment_scores_title.csv', parse_dates=['date'])\n",
    "stock_data['date'] = pd.to_datetime(stock_data['date'])\n",
    "merged_data = pd.merge(stock_data, sentiment_data, on='date', how='left')\n",
    "\n",
    "# ----- Define Date Range -----\n",
    "start_date = pd.to_datetime(\"2024-02-12\")\n",
    "end_date = pd.to_datetime(\"2025-02-19\")\n",
    "selected_stock_data = merged_data[(merged_data['date'] >= start_date) & (merged_data['date'] <= end_date)]\n",
    "\n",
    "# ----- Feature Engineering -----\n",
    "X_days = 7  # Use previous 7 days of closing prices\n",
    "Y_days = 1  # Use previous 1 day of sentiment scores\n",
    "selected_stock_data = selected_stock_data.sort_values('date')\n",
    "closing_values = selected_stock_data['closingValue'].values\n",
    "sentiment_scores = selected_stock_data['sentiment_score'].values\n",
    "\n",
    "features, labels = [], []\n",
    "# For regression, use the closing value at time i as the label\n",
    "for i in range(max(X_days, Y_days), len(selected_stock_data)):\n",
    "    stock_features = closing_values[i - X_days:i]\n",
    "    sentiment_feature = sentiment_scores[i - Y_days:i]\n",
    "    feature_vector = np.concatenate([stock_features, sentiment_feature])\n",
    "    features.append(feature_vector)\n",
    "    labels.append(closing_values[i])  # Predict the closing value at time i\n",
    "\n",
    "features = np.array(features)\n",
    "labels = np.array(labels)\n",
    "\n",
    "# Train-Test Split (no stratification for regression)\n",
    "X_train, X_test, y_train, y_test = train_test_split(\n",
    "    features, labels, test_size=0.2, random_state=random_state\n",
    ")\n",
    "\n",
    "# Define LSTM Model for Regression\n",
    "class StockPriceLSTM(nn.Module):\n",
    "    def __init__(self, input_size, hidden_size, num_layers):\n",
    "        super(StockPriceLSTM, self).__init__()\n",
    "        self.hidden_size = hidden_size\n",
    "        self.num_layers = num_layers\n",
    "        self.lstm = nn.LSTM(input_size, hidden_size, num_layers, batch_first=True)\n",
    "        self.fc = nn.Linear(hidden_size, 1)  # Output a single value\n",
    "        \n",
    "    def forward(self, x):\n",
    "        h0 = torch.zeros(self.num_layers, x.size(0), self.hidden_size)\n",
    "        c0 = torch.zeros(self.num_layers, x.size(0), self.hidden_size)\n",
    "        out, _ = self.lstm(x, (h0, c0))\n",
    "        out = out[:, -1, :]  # Use the last time step's output\n",
    "        out = self.fc(out)\n",
    "        return out\n",
    "\n",
    "# Prepare data for LSTM\n",
    "input_size = 1\n",
    "X_train_seq = X_train.reshape(X_train.shape[0], X_train.shape[1], 1)\n",
    "X_test_seq = X_test.reshape(X_test.shape[0], X_test.shape[1], 1)\n",
    "X_train_tensor = torch.tensor(X_train_seq, dtype=torch.float32)\n",
    "X_test_tensor = torch.tensor(X_test_seq, dtype=torch.float32)\n",
    "# For regression, targets are float values\n",
    "y_train_tensor = torch.tensor(y_train, dtype=torch.float32).view(-1, 1)\n",
    "y_test_tensor = torch.tensor(y_test, dtype=torch.float32).view(-1, 1)\n",
    "\n",
    "# ----- Define W&B Sweep Configuration for Regression -----\n",
    "sweep_config = {\n",
    "    \"method\": \"bayes\",  # Can also be \"random\" or \"grid\"\n",
    "    \"metric\": {\"name\": \"mse\", \"goal\": \"minimize\"},\n",
    "    \"parameters\": {\n",
    "        \"hidden_size\": {\"values\": [16, 32, 64]},\n",
    "        \"num_layers\": {\"values\": [1, 2, 3]},\n",
    "        \"lr\": {\"values\": [0.01, 0.001, 0.0001]},\n",
    "        \"num_epochs\": {\"value\": 10000}  # Fixed for tuning purposes\n",
    "    }\n",
    "}\n",
    "\n",
    "# Create a new project for stock price prediction\n",
    "sweep_id = wandb.sweep(sweep_config, project=\"stock_price_prediction\")\n",
    "\n",
    "# ----- Training Function for Regression -----\n",
    "def train():\n",
    "    wandb.init()\n",
    "    config = wandb.config  # Load sweep parameters\n",
    "\n",
    "    model = StockPriceLSTM(\n",
    "        input_size=1,\n",
    "        hidden_size=config.hidden_size,\n",
    "        num_layers=config.num_layers\n",
    "    )\n",
    "    \n",
    "    criterion = nn.MSELoss()\n",
    "    optimizer = torch.optim.Adam(model.parameters(), lr=config.lr)\n",
    "\n",
    "    num_epochs = config.num_epochs\n",
    "    for epoch in range(num_epochs):\n",
    "        model.train()\n",
    "        outputs = model(X_train_tensor)\n",
    "        loss = criterion(outputs, y_train_tensor)\n",
    "        \n",
    "        optimizer.zero_grad()\n",
    "        loss.backward()\n",
    "        optimizer.step()\n",
    "        \n",
    "        if (epoch + 1) % 100 == 0:\n",
    "            model.eval()\n",
    "            with torch.no_grad():\n",
    "                test_outputs = model(X_test_tensor)\n",
    "                test_loss = criterion(test_outputs, y_test_tensor)\n",
    "                # Log hyperparameters & metrics to wandb\n",
    "                wandb.log({\n",
    "                    \"epoch\": epoch + 1,\n",
    "                    \"train_loss\": loss.item(),\n",
    "                    \"test_mse\": test_loss.item(),\n",
    "                    \"hidden_size\": config.hidden_size,\n",
    "                    \"num_layers\": config.num_layers,\n",
    "                    \"lr\": config.lr\n",
    "                })\n",
    "                print(f\"Epoch {epoch + 1}: Test MSE = {test_loss.item():.4f}\")\n",
    "\n",
    "    wandb.finish()\n",
    "\n",
    "# ----- Run Sweep with Multiple Configurations -----\n",
    "wandb.agent(sweep_id, train, count=10)  # Run 10 different configurations\n"
   ]
  }
 ],
 "metadata": {
  "kernelspec": {
   "display_name": "finance",
   "language": "python",
   "name": "python3"
  },
  "language_info": {
   "codemirror_mode": {
    "name": "ipython",
    "version": 3
   },
   "file_extension": ".py",
   "mimetype": "text/x-python",
   "name": "python",
   "nbconvert_exporter": "python",
   "pygments_lexer": "ipython3",
   "version": "3.10.16"
  }
 },
 "nbformat": 4,
 "nbformat_minor": 2
}
