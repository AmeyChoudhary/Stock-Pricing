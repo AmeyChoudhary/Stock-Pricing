{
 "cells": [
  {
   "cell_type": "code",
   "execution_count": 1,
   "metadata": {},
   "outputs": [
    {
     "name": "stderr",
     "output_type": "stream",
     "text": [
      "wandb: Using wandb-core as the SDK backend.  Please refer to https://wandb.me/wandb-core for more information.\n"
     ]
    },
    {
     "name": "stdout",
     "output_type": "stream",
     "text": [
      "Create sweep with ID: 7pu82bg8\n",
      "Sweep URL: https://wandb.ai/its_mrpsycho/stock_price_prediction/sweeps/7pu82bg8\n"
     ]
    },
    {
     "name": "stderr",
     "output_type": "stream",
     "text": [
      "wandb: Agent Starting Run: 27t6r7fd with config:\n",
      "wandb: \thidden_size: 64\n",
      "wandb: \tlr: 0.0001\n",
      "wandb: \tnum_epochs: 10000\n",
      "wandb: \tnum_layers: 2\n",
      "wandb: Currently logged in as: its_mrpsycho to https://api.wandb.ai. Use `wandb login --relogin` to force relogin\n"
     ]
    },
    {
     "data": {
      "text/html": [
       "Tracking run with wandb version 0.19.8"
      ],
      "text/plain": [
       "<IPython.core.display.HTML object>"
      ]
     },
     "metadata": {},
     "output_type": "display_data"
    },
    {
     "data": {
      "text/html": [
       "Run data is saved locally in <code>d:\\Finance\\Finance\\Option-Pricing\\Option_Pricing\\wandb\\run-20250314_170038-27t6r7fd</code>"
      ],
      "text/plain": [
       "<IPython.core.display.HTML object>"
      ]
     },
     "metadata": {},
     "output_type": "display_data"
    },
    {
     "data": {
      "text/html": [
       "Syncing run <strong><a href='https://wandb.ai/its_mrpsycho/stock_price_prediction/runs/27t6r7fd' target=\"_blank\">young-sweep-1</a></strong> to <a href='https://wandb.ai/its_mrpsycho/stock_price_prediction' target=\"_blank\">Weights & Biases</a> (<a href='https://wandb.me/developer-guide' target=\"_blank\">docs</a>)<br>Sweep page: <a href='https://wandb.ai/its_mrpsycho/stock_price_prediction/sweeps/7pu82bg8' target=\"_blank\">https://wandb.ai/its_mrpsycho/stock_price_prediction/sweeps/7pu82bg8</a>"
      ],
      "text/plain": [
       "<IPython.core.display.HTML object>"
      ]
     },
     "metadata": {},
     "output_type": "display_data"
    },
    {
     "data": {
      "text/html": [
       " View project at <a href='https://wandb.ai/its_mrpsycho/stock_price_prediction' target=\"_blank\">https://wandb.ai/its_mrpsycho/stock_price_prediction</a>"
      ],
      "text/plain": [
       "<IPython.core.display.HTML object>"
      ]
     },
     "metadata": {},
     "output_type": "display_data"
    },
    {
     "data": {
      "text/html": [
       " View sweep at <a href='https://wandb.ai/its_mrpsycho/stock_price_prediction/sweeps/7pu82bg8' target=\"_blank\">https://wandb.ai/its_mrpsycho/stock_price_prediction/sweeps/7pu82bg8</a>"
      ],
      "text/plain": [
       "<IPython.core.display.HTML object>"
      ]
     },
     "metadata": {},
     "output_type": "display_data"
    },
    {
     "data": {
      "text/html": [
       " View run at <a href='https://wandb.ai/its_mrpsycho/stock_price_prediction/runs/27t6r7fd' target=\"_blank\">https://wandb.ai/its_mrpsycho/stock_price_prediction/runs/27t6r7fd</a>"
      ],
      "text/plain": [
       "<IPython.core.display.HTML object>"
      ]
     },
     "metadata": {},
     "output_type": "display_data"
    },
    {
     "name": "stdout",
     "output_type": "stream",
     "text": [
      "Epoch 100: Test MSE = 44683.3164\n",
      "Epoch 200: Test MSE = 43332.8633\n",
      "Epoch 300: Test MSE = 42662.8438\n",
      "Epoch 400: Test MSE = 42242.6094\n",
      "Epoch 500: Test MSE = 41875.2148\n",
      "Epoch 600: Test MSE = 41547.3750\n",
      "Epoch 700: Test MSE = 41240.2109\n",
      "Epoch 800: Test MSE = 40945.5820\n",
      "Epoch 900: Test MSE = 40659.6445\n",
      "Epoch 1000: Test MSE = 40380.2109\n",
      "Epoch 1100: Test MSE = 40105.9102\n",
      "Epoch 1200: Test MSE = 39835.8164\n",
      "Epoch 1300: Test MSE = 39569.2617\n",
      "Epoch 1400: Test MSE = 39305.7734\n",
      "Epoch 1500: Test MSE = 39044.9805\n",
      "Epoch 1600: Test MSE = 38786.5938\n",
      "Epoch 1700: Test MSE = 38530.3828\n",
      "Epoch 1800: Test MSE = 38276.1719\n",
      "Epoch 1900: Test MSE = 38023.8086\n",
      "Epoch 2000: Test MSE = 37773.1562\n",
      "Epoch 2100: Test MSE = 37524.1172\n",
      "Epoch 2200: Test MSE = 37276.6016\n",
      "Epoch 2300: Test MSE = 37030.5312\n",
      "Epoch 2400: Test MSE = 36785.8320\n",
      "Epoch 2500: Test MSE = 36542.4570\n",
      "Epoch 2600: Test MSE = 36300.3477\n",
      "Epoch 2700: Test MSE = 36059.4609\n",
      "Epoch 2800: Test MSE = 35819.7578\n",
      "Epoch 2900: Test MSE = 35581.1992\n",
      "Epoch 3000: Test MSE = 35343.7578\n",
      "Epoch 3100: Test MSE = 35107.4102\n",
      "Epoch 3200: Test MSE = 34872.1211\n",
      "Epoch 3300: Test MSE = 34637.8711\n",
      "Epoch 3400: Test MSE = 34404.6445\n",
      "Epoch 3500: Test MSE = 34172.4180\n",
      "Epoch 3600: Test MSE = 33941.1758\n",
      "Epoch 3700: Test MSE = 33710.9062\n",
      "Epoch 3800: Test MSE = 33481.5938\n",
      "Epoch 3900: Test MSE = 33253.2227\n",
      "Epoch 4000: Test MSE = 33025.7891\n",
      "Epoch 4100: Test MSE = 32799.2773\n",
      "Epoch 4200: Test MSE = 32573.6758\n",
      "Epoch 4300: Test MSE = 32348.9766\n",
      "Epoch 4400: Test MSE = 32125.1816\n",
      "Epoch 4500: Test MSE = 31902.2734\n",
      "Epoch 4600: Test MSE = 31680.2500\n",
      "Epoch 4700: Test MSE = 31459.0996\n",
      "Epoch 4800: Test MSE = 31238.8301\n",
      "Epoch 4900: Test MSE = 31019.4141\n",
      "Epoch 5000: Test MSE = 30800.8750\n",
      "Epoch 5100: Test MSE = 30583.1777\n",
      "Epoch 5200: Test MSE = 30366.3496\n",
      "Epoch 5300: Test MSE = 30150.3633\n",
      "Epoch 5400: Test MSE = 29935.2324\n",
      "Epoch 5500: Test MSE = 29720.9453\n",
      "Epoch 5600: Test MSE = 29507.4805\n",
      "Epoch 5700: Test MSE = 29294.8848\n",
      "Epoch 5800: Test MSE = 29083.1055\n",
      "Epoch 5900: Test MSE = 28872.1523\n",
      "Epoch 6000: Test MSE = 28662.0703\n",
      "Epoch 6100: Test MSE = 28452.7949\n",
      "Epoch 6200: Test MSE = 28244.3242\n",
      "Epoch 6300: Test MSE = 28036.7324\n",
      "Epoch 6400: Test MSE = 27829.9492\n",
      "Epoch 6500: Test MSE = 27623.9609\n",
      "Epoch 6600: Test MSE = 27418.8281\n",
      "Epoch 6700: Test MSE = 27214.5254\n",
      "Epoch 6800: Test MSE = 27011.0156\n",
      "Epoch 6900: Test MSE = 26808.3145\n",
      "Epoch 7000: Test MSE = 26606.4902\n",
      "Epoch 7100: Test MSE = 26405.4609\n",
      "Epoch 7200: Test MSE = 26205.2168\n",
      "Epoch 7300: Test MSE = 26005.8105\n",
      "Epoch 7400: Test MSE = 25807.2578\n",
      "Epoch 7500: Test MSE = 25609.4844\n",
      "Epoch 7600: Test MSE = 25412.4980\n",
      "Epoch 7700: Test MSE = 25216.3809\n",
      "Epoch 7800: Test MSE = 25021.0801\n",
      "Epoch 7900: Test MSE = 24826.5566\n",
      "Epoch 8000: Test MSE = 24632.8281\n",
      "Epoch 8100: Test MSE = 24439.9805\n",
      "Epoch 8200: Test MSE = 24247.9277\n",
      "Epoch 8300: Test MSE = 24056.6543\n",
      "Epoch 8400: Test MSE = 23866.1777\n",
      "Epoch 8500: Test MSE = 23676.5859\n",
      "Epoch 8600: Test MSE = 23487.7734\n",
      "Epoch 8700: Test MSE = 23299.7441\n",
      "Epoch 8800: Test MSE = 23112.5254\n",
      "Epoch 8900: Test MSE = 22926.1523\n",
      "Epoch 9000: Test MSE = 22740.5801\n",
      "Epoch 9100: Test MSE = 22555.8203\n",
      "Epoch 9200: Test MSE = 22371.8867\n",
      "Epoch 9300: Test MSE = 22188.7656\n",
      "Epoch 9400: Test MSE = 22006.4180\n",
      "Epoch 9500: Test MSE = 21824.8477\n",
      "Epoch 9600: Test MSE = 21644.0957\n",
      "Epoch 9700: Test MSE = 21464.1367\n",
      "Epoch 9800: Test MSE = 21285.1016\n",
      "Epoch 9900: Test MSE = 21106.8516\n",
      "Epoch 10000: Test MSE = 20929.3887\n"
     ]
    },
    {
     "data": {
      "text/html": [],
      "text/plain": [
       "<IPython.core.display.HTML object>"
      ]
     },
     "metadata": {},
     "output_type": "display_data"
    },
    {
     "data": {
      "text/html": [
       "<br>    <style><br>        .wandb-row {<br>            display: flex;<br>            flex-direction: row;<br>            flex-wrap: wrap;<br>            justify-content: flex-start;<br>            width: 100%;<br>        }<br>        .wandb-col {<br>            display: flex;<br>            flex-direction: column;<br>            flex-basis: 100%;<br>            flex: 1;<br>            padding: 10px;<br>        }<br>    </style><br><div class=\"wandb-row\"><div class=\"wandb-col\"><h3>Run history:</h3><br/><table class=\"wandb\"><tr><td>epoch</td><td>▁▁▁▂▂▂▂▂▂▂▂▃▃▃▃▃▄▄▄▄▄▅▅▅▅▆▆▆▆▆▇▇▇▇▇▇▇███</td></tr><tr><td>hidden_size</td><td>▁▁▁▁▁▁▁▁▁▁▁▁▁▁▁▁▁▁▁▁▁▁▁▁▁▁▁▁▁▁▁▁▁▁▁▁▁▁▁▁</td></tr><tr><td>lr</td><td>▁▁▁▁▁▁▁▁▁▁▁▁▁▁▁▁▁▁▁▁▁▁▁▁▁▁▁▁▁▁▁▁▁▁▁▁▁▁▁▁</td></tr><tr><td>num_layers</td><td>▁▁▁▁▁▁▁▁▁▁▁▁▁▁▁▁▁▁▁▁▁▁▁▁▁▁▁▁▁▁▁▁▁▁▁▁▁▁▁▁</td></tr><tr><td>test_mse</td><td>█▇▇▇▇▆▆▆▆▆▅▅▅▅▅▅▄▄▄▄▄▄▄▄▃▃▃▃▃▃▂▂▂▂▂▂▂▂▁▁</td></tr><tr><td>train_loss</td><td>█▇▇▇▆▆▆▆▆▆▅▅▅▅▅▄▄▄▄▄▄▄▄▃▃▃▃▃▃▃▂▂▂▂▂▂▁▁▁▁</td></tr></table><br/></div><div class=\"wandb-col\"><h3>Run summary:</h3><br/><table class=\"wandb\"><tr><td>epoch</td><td>10000</td></tr><tr><td>hidden_size</td><td>64</td></tr><tr><td>lr</td><td>0.0001</td></tr><tr><td>num_layers</td><td>2</td></tr><tr><td>test_mse</td><td>20929.38867</td></tr><tr><td>train_loss</td><td>21833.9043</td></tr></table><br/></div></div>"
      ],
      "text/plain": [
       "<IPython.core.display.HTML object>"
      ]
     },
     "metadata": {},
     "output_type": "display_data"
    },
    {
     "data": {
      "text/html": [
       " View run <strong style=\"color:#cdcd00\">young-sweep-1</strong> at: <a href='https://wandb.ai/its_mrpsycho/stock_price_prediction/runs/27t6r7fd' target=\"_blank\">https://wandb.ai/its_mrpsycho/stock_price_prediction/runs/27t6r7fd</a><br> View project at: <a href='https://wandb.ai/its_mrpsycho/stock_price_prediction' target=\"_blank\">https://wandb.ai/its_mrpsycho/stock_price_prediction</a><br>Synced 5 W&B file(s), 0 media file(s), 0 artifact file(s) and 0 other file(s)"
      ],
      "text/plain": [
       "<IPython.core.display.HTML object>"
      ]
     },
     "metadata": {},
     "output_type": "display_data"
    },
    {
     "data": {
      "text/html": [
       "Find logs at: <code>.\\wandb\\run-20250314_170038-27t6r7fd\\logs</code>"
      ],
      "text/plain": [
       "<IPython.core.display.HTML object>"
      ]
     },
     "metadata": {},
     "output_type": "display_data"
    },
    {
     "name": "stderr",
     "output_type": "stream",
     "text": [
      "wandb: Agent Starting Run: d8wrelsa with config:\n",
      "wandb: \thidden_size: 32\n",
      "wandb: \tlr: 0.01\n",
      "wandb: \tnum_epochs: 10000\n",
      "wandb: \tnum_layers: 1\n"
     ]
    },
    {
     "data": {
      "text/html": [
       "Tracking run with wandb version 0.19.8"
      ],
      "text/plain": [
       "<IPython.core.display.HTML object>"
      ]
     },
     "metadata": {},
     "output_type": "display_data"
    },
    {
     "data": {
      "text/html": [
       "Run data is saved locally in <code>d:\\Finance\\Finance\\Option-Pricing\\Option_Pricing\\wandb\\run-20250314_170301-d8wrelsa</code>"
      ],
      "text/plain": [
       "<IPython.core.display.HTML object>"
      ]
     },
     "metadata": {},
     "output_type": "display_data"
    },
    {
     "data": {
      "text/html": [
       "Syncing run <strong><a href='https://wandb.ai/its_mrpsycho/stock_price_prediction/runs/d8wrelsa' target=\"_blank\">cool-sweep-2</a></strong> to <a href='https://wandb.ai/its_mrpsycho/stock_price_prediction' target=\"_blank\">Weights & Biases</a> (<a href='https://wandb.me/developer-guide' target=\"_blank\">docs</a>)<br>Sweep page: <a href='https://wandb.ai/its_mrpsycho/stock_price_prediction/sweeps/7pu82bg8' target=\"_blank\">https://wandb.ai/its_mrpsycho/stock_price_prediction/sweeps/7pu82bg8</a>"
      ],
      "text/plain": [
       "<IPython.core.display.HTML object>"
      ]
     },
     "metadata": {},
     "output_type": "display_data"
    },
    {
     "data": {
      "text/html": [
       " View project at <a href='https://wandb.ai/its_mrpsycho/stock_price_prediction' target=\"_blank\">https://wandb.ai/its_mrpsycho/stock_price_prediction</a>"
      ],
      "text/plain": [
       "<IPython.core.display.HTML object>"
      ]
     },
     "metadata": {},
     "output_type": "display_data"
    },
    {
     "data": {
      "text/html": [
       " View sweep at <a href='https://wandb.ai/its_mrpsycho/stock_price_prediction/sweeps/7pu82bg8' target=\"_blank\">https://wandb.ai/its_mrpsycho/stock_price_prediction/sweeps/7pu82bg8</a>"
      ],
      "text/plain": [
       "<IPython.core.display.HTML object>"
      ]
     },
     "metadata": {},
     "output_type": "display_data"
    },
    {
     "data": {
      "text/html": [
       " View run at <a href='https://wandb.ai/its_mrpsycho/stock_price_prediction/runs/d8wrelsa' target=\"_blank\">https://wandb.ai/its_mrpsycho/stock_price_prediction/runs/d8wrelsa</a>"
      ],
      "text/plain": [
       "<IPython.core.display.HTML object>"
      ]
     },
     "metadata": {},
     "output_type": "display_data"
    },
    {
     "name": "stdout",
     "output_type": "stream",
     "text": [
      "Epoch 100: Test MSE = 32906.2227\n",
      "Epoch 200: Test MSE = 23622.2324\n",
      "Epoch 300: Test MSE = 16747.9355\n",
      "Epoch 400: Test MSE = 11639.4990\n",
      "Epoch 500: Test MSE = 7923.0688\n",
      "Epoch 600: Test MSE = 5298.3374\n",
      "Epoch 700: Test MSE = 3509.4446\n",
      "Epoch 800: Test MSE = 2339.4280\n",
      "Epoch 900: Test MSE = 1609.4794\n",
      "Epoch 1000: Test MSE = 1178.1910\n",
      "Epoch 1100: Test MSE = 939.1794\n",
      "Epoch 1200: Test MSE = 816.5490\n",
      "Epoch 1300: Test MSE = 760.1102\n",
      "Epoch 1400: Test MSE = 498.6687\n",
      "Epoch 1500: Test MSE = 458.8386\n",
      "Epoch 1600: Test MSE = 439.3812\n",
      "Epoch 1700: Test MSE = 428.3558\n",
      "Epoch 1800: Test MSE = 420.1364\n",
      "Epoch 1900: Test MSE = 412.3138\n",
      "Epoch 2000: Test MSE = 404.0389\n",
      "Epoch 2100: Test MSE = 395.1417\n",
      "Epoch 2200: Test MSE = 385.6969\n",
      "Epoch 2300: Test MSE = 375.8374\n",
      "Epoch 2400: Test MSE = 365.6871\n",
      "Epoch 2500: Test MSE = 355.3433\n",
      "Epoch 2600: Test MSE = 344.8780\n",
      "Epoch 2700: Test MSE = 334.3457\n",
      "Epoch 2800: Test MSE = 323.7897\n",
      "Epoch 2900: Test MSE = 310.9709\n",
      "Epoch 3000: Test MSE = 300.8085\n",
      "Epoch 3100: Test MSE = 290.4371\n",
      "Epoch 3200: Test MSE = 278.2164\n",
      "Epoch 3300: Test MSE = 267.0195\n",
      "Epoch 3400: Test MSE = 255.5966\n",
      "Epoch 3500: Test MSE = 245.9421\n",
      "Epoch 3600: Test MSE = 236.6460\n",
      "Epoch 3700: Test MSE = 272.0673\n",
      "Epoch 3800: Test MSE = 219.7913\n",
      "Epoch 3900: Test MSE = 210.2435\n",
      "Epoch 4000: Test MSE = 201.7406\n",
      "Epoch 4100: Test MSE = 199.1083\n",
      "Epoch 4200: Test MSE = 193.8400\n",
      "Epoch 4300: Test MSE = 186.9448\n",
      "Epoch 4400: Test MSE = 180.0388\n",
      "Epoch 4500: Test MSE = 173.3202\n",
      "Epoch 4600: Test MSE = 166.7101\n",
      "Epoch 4700: Test MSE = 160.1341\n",
      "Epoch 4800: Test MSE = 153.7278\n",
      "Epoch 4900: Test MSE = 147.7043\n",
      "Epoch 5000: Test MSE = 142.0369\n",
      "Epoch 5100: Test MSE = 136.6177\n",
      "Epoch 5200: Test MSE = 131.4528\n",
      "Epoch 5300: Test MSE = 126.4864\n",
      "Epoch 5400: Test MSE = 123.5376\n",
      "Epoch 5500: Test MSE = 118.1712\n",
      "Epoch 5600: Test MSE = 113.6273\n",
      "Epoch 5700: Test MSE = 109.1726\n",
      "Epoch 5800: Test MSE = 104.8638\n",
      "Epoch 5900: Test MSE = 100.6038\n",
      "Epoch 6000: Test MSE = 98.4740\n",
      "Epoch 6100: Test MSE = 94.5337\n",
      "Epoch 6200: Test MSE = 91.0531\n",
      "Epoch 6300: Test MSE = 88.3997\n",
      "Epoch 6400: Test MSE = 85.6810\n",
      "Epoch 6500: Test MSE = 82.7464\n",
      "Epoch 6600: Test MSE = 79.8944\n",
      "Epoch 6700: Test MSE = 77.1669\n",
      "Epoch 6800: Test MSE = 74.5569\n",
      "Epoch 6900: Test MSE = 72.0518\n",
      "Epoch 7000: Test MSE = 69.6390\n",
      "Epoch 7100: Test MSE = 67.3083\n",
      "Epoch 7200: Test MSE = 65.0511\n",
      "Epoch 7300: Test MSE = 62.8610\n",
      "Epoch 7400: Test MSE = 60.7333\n",
      "Epoch 7500: Test MSE = 58.6654\n",
      "Epoch 7600: Test MSE = 56.6441\n",
      "Epoch 7700: Test MSE = 52.5685\n",
      "Epoch 7800: Test MSE = 50.8060\n",
      "Epoch 7900: Test MSE = 49.2520\n",
      "Epoch 8000: Test MSE = 48.3264\n",
      "Epoch 8100: Test MSE = 47.6016\n",
      "Epoch 8200: Test MSE = 43.6686\n",
      "Epoch 8300: Test MSE = 42.5100\n",
      "Epoch 8400: Test MSE = 41.4122\n",
      "Epoch 8500: Test MSE = 39.9423\n",
      "Epoch 8600: Test MSE = 40.4878\n",
      "Epoch 8700: Test MSE = 38.0079\n",
      "Epoch 8800: Test MSE = 38.1680\n",
      "Epoch 8900: Test MSE = 37.1378\n",
      "Epoch 9000: Test MSE = 38.4410\n",
      "Epoch 9100: Test MSE = 34.8215\n",
      "Epoch 9200: Test MSE = 33.5107\n",
      "Epoch 9300: Test MSE = 41.3471\n",
      "Epoch 9400: Test MSE = 34.2743\n",
      "Epoch 9500: Test MSE = 31.5842\n",
      "Epoch 9600: Test MSE = 30.9968\n",
      "Epoch 9700: Test MSE = 32.7043\n",
      "Epoch 9800: Test MSE = 29.8192\n",
      "Epoch 9900: Test MSE = 30.5941\n",
      "Epoch 10000: Test MSE = 28.7486\n"
     ]
    },
    {
     "data": {
      "text/html": [],
      "text/plain": [
       "<IPython.core.display.HTML object>"
      ]
     },
     "metadata": {},
     "output_type": "display_data"
    },
    {
     "data": {
      "text/html": [
       "<br>    <style><br>        .wandb-row {<br>            display: flex;<br>            flex-direction: row;<br>            flex-wrap: wrap;<br>            justify-content: flex-start;<br>            width: 100%;<br>        }<br>        .wandb-col {<br>            display: flex;<br>            flex-direction: column;<br>            flex-basis: 100%;<br>            flex: 1;<br>            padding: 10px;<br>        }<br>    </style><br><div class=\"wandb-row\"><div class=\"wandb-col\"><h3>Run history:</h3><br/><table class=\"wandb\"><tr><td>epoch</td><td>▁▁▁▁▂▂▂▃▃▃▃▃▄▄▄▄▄▄▄▅▅▅▅▅▅▆▆▆▆▆▇▇▇▇▇▇▇▇██</td></tr><tr><td>hidden_size</td><td>▁▁▁▁▁▁▁▁▁▁▁▁▁▁▁▁▁▁▁▁▁▁▁▁▁▁▁▁▁▁▁▁▁▁▁▁▁▁▁▁</td></tr><tr><td>lr</td><td>▁▁▁▁▁▁▁▁▁▁▁▁▁▁▁▁▁▁▁▁▁▁▁▁▁▁▁▁▁▁▁▁▁▁▁▁▁▁▁▁</td></tr><tr><td>num_layers</td><td>▁▁▁▁▁▁▁▁▁▁▁▁▁▁▁▁▁▁▁▁▁▁▁▁▁▁▁▁▁▁▁▁▁▁▁▁▁▁▁▁</td></tr><tr><td>test_mse</td><td>█▃▃▁▁▁▁▁▁▁▁▁▁▁▁▁▁▁▁▁▁▁▁▁▁▁▁▁▁▁▁▁▁▁▁▁▁▁▁▁</td></tr><tr><td>train_loss</td><td>█▅▂▂▁▁▁▁▁▁▁▁▁▁▁▁▁▁▁▁▁▁▁▁▁▁▁▁▁▁▁▁▁▁▁▁▁▁▁▁</td></tr></table><br/></div><div class=\"wandb-col\"><h3>Run summary:</h3><br/><table class=\"wandb\"><tr><td>epoch</td><td>10000</td></tr><tr><td>hidden_size</td><td>32</td></tr><tr><td>lr</td><td>0.01</td></tr><tr><td>num_layers</td><td>1</td></tr><tr><td>test_mse</td><td>28.74859</td></tr><tr><td>train_loss</td><td>43.65704</td></tr></table><br/></div></div>"
      ],
      "text/plain": [
       "<IPython.core.display.HTML object>"
      ]
     },
     "metadata": {},
     "output_type": "display_data"
    },
    {
     "data": {
      "text/html": [
       " View run <strong style=\"color:#cdcd00\">cool-sweep-2</strong> at: <a href='https://wandb.ai/its_mrpsycho/stock_price_prediction/runs/d8wrelsa' target=\"_blank\">https://wandb.ai/its_mrpsycho/stock_price_prediction/runs/d8wrelsa</a><br> View project at: <a href='https://wandb.ai/its_mrpsycho/stock_price_prediction' target=\"_blank\">https://wandb.ai/its_mrpsycho/stock_price_prediction</a><br>Synced 5 W&B file(s), 0 media file(s), 0 artifact file(s) and 0 other file(s)"
      ],
      "text/plain": [
       "<IPython.core.display.HTML object>"
      ]
     },
     "metadata": {},
     "output_type": "display_data"
    },
    {
     "data": {
      "text/html": [
       "Find logs at: <code>.\\wandb\\run-20250314_170301-d8wrelsa\\logs</code>"
      ],
      "text/plain": [
       "<IPython.core.display.HTML object>"
      ]
     },
     "metadata": {},
     "output_type": "display_data"
    },
    {
     "name": "stderr",
     "output_type": "stream",
     "text": [
      "wandb: Agent Starting Run: xlzyv4gi with config:\n",
      "wandb: \thidden_size: 64\n",
      "wandb: \tlr: 0.001\n",
      "wandb: \tnum_epochs: 10000\n",
      "wandb: \tnum_layers: 2\n"
     ]
    },
    {
     "data": {
      "text/html": [
       "Tracking run with wandb version 0.19.8"
      ],
      "text/plain": [
       "<IPython.core.display.HTML object>"
      ]
     },
     "metadata": {},
     "output_type": "display_data"
    },
    {
     "data": {
      "text/html": [
       "Run data is saved locally in <code>d:\\Finance\\Finance\\Option-Pricing\\Option_Pricing\\wandb\\run-20250314_170339-xlzyv4gi</code>"
      ],
      "text/plain": [
       "<IPython.core.display.HTML object>"
      ]
     },
     "metadata": {},
     "output_type": "display_data"
    },
    {
     "data": {
      "text/html": [
       "Syncing run <strong><a href='https://wandb.ai/its_mrpsycho/stock_price_prediction/runs/xlzyv4gi' target=\"_blank\">amber-sweep-3</a></strong> to <a href='https://wandb.ai/its_mrpsycho/stock_price_prediction' target=\"_blank\">Weights & Biases</a> (<a href='https://wandb.me/developer-guide' target=\"_blank\">docs</a>)<br>Sweep page: <a href='https://wandb.ai/its_mrpsycho/stock_price_prediction/sweeps/7pu82bg8' target=\"_blank\">https://wandb.ai/its_mrpsycho/stock_price_prediction/sweeps/7pu82bg8</a>"
      ],
      "text/plain": [
       "<IPython.core.display.HTML object>"
      ]
     },
     "metadata": {},
     "output_type": "display_data"
    },
    {
     "data": {
      "text/html": [
       " View project at <a href='https://wandb.ai/its_mrpsycho/stock_price_prediction' target=\"_blank\">https://wandb.ai/its_mrpsycho/stock_price_prediction</a>"
      ],
      "text/plain": [
       "<IPython.core.display.HTML object>"
      ]
     },
     "metadata": {},
     "output_type": "display_data"
    },
    {
     "data": {
      "text/html": [
       " View sweep at <a href='https://wandb.ai/its_mrpsycho/stock_price_prediction/sweeps/7pu82bg8' target=\"_blank\">https://wandb.ai/its_mrpsycho/stock_price_prediction/sweeps/7pu82bg8</a>"
      ],
      "text/plain": [
       "<IPython.core.display.HTML object>"
      ]
     },
     "metadata": {},
     "output_type": "display_data"
    },
    {
     "data": {
      "text/html": [
       " View run at <a href='https://wandb.ai/its_mrpsycho/stock_price_prediction/runs/xlzyv4gi' target=\"_blank\">https://wandb.ai/its_mrpsycho/stock_price_prediction/runs/xlzyv4gi</a>"
      ],
      "text/plain": [
       "<IPython.core.display.HTML object>"
      ]
     },
     "metadata": {},
     "output_type": "display_data"
    },
    {
     "name": "stdout",
     "output_type": "stream",
     "text": [
      "Epoch 100: Test MSE = 40499.4336\n",
      "Epoch 200: Test MSE = 37693.8242\n",
      "Epoch 300: Test MSE = 35180.6914\n",
      "Epoch 400: Test MSE = 32839.8477\n",
      "Epoch 500: Test MSE = 30638.7520\n",
      "Epoch 600: Test MSE = 28561.5625\n",
      "Epoch 700: Test MSE = 26598.3496\n",
      "Epoch 800: Test MSE = 24741.9121\n",
      "Epoch 900: Test MSE = 22986.4746\n",
      "Epoch 1000: Test MSE = 21327.1602\n",
      "Epoch 1100: Test MSE = 19759.6484\n",
      "Epoch 1200: Test MSE = 18280.0332\n",
      "Epoch 1300: Test MSE = 16884.7168\n",
      "Epoch 1400: Test MSE = 15570.3262\n",
      "Epoch 1500: Test MSE = 14333.6875\n",
      "Epoch 1600: Test MSE = 13171.7695\n",
      "Epoch 1700: Test MSE = 12081.6826\n",
      "Epoch 1800: Test MSE = 11060.6367\n",
      "Epoch 1900: Test MSE = 10105.9277\n",
      "Epoch 2000: Test MSE = 9214.9570\n",
      "Epoch 2100: Test MSE = 8385.1758\n",
      "Epoch 2200: Test MSE = 7614.0938\n",
      "Epoch 2300: Test MSE = 6899.2715\n",
      "Epoch 2400: Test MSE = 6238.3213\n",
      "Epoch 2500: Test MSE = 5628.8867\n",
      "Epoch 2600: Test MSE = 5068.6362\n",
      "Epoch 2700: Test MSE = 4555.2754\n",
      "Epoch 2800: Test MSE = 4086.5303\n",
      "Epoch 2900: Test MSE = 3660.1287\n",
      "Epoch 3000: Test MSE = 3273.8389\n",
      "Epoch 3100: Test MSE = 2925.4331\n",
      "Epoch 3200: Test MSE = 2612.6943\n",
      "Epoch 3300: Test MSE = 2333.4282\n",
      "Epoch 3400: Test MSE = 2085.4561\n",
      "Epoch 3500: Test MSE = 1866.6110\n",
      "Epoch 3600: Test MSE = 1674.7611\n",
      "Epoch 3700: Test MSE = 1507.7953\n",
      "Epoch 3800: Test MSE = 1363.6356\n",
      "Epoch 3900: Test MSE = 1240.2539\n",
      "Epoch 4000: Test MSE = 1135.6643\n",
      "Epoch 4100: Test MSE = 1047.9417\n",
      "Epoch 4200: Test MSE = 975.2341\n",
      "Epoch 4300: Test MSE = 915.7631\n",
      "Epoch 4400: Test MSE = 867.8432\n",
      "Epoch 4500: Test MSE = 829.8879\n",
      "Epoch 4600: Test MSE = 800.4187\n",
      "Epoch 4700: Test MSE = 778.0745\n",
      "Epoch 4800: Test MSE = 761.6171\n",
      "Epoch 4900: Test MSE = 749.9358\n",
      "Epoch 5000: Test MSE = 742.0496\n",
      "Epoch 5100: Test MSE = 737.1065\n",
      "Epoch 5200: Test MSE = 734.3808\n",
      "Epoch 5300: Test MSE = 733.2667\n",
      "Epoch 5400: Test MSE = 733.2695\n",
      "Epoch 5500: Test MSE = 733.9971\n",
      "Epoch 5600: Test MSE = 735.1472\n",
      "Epoch 5700: Test MSE = 736.4983\n",
      "Epoch 5800: Test MSE = 737.8898\n",
      "Epoch 5900: Test MSE = 739.2177\n",
      "Epoch 6000: Test MSE = 740.4187\n",
      "Epoch 6100: Test MSE = 741.4596\n",
      "Epoch 6200: Test MSE = 742.3328\n",
      "Epoch 6300: Test MSE = 743.0430\n",
      "Epoch 6400: Test MSE = 743.6039\n",
      "Epoch 6500: Test MSE = 582.7296\n",
      "Epoch 6600: Test MSE = 170.1822\n",
      "Epoch 6700: Test MSE = 127.1537\n",
      "Epoch 6800: Test MSE = 96.3073\n",
      "Epoch 6900: Test MSE = 73.6964\n",
      "Epoch 7000: Test MSE = 58.4378\n",
      "Epoch 7100: Test MSE = 47.9226\n",
      "Epoch 7200: Test MSE = 40.1662\n",
      "Epoch 7300: Test MSE = 33.7966\n",
      "Epoch 7400: Test MSE = 29.0987\n",
      "Epoch 7500: Test MSE = 24.8893\n",
      "Epoch 7600: Test MSE = 21.7671\n",
      "Epoch 7700: Test MSE = 19.1348\n",
      "Epoch 7800: Test MSE = 16.9062\n",
      "Epoch 7900: Test MSE = 15.0146\n",
      "Epoch 8000: Test MSE = 13.6941\n",
      "Epoch 8100: Test MSE = 12.5820\n",
      "Epoch 8200: Test MSE = 11.4827\n",
      "Epoch 8300: Test MSE = 10.8615\n",
      "Epoch 8400: Test MSE = 9.8437\n",
      "Epoch 8500: Test MSE = 9.0438\n",
      "Epoch 8600: Test MSE = 8.9992\n",
      "Epoch 8700: Test MSE = 8.1142\n",
      "Epoch 8800: Test MSE = 7.9923\n",
      "Epoch 8900: Test MSE = 8.0240\n",
      "Epoch 9000: Test MSE = 8.0426\n",
      "Epoch 9100: Test MSE = 7.2274\n",
      "Epoch 9200: Test MSE = 7.1112\n",
      "Epoch 9300: Test MSE = 6.9944\n",
      "Epoch 9400: Test MSE = 6.8997\n",
      "Epoch 9500: Test MSE = 6.8335\n",
      "Epoch 9600: Test MSE = 6.7929\n",
      "Epoch 9700: Test MSE = 6.7787\n",
      "Epoch 9800: Test MSE = 6.7678\n",
      "Epoch 9900: Test MSE = 7.1174\n",
      "Epoch 10000: Test MSE = 6.7519\n"
     ]
    },
    {
     "data": {
      "text/html": [],
      "text/plain": [
       "<IPython.core.display.HTML object>"
      ]
     },
     "metadata": {},
     "output_type": "display_data"
    },
    {
     "data": {
      "text/html": [
       "<br>    <style><br>        .wandb-row {<br>            display: flex;<br>            flex-direction: row;<br>            flex-wrap: wrap;<br>            justify-content: flex-start;<br>            width: 100%;<br>        }<br>        .wandb-col {<br>            display: flex;<br>            flex-direction: column;<br>            flex-basis: 100%;<br>            flex: 1;<br>            padding: 10px;<br>        }<br>    </style><br><div class=\"wandb-row\"><div class=\"wandb-col\"><h3>Run history:</h3><br/><table class=\"wandb\"><tr><td>epoch</td><td>▁▁▂▂▂▂▂▃▃▃▃▃▃▃▃▃▃▄▄▄▄▅▅▅▅▅▅▆▆▆▆▆▇▇▇▇▇▇██</td></tr><tr><td>hidden_size</td><td>▁▁▁▁▁▁▁▁▁▁▁▁▁▁▁▁▁▁▁▁▁▁▁▁▁▁▁▁▁▁▁▁▁▁▁▁▁▁▁▁</td></tr><tr><td>lr</td><td>▁▁▁▁▁▁▁▁▁▁▁▁▁▁▁▁▁▁▁▁▁▁▁▁▁▁▁▁▁▁▁▁▁▁▁▁▁▁▁▁</td></tr><tr><td>num_layers</td><td>▁▁▁▁▁▁▁▁▁▁▁▁▁▁▁▁▁▁▁▁▁▁▁▁▁▁▁▁▁▁▁▁▁▁▁▁▁▁▁▁</td></tr><tr><td>test_mse</td><td>██▆▄▃▃▃▂▂▂▂▁▁▁▁▁▁▁▁▁▁▁▁▁▁▁▁▁▁▁▁▁▁▁▁▁▁▁▁▁</td></tr><tr><td>train_loss</td><td>██▇▆▄▄▄▃▂▂▂▂▁▁▁▁▁▁▁▁▁▁▁▁▁▁▁▁▁▁▁▁▁▁▁▁▁▁▁▁</td></tr></table><br/></div><div class=\"wandb-col\"><h3>Run summary:</h3><br/><table class=\"wandb\"><tr><td>epoch</td><td>10000</td></tr><tr><td>hidden_size</td><td>64</td></tr><tr><td>lr</td><td>0.001</td></tr><tr><td>num_layers</td><td>2</td></tr><tr><td>test_mse</td><td>6.75193</td></tr><tr><td>train_loss</td><td>10.54327</td></tr></table><br/></div></div>"
      ],
      "text/plain": [
       "<IPython.core.display.HTML object>"
      ]
     },
     "metadata": {},
     "output_type": "display_data"
    },
    {
     "data": {
      "text/html": [
       " View run <strong style=\"color:#cdcd00\">amber-sweep-3</strong> at: <a href='https://wandb.ai/its_mrpsycho/stock_price_prediction/runs/xlzyv4gi' target=\"_blank\">https://wandb.ai/its_mrpsycho/stock_price_prediction/runs/xlzyv4gi</a><br> View project at: <a href='https://wandb.ai/its_mrpsycho/stock_price_prediction' target=\"_blank\">https://wandb.ai/its_mrpsycho/stock_price_prediction</a><br>Synced 5 W&B file(s), 0 media file(s), 0 artifact file(s) and 0 other file(s)"
      ],
      "text/plain": [
       "<IPython.core.display.HTML object>"
      ]
     },
     "metadata": {},
     "output_type": "display_data"
    },
    {
     "data": {
      "text/html": [
       "Find logs at: <code>.\\wandb\\run-20250314_170339-xlzyv4gi\\logs</code>"
      ],
      "text/plain": [
       "<IPython.core.display.HTML object>"
      ]
     },
     "metadata": {},
     "output_type": "display_data"
    },
    {
     "name": "stderr",
     "output_type": "stream",
     "text": [
      "wandb: Agent Starting Run: jm7v112w with config:\n",
      "wandb: \thidden_size: 64\n",
      "wandb: \tlr: 0.01\n",
      "wandb: \tnum_epochs: 10000\n",
      "wandb: \tnum_layers: 1\n"
     ]
    },
    {
     "data": {
      "text/html": [
       "Tracking run with wandb version 0.19.8"
      ],
      "text/plain": [
       "<IPython.core.display.HTML object>"
      ]
     },
     "metadata": {},
     "output_type": "display_data"
    },
    {
     "data": {
      "text/html": [
       "Run data is saved locally in <code>d:\\Finance\\Finance\\Option-Pricing\\Option_Pricing\\wandb\\run-20250314_170550-jm7v112w</code>"
      ],
      "text/plain": [
       "<IPython.core.display.HTML object>"
      ]
     },
     "metadata": {},
     "output_type": "display_data"
    },
    {
     "data": {
      "text/html": [
       "Syncing run <strong><a href='https://wandb.ai/its_mrpsycho/stock_price_prediction/runs/jm7v112w' target=\"_blank\">bright-sweep-4</a></strong> to <a href='https://wandb.ai/its_mrpsycho/stock_price_prediction' target=\"_blank\">Weights & Biases</a> (<a href='https://wandb.me/developer-guide' target=\"_blank\">docs</a>)<br>Sweep page: <a href='https://wandb.ai/its_mrpsycho/stock_price_prediction/sweeps/7pu82bg8' target=\"_blank\">https://wandb.ai/its_mrpsycho/stock_price_prediction/sweeps/7pu82bg8</a>"
      ],
      "text/plain": [
       "<IPython.core.display.HTML object>"
      ]
     },
     "metadata": {},
     "output_type": "display_data"
    },
    {
     "data": {
      "text/html": [
       " View project at <a href='https://wandb.ai/its_mrpsycho/stock_price_prediction' target=\"_blank\">https://wandb.ai/its_mrpsycho/stock_price_prediction</a>"
      ],
      "text/plain": [
       "<IPython.core.display.HTML object>"
      ]
     },
     "metadata": {},
     "output_type": "display_data"
    },
    {
     "data": {
      "text/html": [
       " View sweep at <a href='https://wandb.ai/its_mrpsycho/stock_price_prediction/sweeps/7pu82bg8' target=\"_blank\">https://wandb.ai/its_mrpsycho/stock_price_prediction/sweeps/7pu82bg8</a>"
      ],
      "text/plain": [
       "<IPython.core.display.HTML object>"
      ]
     },
     "metadata": {},
     "output_type": "display_data"
    },
    {
     "data": {
      "text/html": [
       " View run at <a href='https://wandb.ai/its_mrpsycho/stock_price_prediction/runs/jm7v112w' target=\"_blank\">https://wandb.ai/its_mrpsycho/stock_price_prediction/runs/jm7v112w</a>"
      ],
      "text/plain": [
       "<IPython.core.display.HTML object>"
      ]
     },
     "metadata": {},
     "output_type": "display_data"
    },
    {
     "name": "stdout",
     "output_type": "stream",
     "text": [
      "Epoch 100: Test MSE = 23531.2109\n",
      "Epoch 200: Test MSE = 11361.8320\n",
      "Epoch 300: Test MSE = 5105.4214\n",
      "Epoch 400: Test MSE = 2250.6687\n",
      "Epoch 500: Test MSE = 1095.7351\n",
      "Epoch 600: Test MSE = 791.5762\n",
      "Epoch 700: Test MSE = 735.6225\n",
      "Epoch 800: Test MSE = 735.0419\n",
      "Epoch 900: Test MSE = 740.3013\n",
      "Epoch 1000: Test MSE = 743.3410\n",
      "Epoch 1100: Test MSE = 744.5669\n",
      "Epoch 1200: Test MSE = 744.9799\n",
      "Epoch 1300: Test MSE = 745.1010\n",
      "Epoch 1400: Test MSE = 743.0901\n",
      "Epoch 1500: Test MSE = 743.6392\n",
      "Epoch 1600: Test MSE = 738.0089\n",
      "Epoch 1700: Test MSE = 743.8617\n",
      "Epoch 1800: Test MSE = 744.9744\n",
      "Epoch 1900: Test MSE = 745.1248\n",
      "Epoch 2000: Test MSE = 742.8579\n",
      "Epoch 2100: Test MSE = 745.2230\n",
      "Epoch 2200: Test MSE = 743.7251\n",
      "Epoch 2300: Test MSE = 735.0221\n",
      "Epoch 2400: Test MSE = 698.3389\n",
      "Epoch 2500: Test MSE = 145.6352\n",
      "Epoch 2600: Test MSE = 106.7576\n",
      "Epoch 2700: Test MSE = 59.2697\n",
      "Epoch 2800: Test MSE = 51.9423\n",
      "Epoch 2900: Test MSE = 42.7735\n",
      "Epoch 3000: Test MSE = 29.4225\n",
      "Epoch 3100: Test MSE = 171.6829\n",
      "Epoch 3200: Test MSE = 23.8925\n",
      "Epoch 3300: Test MSE = 18.9930\n",
      "Epoch 3400: Test MSE = 17.4624\n",
      "Epoch 3500: Test MSE = 16.4692\n",
      "Epoch 3600: Test MSE = 16.2457\n",
      "Epoch 3700: Test MSE = 15.9743\n",
      "Epoch 3800: Test MSE = 21.4098\n",
      "Epoch 3900: Test MSE = 16.4033\n",
      "Epoch 4000: Test MSE = 16.1057\n",
      "Epoch 4100: Test MSE = 17.6817\n",
      "Epoch 4200: Test MSE = 17.5105\n",
      "Epoch 4300: Test MSE = 16.2642\n",
      "Epoch 4400: Test MSE = 16.2361\n",
      "Epoch 4500: Test MSE = 15.9856\n",
      "Epoch 4600: Test MSE = 16.1680\n",
      "Epoch 4700: Test MSE = 15.4262\n",
      "Epoch 4800: Test MSE = 38.1532\n",
      "Epoch 4900: Test MSE = 16.3734\n",
      "Epoch 5000: Test MSE = 43.3895\n",
      "Epoch 5100: Test MSE = 21.8442\n",
      "Epoch 5200: Test MSE = 16.5014\n",
      "Epoch 5300: Test MSE = 16.0942\n",
      "Epoch 5400: Test MSE = 15.9184\n",
      "Epoch 5500: Test MSE = 15.9789\n",
      "Epoch 5600: Test MSE = 16.1902\n",
      "Epoch 5700: Test MSE = 16.0735\n",
      "Epoch 5800: Test MSE = 16.0475\n",
      "Epoch 5900: Test MSE = 16.3616\n",
      "Epoch 6000: Test MSE = 15.9877\n",
      "Epoch 6100: Test MSE = 16.0115\n",
      "Epoch 6200: Test MSE = 15.9612\n",
      "Epoch 6300: Test MSE = 28.2221\n",
      "Epoch 6400: Test MSE = 15.9919\n",
      "Epoch 6500: Test MSE = 15.4422\n",
      "Epoch 6600: Test MSE = 15.1930\n",
      "Epoch 6700: Test MSE = 15.2712\n",
      "Epoch 6800: Test MSE = 15.8911\n",
      "Epoch 6900: Test MSE = 15.5313\n",
      "Epoch 7000: Test MSE = 15.6175\n",
      "Epoch 7100: Test MSE = 15.6877\n",
      "Epoch 7200: Test MSE = 15.8610\n",
      "Epoch 7300: Test MSE = 15.9821\n",
      "Epoch 7400: Test MSE = 15.7594\n",
      "Epoch 7500: Test MSE = 15.7570\n",
      "Epoch 7600: Test MSE = 15.7575\n",
      "Epoch 7700: Test MSE = 15.7560\n",
      "Epoch 7800: Test MSE = 15.7495\n",
      "Epoch 7900: Test MSE = 15.7373\n",
      "Epoch 8000: Test MSE = 15.7229\n",
      "Epoch 8100: Test MSE = 18.2564\n",
      "Epoch 8200: Test MSE = 15.7078\n",
      "Epoch 8300: Test MSE = 15.5569\n",
      "Epoch 8400: Test MSE = 15.6839\n",
      "Epoch 8500: Test MSE = 16.8445\n",
      "Epoch 8600: Test MSE = 15.6927\n",
      "Epoch 8700: Test MSE = 15.6418\n",
      "Epoch 8800: Test MSE = 35.1813\n",
      "Epoch 8900: Test MSE = 15.5463\n",
      "Epoch 9000: Test MSE = 15.4742\n",
      "Epoch 9100: Test MSE = 15.5014\n",
      "Epoch 9200: Test MSE = 15.5298\n",
      "Epoch 9300: Test MSE = 15.5335\n",
      "Epoch 9400: Test MSE = 15.5262\n",
      "Epoch 9500: Test MSE = 15.5020\n",
      "Epoch 9600: Test MSE = 15.4761\n",
      "Epoch 9700: Test MSE = 15.5019\n",
      "Epoch 9800: Test MSE = 15.4869\n",
      "Epoch 9900: Test MSE = 15.4735\n",
      "Epoch 10000: Test MSE = 15.4671\n"
     ]
    },
    {
     "data": {
      "text/html": [],
      "text/plain": [
       "<IPython.core.display.HTML object>"
      ]
     },
     "metadata": {},
     "output_type": "display_data"
    },
    {
     "data": {
      "text/html": [
       "<br>    <style><br>        .wandb-row {<br>            display: flex;<br>            flex-direction: row;<br>            flex-wrap: wrap;<br>            justify-content: flex-start;<br>            width: 100%;<br>        }<br>        .wandb-col {<br>            display: flex;<br>            flex-direction: column;<br>            flex-basis: 100%;<br>            flex: 1;<br>            padding: 10px;<br>        }<br>    </style><br><div class=\"wandb-row\"><div class=\"wandb-col\"><h3>Run history:</h3><br/><table class=\"wandb\"><tr><td>epoch</td><td>▁▁▁▁▁▂▂▂▂▂▂▃▃▃▃▃▃▃▄▄▄▄▄▄▅▅▅▅▅▆▆▆▆▆▇▇▇▇██</td></tr><tr><td>hidden_size</td><td>▁▁▁▁▁▁▁▁▁▁▁▁▁▁▁▁▁▁▁▁▁▁▁▁▁▁▁▁▁▁▁▁▁▁▁▁▁▁▁▁</td></tr><tr><td>lr</td><td>▁▁▁▁▁▁▁▁▁▁▁▁▁▁▁▁▁▁▁▁▁▁▁▁▁▁▁▁▁▁▁▁▁▁▁▁▁▁▁▁</td></tr><tr><td>num_layers</td><td>▁▁▁▁▁▁▁▁▁▁▁▁▁▁▁▁▁▁▁▁▁▁▁▁▁▁▁▁▁▁▁▁▁▁▁▁▁▁▁▁</td></tr><tr><td>test_mse</td><td>█▄▃▂▁▁▁▁▁▁▁▁▁▁▁▁▁▁▁▁▁▁▁▁▁▁▁▁▁▁▁▁▁▁▁▁▁▁▁▁</td></tr><tr><td>train_loss</td><td>█▁▁▁▁▁▁▁▁▁▁▁▁▁▁▁▁▁▁▁▁▁▁▁▁▁▁▁▁▁▁▁▁▁▁▁▁▁▁▁</td></tr></table><br/></div><div class=\"wandb-col\"><h3>Run summary:</h3><br/><table class=\"wandb\"><tr><td>epoch</td><td>10000</td></tr><tr><td>hidden_size</td><td>64</td></tr><tr><td>lr</td><td>0.01</td></tr><tr><td>num_layers</td><td>1</td></tr><tr><td>test_mse</td><td>15.46708</td></tr><tr><td>train_loss</td><td>21.8055</td></tr></table><br/></div></div>"
      ],
      "text/plain": [
       "<IPython.core.display.HTML object>"
      ]
     },
     "metadata": {},
     "output_type": "display_data"
    },
    {
     "data": {
      "text/html": [
       " View run <strong style=\"color:#cdcd00\">bright-sweep-4</strong> at: <a href='https://wandb.ai/its_mrpsycho/stock_price_prediction/runs/jm7v112w' target=\"_blank\">https://wandb.ai/its_mrpsycho/stock_price_prediction/runs/jm7v112w</a><br> View project at: <a href='https://wandb.ai/its_mrpsycho/stock_price_prediction' target=\"_blank\">https://wandb.ai/its_mrpsycho/stock_price_prediction</a><br>Synced 5 W&B file(s), 0 media file(s), 0 artifact file(s) and 0 other file(s)"
      ],
      "text/plain": [
       "<IPython.core.display.HTML object>"
      ]
     },
     "metadata": {},
     "output_type": "display_data"
    },
    {
     "data": {
      "text/html": [
       "Find logs at: <code>.\\wandb\\run-20250314_170550-jm7v112w\\logs</code>"
      ],
      "text/plain": [
       "<IPython.core.display.HTML object>"
      ]
     },
     "metadata": {},
     "output_type": "display_data"
    },
    {
     "name": "stderr",
     "output_type": "stream",
     "text": [
      "wandb: Agent Starting Run: s9ofzjng with config:\n",
      "wandb: \thidden_size: 64\n",
      "wandb: \tlr: 0.001\n",
      "wandb: \tnum_epochs: 10000\n",
      "wandb: \tnum_layers: 1\n"
     ]
    },
    {
     "data": {
      "text/html": [
       "Tracking run with wandb version 0.19.8"
      ],
      "text/plain": [
       "<IPython.core.display.HTML object>"
      ]
     },
     "metadata": {},
     "output_type": "display_data"
    },
    {
     "data": {
      "text/html": [
       "Run data is saved locally in <code>d:\\Finance\\Finance\\Option-Pricing\\Option_Pricing\\wandb\\run-20250314_170726-s9ofzjng</code>"
      ],
      "text/plain": [
       "<IPython.core.display.HTML object>"
      ]
     },
     "metadata": {},
     "output_type": "display_data"
    },
    {
     "data": {
      "text/html": [
       "Syncing run <strong><a href='https://wandb.ai/its_mrpsycho/stock_price_prediction/runs/s9ofzjng' target=\"_blank\">brisk-sweep-5</a></strong> to <a href='https://wandb.ai/its_mrpsycho/stock_price_prediction' target=\"_blank\">Weights & Biases</a> (<a href='https://wandb.me/developer-guide' target=\"_blank\">docs</a>)<br>Sweep page: <a href='https://wandb.ai/its_mrpsycho/stock_price_prediction/sweeps/7pu82bg8' target=\"_blank\">https://wandb.ai/its_mrpsycho/stock_price_prediction/sweeps/7pu82bg8</a>"
      ],
      "text/plain": [
       "<IPython.core.display.HTML object>"
      ]
     },
     "metadata": {},
     "output_type": "display_data"
    },
    {
     "data": {
      "text/html": [
       " View project at <a href='https://wandb.ai/its_mrpsycho/stock_price_prediction' target=\"_blank\">https://wandb.ai/its_mrpsycho/stock_price_prediction</a>"
      ],
      "text/plain": [
       "<IPython.core.display.HTML object>"
      ]
     },
     "metadata": {},
     "output_type": "display_data"
    },
    {
     "data": {
      "text/html": [
       " View sweep at <a href='https://wandb.ai/its_mrpsycho/stock_price_prediction/sweeps/7pu82bg8' target=\"_blank\">https://wandb.ai/its_mrpsycho/stock_price_prediction/sweeps/7pu82bg8</a>"
      ],
      "text/plain": [
       "<IPython.core.display.HTML object>"
      ]
     },
     "metadata": {},
     "output_type": "display_data"
    },
    {
     "data": {
      "text/html": [
       " View run at <a href='https://wandb.ai/its_mrpsycho/stock_price_prediction/runs/s9ofzjng' target=\"_blank\">https://wandb.ai/its_mrpsycho/stock_price_prediction/runs/s9ofzjng</a>"
      ],
      "text/plain": [
       "<IPython.core.display.HTML object>"
      ]
     },
     "metadata": {},
     "output_type": "display_data"
    },
    {
     "name": "stdout",
     "output_type": "stream",
     "text": [
      "Epoch 100: Test MSE = 41532.6289\n",
      "Epoch 200: Test MSE = 38494.5508\n",
      "Epoch 300: Test MSE = 36009.0000\n",
      "Epoch 400: Test MSE = 33772.7109\n",
      "Epoch 500: Test MSE = 31695.5254\n",
      "Epoch 600: Test MSE = 29744.0469\n",
      "Epoch 700: Test MSE = 27900.8320\n",
      "Epoch 800: Test MSE = 26155.0645\n",
      "Epoch 900: Test MSE = 24499.0996\n",
      "Epoch 1000: Test MSE = 22927.1543\n",
      "Epoch 1100: Test MSE = 21434.5605\n",
      "Epoch 1200: Test MSE = 20017.3906\n",
      "Epoch 1300: Test MSE = 18672.2246\n",
      "Epoch 1400: Test MSE = 17396.0254\n",
      "Epoch 1500: Test MSE = 16186.0273\n",
      "Epoch 1600: Test MSE = 15039.6836\n",
      "Epoch 1700: Test MSE = 13954.6299\n",
      "Epoch 1800: Test MSE = 12928.6396\n",
      "Epoch 1900: Test MSE = 11959.6016\n",
      "Epoch 2000: Test MSE = 11045.5049\n",
      "Epoch 2100: Test MSE = 10184.4209\n",
      "Epoch 2200: Test MSE = 9374.4854\n",
      "Epoch 2300: Test MSE = 8613.9043\n",
      "Epoch 2400: Test MSE = 7900.9170\n",
      "Epoch 2500: Test MSE = 7233.8188\n",
      "Epoch 2600: Test MSE = 6610.9316\n",
      "Epoch 2700: Test MSE = 6030.6064\n",
      "Epoch 2800: Test MSE = 5491.2227\n",
      "Epoch 2900: Test MSE = 4991.1704\n",
      "Epoch 3000: Test MSE = 4528.8638\n",
      "Epoch 3100: Test MSE = 4102.7178\n",
      "Epoch 3200: Test MSE = 3711.1633\n",
      "Epoch 3300: Test MSE = 3352.6318\n",
      "Epoch 3400: Test MSE = 3025.5576\n",
      "Epoch 3500: Test MSE = 2728.3804\n",
      "Epoch 3600: Test MSE = 2459.5359\n",
      "Epoch 3700: Test MSE = 2217.4670\n",
      "Epoch 3800: Test MSE = 2000.6155\n",
      "Epoch 3900: Test MSE = 1807.4230\n",
      "Epoch 4000: Test MSE = 1636.3395\n",
      "Epoch 4100: Test MSE = 1485.8264\n",
      "Epoch 4200: Test MSE = 1354.3500\n",
      "Epoch 4300: Test MSE = 1240.3977\n",
      "Epoch 4400: Test MSE = 1142.4751\n",
      "Epoch 4500: Test MSE = 1059.1223\n",
      "Epoch 4600: Test MSE = 988.2167\n",
      "Epoch 4700: Test MSE = 854.8246\n",
      "Epoch 4800: Test MSE = 765.8195\n",
      "Epoch 4900: Test MSE = 708.6524\n",
      "Epoch 5000: Test MSE = 597.0782\n",
      "Epoch 5100: Test MSE = 548.3704\n",
      "Epoch 5200: Test MSE = 508.6436\n",
      "Epoch 5300: Test MSE = 476.6218\n",
      "Epoch 5400: Test MSE = 451.1468\n",
      "Epoch 5500: Test MSE = 431.1356\n",
      "Epoch 5600: Test MSE = 415.5934\n",
      "Epoch 5700: Test MSE = 403.6300\n",
      "Epoch 5800: Test MSE = 394.4642\n",
      "Epoch 5900: Test MSE = 387.4257\n",
      "Epoch 6000: Test MSE = 381.9490\n",
      "Epoch 6100: Test MSE = 377.5786\n",
      "Epoch 6200: Test MSE = 373.9991\n",
      "Epoch 6300: Test MSE = 370.7863\n",
      "Epoch 6400: Test MSE = 367.8087\n",
      "Epoch 6500: Test MSE = 364.8219\n",
      "Epoch 6600: Test MSE = 362.0752\n",
      "Epoch 6700: Test MSE = 359.2103\n",
      "Epoch 6800: Test MSE = 356.2086\n",
      "Epoch 6900: Test MSE = 353.0439\n",
      "Epoch 7000: Test MSE = 349.7005\n",
      "Epoch 7100: Test MSE = 346.1782\n",
      "Epoch 7200: Test MSE = 342.4866\n",
      "Epoch 7300: Test MSE = 338.6410\n",
      "Epoch 7400: Test MSE = 334.6591\n",
      "Epoch 7500: Test MSE = 330.5602\n",
      "Epoch 7600: Test MSE = 326.3583\n",
      "Epoch 7700: Test MSE = 321.8728\n",
      "Epoch 7800: Test MSE = 153.2618\n",
      "Epoch 7900: Test MSE = 80.6952\n",
      "Epoch 8000: Test MSE = 68.3864\n",
      "Epoch 8100: Test MSE = 61.1562\n",
      "Epoch 8200: Test MSE = 56.6785\n",
      "Epoch 8300: Test MSE = 53.6953\n",
      "Epoch 8400: Test MSE = 51.6091\n",
      "Epoch 8500: Test MSE = 49.5802\n",
      "Epoch 8600: Test MSE = 48.0394\n",
      "Epoch 8700: Test MSE = 46.7069\n",
      "Epoch 8800: Test MSE = 45.4277\n",
      "Epoch 8900: Test MSE = 44.1676\n",
      "Epoch 9000: Test MSE = 42.8913\n",
      "Epoch 9100: Test MSE = 41.5674\n",
      "Epoch 9200: Test MSE = 40.2195\n",
      "Epoch 9300: Test MSE = 38.8364\n",
      "Epoch 9400: Test MSE = 37.4333\n",
      "Epoch 9500: Test MSE = 36.0325\n",
      "Epoch 9600: Test MSE = 34.7461\n",
      "Epoch 9700: Test MSE = 31.1146\n",
      "Epoch 9800: Test MSE = 19.9520\n",
      "Epoch 9900: Test MSE = 18.5235\n",
      "Epoch 10000: Test MSE = 18.0987\n"
     ]
    },
    {
     "data": {
      "text/html": [],
      "text/plain": [
       "<IPython.core.display.HTML object>"
      ]
     },
     "metadata": {},
     "output_type": "display_data"
    },
    {
     "data": {
      "text/html": [
       "<br>    <style><br>        .wandb-row {<br>            display: flex;<br>            flex-direction: row;<br>            flex-wrap: wrap;<br>            justify-content: flex-start;<br>            width: 100%;<br>        }<br>        .wandb-col {<br>            display: flex;<br>            flex-direction: column;<br>            flex-basis: 100%;<br>            flex: 1;<br>            padding: 10px;<br>        }<br>    </style><br><div class=\"wandb-row\"><div class=\"wandb-col\"><h3>Run history:</h3><br/><table class=\"wandb\"><tr><td>epoch</td><td>▁▁▁▁▁▂▂▂▂▂▃▃▃▃▃▄▄▄▄▄▄▅▅▅▅▅▅▅▅▅▆▆▆▆▆▆▇▇██</td></tr><tr><td>hidden_size</td><td>▁▁▁▁▁▁▁▁▁▁▁▁▁▁▁▁▁▁▁▁▁▁▁▁▁▁▁▁▁▁▁▁▁▁▁▁▁▁▁▁</td></tr><tr><td>lr</td><td>▁▁▁▁▁▁▁▁▁▁▁▁▁▁▁▁▁▁▁▁▁▁▁▁▁▁▁▁▁▁▁▁▁▁▁▁▁▁▁▁</td></tr><tr><td>num_layers</td><td>▁▁▁▁▁▁▁▁▁▁▁▁▁▁▁▁▁▁▁▁▁▁▁▁▁▁▁▁▁▁▁▁▁▁▁▁▁▁▁▁</td></tr><tr><td>test_mse</td><td>██▇▇▆▅▅▅▄▄▄▃▃▃▃▂▂▂▂▂▁▁▁▁▁▁▁▁▁▁▁▁▁▁▁▁▁▁▁▁</td></tr><tr><td>train_loss</td><td>█▇▅▄▄▃▃▃▂▂▂▂▁▁▁▁▁▁▁▁▁▁▁▁▁▁▁▁▁▁▁▁▁▁▁▁▁▁▁▁</td></tr></table><br/></div><div class=\"wandb-col\"><h3>Run summary:</h3><br/><table class=\"wandb\"><tr><td>epoch</td><td>10000</td></tr><tr><td>hidden_size</td><td>64</td></tr><tr><td>lr</td><td>0.001</td></tr><tr><td>num_layers</td><td>1</td></tr><tr><td>test_mse</td><td>18.09866</td></tr><tr><td>train_loss</td><td>29.9339</td></tr></table><br/></div></div>"
      ],
      "text/plain": [
       "<IPython.core.display.HTML object>"
      ]
     },
     "metadata": {},
     "output_type": "display_data"
    },
    {
     "data": {
      "text/html": [
       " View run <strong style=\"color:#cdcd00\">brisk-sweep-5</strong> at: <a href='https://wandb.ai/its_mrpsycho/stock_price_prediction/runs/s9ofzjng' target=\"_blank\">https://wandb.ai/its_mrpsycho/stock_price_prediction/runs/s9ofzjng</a><br> View project at: <a href='https://wandb.ai/its_mrpsycho/stock_price_prediction' target=\"_blank\">https://wandb.ai/its_mrpsycho/stock_price_prediction</a><br>Synced 5 W&B file(s), 0 media file(s), 0 artifact file(s) and 0 other file(s)"
      ],
      "text/plain": [
       "<IPython.core.display.HTML object>"
      ]
     },
     "metadata": {},
     "output_type": "display_data"
    },
    {
     "data": {
      "text/html": [
       "Find logs at: <code>.\\wandb\\run-20250314_170726-s9ofzjng\\logs</code>"
      ],
      "text/plain": [
       "<IPython.core.display.HTML object>"
      ]
     },
     "metadata": {},
     "output_type": "display_data"
    },
    {
     "name": "stderr",
     "output_type": "stream",
     "text": [
      "wandb: Agent Starting Run: 9dp4fxld with config:\n",
      "wandb: \thidden_size: 16\n",
      "wandb: \tlr: 0.01\n",
      "wandb: \tnum_epochs: 10000\n",
      "wandb: \tnum_layers: 1\n"
     ]
    },
    {
     "data": {
      "text/html": [
       "Tracking run with wandb version 0.19.8"
      ],
      "text/plain": [
       "<IPython.core.display.HTML object>"
      ]
     },
     "metadata": {},
     "output_type": "display_data"
    },
    {
     "data": {
      "text/html": [
       "Run data is saved locally in <code>d:\\Finance\\Finance\\Option-Pricing\\Option_Pricing\\wandb\\run-20250314_170907-9dp4fxld</code>"
      ],
      "text/plain": [
       "<IPython.core.display.HTML object>"
      ]
     },
     "metadata": {},
     "output_type": "display_data"
    },
    {
     "data": {
      "text/html": [
       "Syncing run <strong><a href='https://wandb.ai/its_mrpsycho/stock_price_prediction/runs/9dp4fxld' target=\"_blank\">vocal-sweep-6</a></strong> to <a href='https://wandb.ai/its_mrpsycho/stock_price_prediction' target=\"_blank\">Weights & Biases</a> (<a href='https://wandb.me/developer-guide' target=\"_blank\">docs</a>)<br>Sweep page: <a href='https://wandb.ai/its_mrpsycho/stock_price_prediction/sweeps/7pu82bg8' target=\"_blank\">https://wandb.ai/its_mrpsycho/stock_price_prediction/sweeps/7pu82bg8</a>"
      ],
      "text/plain": [
       "<IPython.core.display.HTML object>"
      ]
     },
     "metadata": {},
     "output_type": "display_data"
    },
    {
     "data": {
      "text/html": [
       " View project at <a href='https://wandb.ai/its_mrpsycho/stock_price_prediction' target=\"_blank\">https://wandb.ai/its_mrpsycho/stock_price_prediction</a>"
      ],
      "text/plain": [
       "<IPython.core.display.HTML object>"
      ]
     },
     "metadata": {},
     "output_type": "display_data"
    },
    {
     "data": {
      "text/html": [
       " View sweep at <a href='https://wandb.ai/its_mrpsycho/stock_price_prediction/sweeps/7pu82bg8' target=\"_blank\">https://wandb.ai/its_mrpsycho/stock_price_prediction/sweeps/7pu82bg8</a>"
      ],
      "text/plain": [
       "<IPython.core.display.HTML object>"
      ]
     },
     "metadata": {},
     "output_type": "display_data"
    },
    {
     "data": {
      "text/html": [
       " View run at <a href='https://wandb.ai/its_mrpsycho/stock_price_prediction/runs/9dp4fxld' target=\"_blank\">https://wandb.ai/its_mrpsycho/stock_price_prediction/runs/9dp4fxld</a>"
      ],
      "text/plain": [
       "<IPython.core.display.HTML object>"
      ]
     },
     "metadata": {},
     "output_type": "display_data"
    },
    {
     "name": "stdout",
     "output_type": "stream",
     "text": [
      "Epoch 100: Test MSE = 38384.5938\n",
      "Epoch 200: Test MSE = 32179.1172\n",
      "Epoch 300: Test MSE = 27176.0801\n",
      "Epoch 400: Test MSE = 22907.8066\n",
      "Epoch 500: Test MSE = 19224.2461\n",
      "Epoch 600: Test MSE = 16043.7227\n",
      "Epoch 700: Test MSE = 13307.0596\n",
      "Epoch 800: Test MSE = 10965.4434\n",
      "Epoch 900: Test MSE = 8975.9590\n",
      "Epoch 1000: Test MSE = 7299.6226\n",
      "Epoch 1100: Test MSE = 5900.4336\n",
      "Epoch 1200: Test MSE = 4744.9082\n",
      "Epoch 1300: Test MSE = 3801.8408\n",
      "Epoch 1400: Test MSE = 3042.2200\n",
      "Epoch 1500: Test MSE = 2439.2148\n",
      "Epoch 1600: Test MSE = 1968.2200\n",
      "Epoch 1700: Test MSE = 1606.8953\n",
      "Epoch 1800: Test MSE = 1335.2214\n",
      "Epoch 1900: Test MSE = 1135.5250\n",
      "Epoch 2000: Test MSE = 992.4669\n",
      "Epoch 2100: Test MSE = 892.9949\n",
      "Epoch 2200: Test MSE = 826.2372\n",
      "Epoch 2300: Test MSE = 783.3535\n",
      "Epoch 2400: Test MSE = 757.3420\n",
      "Epoch 2500: Test MSE = 742.8170\n",
      "Epoch 2600: Test MSE = 735.7634\n",
      "Epoch 2700: Test MSE = 733.2983\n",
      "Epoch 2800: Test MSE = 733.4270\n",
      "Epoch 2900: Test MSE = 734.8411\n",
      "Epoch 3000: Test MSE = 736.7297\n",
      "Epoch 3100: Test MSE = 738.6297\n",
      "Epoch 3200: Test MSE = 740.3090\n",
      "Epoch 3300: Test MSE = 741.6854\n",
      "Epoch 3400: Test MSE = 742.7438\n",
      "Epoch 3500: Test MSE = 743.5238\n",
      "Epoch 3600: Test MSE = 744.0767\n",
      "Epoch 3700: Test MSE = 744.4549\n",
      "Epoch 3800: Test MSE = 744.7051\n",
      "Epoch 3900: Test MSE = 744.8647\n",
      "Epoch 4000: Test MSE = 744.9628\n",
      "Epoch 4100: Test MSE = 745.0203\n",
      "Epoch 4200: Test MSE = 745.0513\n",
      "Epoch 4300: Test MSE = 745.0643\n",
      "Epoch 4400: Test MSE = 745.0427\n",
      "Epoch 4500: Test MSE = 727.6317\n",
      "Epoch 4600: Test MSE = 733.0934\n",
      "Epoch 4700: Test MSE = 737.0890\n",
      "Epoch 4800: Test MSE = 752.8116\n",
      "Epoch 4900: Test MSE = 756.0902\n",
      "Epoch 5000: Test MSE = 758.3711\n",
      "Epoch 5100: Test MSE = 759.8370\n",
      "Epoch 5200: Test MSE = 760.5039\n",
      "Epoch 5300: Test MSE = 760.4880\n",
      "Epoch 5400: Test MSE = 760.0560\n",
      "Epoch 5500: Test MSE = 759.5340\n",
      "Epoch 5600: Test MSE = 759.1387\n",
      "Epoch 5700: Test MSE = 758.9785\n",
      "Epoch 5800: Test MSE = 758.7126\n",
      "Epoch 5900: Test MSE = 758.4824\n",
      "Epoch 6000: Test MSE = 758.2910\n",
      "Epoch 6100: Test MSE = 758.1260\n",
      "Epoch 6200: Test MSE = 757.9872\n",
      "Epoch 6300: Test MSE = 757.8170\n",
      "Epoch 6400: Test MSE = 757.6644\n",
      "Epoch 6500: Test MSE = 757.5200\n",
      "Epoch 6600: Test MSE = 757.3914\n",
      "Epoch 6700: Test MSE = 757.2610\n",
      "Epoch 6800: Test MSE = 757.1696\n",
      "Epoch 6900: Test MSE = 757.0354\n",
      "Epoch 7000: Test MSE = 756.9420\n",
      "Epoch 7100: Test MSE = 756.8557\n",
      "Epoch 7200: Test MSE = 756.7502\n",
      "Epoch 7300: Test MSE = 756.6641\n",
      "Epoch 7400: Test MSE = 756.5831\n",
      "Epoch 7500: Test MSE = 756.5081\n",
      "Epoch 7600: Test MSE = 756.4375\n",
      "Epoch 7700: Test MSE = 756.3711\n",
      "Epoch 7800: Test MSE = 756.3080\n",
      "Epoch 7900: Test MSE = 756.2498\n",
      "Epoch 8000: Test MSE = 756.1922\n",
      "Epoch 8100: Test MSE = 756.1347\n",
      "Epoch 8200: Test MSE = 756.0859\n",
      "Epoch 8300: Test MSE = 756.0352\n",
      "Epoch 8400: Test MSE = 755.9865\n",
      "Epoch 8500: Test MSE = 755.9420\n",
      "Epoch 8600: Test MSE = 755.8828\n",
      "Epoch 8700: Test MSE = 755.8284\n",
      "Epoch 8800: Test MSE = 756.2609\n",
      "Epoch 8900: Test MSE = 755.2966\n",
      "Epoch 9000: Test MSE = 754.7635\n",
      "Epoch 9100: Test MSE = 754.0076\n",
      "Epoch 9200: Test MSE = 752.9815\n",
      "Epoch 9300: Test MSE = 751.5502\n",
      "Epoch 9400: Test MSE = 749.4203\n",
      "Epoch 9500: Test MSE = 749.1493\n",
      "Epoch 9600: Test MSE = 750.9991\n",
      "Epoch 9700: Test MSE = 752.9012\n",
      "Epoch 9800: Test MSE = 754.4705\n",
      "Epoch 9900: Test MSE = 755.6318\n",
      "Epoch 10000: Test MSE = 756.4763\n"
     ]
    },
    {
     "data": {
      "text/html": [],
      "text/plain": [
       "<IPython.core.display.HTML object>"
      ]
     },
     "metadata": {},
     "output_type": "display_data"
    },
    {
     "data": {
      "text/html": [
       "<br>    <style><br>        .wandb-row {<br>            display: flex;<br>            flex-direction: row;<br>            flex-wrap: wrap;<br>            justify-content: flex-start;<br>            width: 100%;<br>        }<br>        .wandb-col {<br>            display: flex;<br>            flex-direction: column;<br>            flex-basis: 100%;<br>            flex: 1;<br>            padding: 10px;<br>        }<br>    </style><br><div class=\"wandb-row\"><div class=\"wandb-col\"><h3>Run history:</h3><br/><table class=\"wandb\"><tr><td>epoch</td><td>▁▁▁▁▂▂▂▂▃▃▃▃▃▃▃▄▄▄▄▄▄▅▅▅▅▆▆▆▆▆▇▇▇▇▇▇▇▇▇█</td></tr><tr><td>hidden_size</td><td>▁▁▁▁▁▁▁▁▁▁▁▁▁▁▁▁▁▁▁▁▁▁▁▁▁▁▁▁▁▁▁▁▁▁▁▁▁▁▁▁</td></tr><tr><td>lr</td><td>▁▁▁▁▁▁▁▁▁▁▁▁▁▁▁▁▁▁▁▁▁▁▁▁▁▁▁▁▁▁▁▁▁▁▁▁▁▁▁▁</td></tr><tr><td>num_layers</td><td>▁▁▁▁▁▁▁▁▁▁▁▁▁▁▁▁▁▁▁▁▁▁▁▁▁▁▁▁▁▁▁▁▁▁▁▁▁▁▁▁</td></tr><tr><td>test_mse</td><td>█▅▄▃▂▂▁▁▁▁▁▁▁▁▁▁▁▁▁▁▁▁▁▁▁▁▁▁▁▁▁▁▁▁▁▁▁▁▁▁</td></tr><tr><td>train_loss</td><td>█▅▄▃▁▁▁▁▁▁▁▁▁▁▁▁▁▁▁▁▁▁▁▁▁▁▁▁▁▁▁▁▁▁▁▁▁▁▁▁</td></tr></table><br/></div><div class=\"wandb-col\"><h3>Run summary:</h3><br/><table class=\"wandb\"><tr><td>epoch</td><td>10000</td></tr><tr><td>hidden_size</td><td>16</td></tr><tr><td>lr</td><td>0.01</td></tr><tr><td>num_layers</td><td>1</td></tr><tr><td>test_mse</td><td>756.47632</td></tr><tr><td>train_loss</td><td>566.61505</td></tr></table><br/></div></div>"
      ],
      "text/plain": [
       "<IPython.core.display.HTML object>"
      ]
     },
     "metadata": {},
     "output_type": "display_data"
    },
    {
     "data": {
      "text/html": [
       " View run <strong style=\"color:#cdcd00\">vocal-sweep-6</strong> at: <a href='https://wandb.ai/its_mrpsycho/stock_price_prediction/runs/9dp4fxld' target=\"_blank\">https://wandb.ai/its_mrpsycho/stock_price_prediction/runs/9dp4fxld</a><br> View project at: <a href='https://wandb.ai/its_mrpsycho/stock_price_prediction' target=\"_blank\">https://wandb.ai/its_mrpsycho/stock_price_prediction</a><br>Synced 5 W&B file(s), 0 media file(s), 0 artifact file(s) and 0 other file(s)"
      ],
      "text/plain": [
       "<IPython.core.display.HTML object>"
      ]
     },
     "metadata": {},
     "output_type": "display_data"
    },
    {
     "data": {
      "text/html": [
       "Find logs at: <code>.\\wandb\\run-20250314_170907-9dp4fxld\\logs</code>"
      ],
      "text/plain": [
       "<IPython.core.display.HTML object>"
      ]
     },
     "metadata": {},
     "output_type": "display_data"
    },
    {
     "name": "stderr",
     "output_type": "stream",
     "text": [
      "wandb: Agent Starting Run: 9jy7gi04 with config:\n",
      "wandb: \thidden_size: 32\n",
      "wandb: \tlr: 0.0001\n",
      "wandb: \tnum_epochs: 10000\n",
      "wandb: \tnum_layers: 2\n"
     ]
    },
    {
     "data": {
      "text/html": [
       "Tracking run with wandb version 0.19.8"
      ],
      "text/plain": [
       "<IPython.core.display.HTML object>"
      ]
     },
     "metadata": {},
     "output_type": "display_data"
    },
    {
     "data": {
      "text/html": [
       "Run data is saved locally in <code>d:\\Finance\\Finance\\Option-Pricing\\Option_Pricing\\wandb\\run-20250314_170949-9jy7gi04</code>"
      ],
      "text/plain": [
       "<IPython.core.display.HTML object>"
      ]
     },
     "metadata": {},
     "output_type": "display_data"
    },
    {
     "data": {
      "text/html": [
       "Syncing run <strong><a href='https://wandb.ai/its_mrpsycho/stock_price_prediction/runs/9jy7gi04' target=\"_blank\">valiant-sweep-7</a></strong> to <a href='https://wandb.ai/its_mrpsycho/stock_price_prediction' target=\"_blank\">Weights & Biases</a> (<a href='https://wandb.me/developer-guide' target=\"_blank\">docs</a>)<br>Sweep page: <a href='https://wandb.ai/its_mrpsycho/stock_price_prediction/sweeps/7pu82bg8' target=\"_blank\">https://wandb.ai/its_mrpsycho/stock_price_prediction/sweeps/7pu82bg8</a>"
      ],
      "text/plain": [
       "<IPython.core.display.HTML object>"
      ]
     },
     "metadata": {},
     "output_type": "display_data"
    },
    {
     "data": {
      "text/html": [
       " View project at <a href='https://wandb.ai/its_mrpsycho/stock_price_prediction' target=\"_blank\">https://wandb.ai/its_mrpsycho/stock_price_prediction</a>"
      ],
      "text/plain": [
       "<IPython.core.display.HTML object>"
      ]
     },
     "metadata": {},
     "output_type": "display_data"
    },
    {
     "data": {
      "text/html": [
       " View sweep at <a href='https://wandb.ai/its_mrpsycho/stock_price_prediction/sweeps/7pu82bg8' target=\"_blank\">https://wandb.ai/its_mrpsycho/stock_price_prediction/sweeps/7pu82bg8</a>"
      ],
      "text/plain": [
       "<IPython.core.display.HTML object>"
      ]
     },
     "metadata": {},
     "output_type": "display_data"
    },
    {
     "data": {
      "text/html": [
       " View run at <a href='https://wandb.ai/its_mrpsycho/stock_price_prediction/runs/9jy7gi04' target=\"_blank\">https://wandb.ai/its_mrpsycho/stock_price_prediction/runs/9jy7gi04</a>"
      ],
      "text/plain": [
       "<IPython.core.display.HTML object>"
      ]
     },
     "metadata": {},
     "output_type": "display_data"
    },
    {
     "name": "stdout",
     "output_type": "stream",
     "text": [
      "Epoch 100: Test MSE = 45098.5195\n",
      "Epoch 200: Test MSE = 44738.4297\n",
      "Epoch 300: Test MSE = 44158.5781\n",
      "Epoch 400: Test MSE = 43738.3555\n",
      "Epoch 500: Test MSE = 43432.1562\n",
      "Epoch 600: Test MSE = 43184.1719\n",
      "Epoch 700: Test MSE = 42972.3750\n",
      "Epoch 800: Test MSE = 42781.3164\n",
      "Epoch 900: Test MSE = 42606.0039\n",
      "Epoch 1000: Test MSE = 42440.3633\n",
      "Epoch 1100: Test MSE = 42281.3359\n",
      "Epoch 1200: Test MSE = 42127.1484\n",
      "Epoch 1300: Test MSE = 41976.6641\n",
      "Epoch 1400: Test MSE = 41829.1367\n",
      "Epoch 1500: Test MSE = 41684.0000\n",
      "Epoch 1600: Test MSE = 41540.8750\n",
      "Epoch 1700: Test MSE = 41399.4375\n",
      "Epoch 1800: Test MSE = 41259.4688\n",
      "Epoch 1900: Test MSE = 41120.7734\n",
      "Epoch 2000: Test MSE = 40983.2031\n",
      "Epoch 2100: Test MSE = 40846.6289\n",
      "Epoch 2200: Test MSE = 40710.9609\n",
      "Epoch 2300: Test MSE = 40576.1016\n",
      "Epoch 2400: Test MSE = 40441.9844\n",
      "Epoch 2500: Test MSE = 40308.5391\n",
      "Epoch 2600: Test MSE = 40175.7266\n",
      "Epoch 2700: Test MSE = 40043.4883\n",
      "Epoch 2800: Test MSE = 39911.7930\n",
      "Epoch 2900: Test MSE = 39780.6094\n",
      "Epoch 3000: Test MSE = 39649.8906\n",
      "Epoch 3100: Test MSE = 39519.6250\n",
      "Epoch 3200: Test MSE = 39389.7930\n",
      "Epoch 3300: Test MSE = 39260.3438\n",
      "Epoch 3400: Test MSE = 39131.2969\n",
      "Epoch 3500: Test MSE = 39002.6133\n",
      "Epoch 3600: Test MSE = 38874.2891\n",
      "Epoch 3700: Test MSE = 38746.3008\n",
      "Epoch 3800: Test MSE = 38618.6406\n",
      "Epoch 3900: Test MSE = 38491.2969\n",
      "Epoch 4000: Test MSE = 38364.2656\n",
      "Epoch 4100: Test MSE = 38237.5312\n",
      "Epoch 4200: Test MSE = 38111.0898\n",
      "Epoch 4300: Test MSE = 37984.9336\n",
      "Epoch 4400: Test MSE = 37859.0508\n",
      "Epoch 4500: Test MSE = 37733.4531\n",
      "Epoch 4600: Test MSE = 37608.1094\n",
      "Epoch 4700: Test MSE = 37483.0352\n",
      "Epoch 4800: Test MSE = 37358.2227\n",
      "Epoch 4900: Test MSE = 37233.6562\n",
      "Epoch 5000: Test MSE = 37109.3438\n",
      "Epoch 5100: Test MSE = 36985.2773\n",
      "Epoch 5200: Test MSE = 36861.4609\n",
      "Epoch 5300: Test MSE = 36737.8867\n",
      "Epoch 5400: Test MSE = 36614.5430\n",
      "Epoch 5500: Test MSE = 36491.4492\n",
      "Epoch 5600: Test MSE = 36368.5820\n",
      "Epoch 5700: Test MSE = 36245.9492\n",
      "Epoch 5800: Test MSE = 36123.5508\n",
      "Epoch 5900: Test MSE = 36001.3789\n",
      "Epoch 6000: Test MSE = 35879.4492\n",
      "Epoch 6100: Test MSE = 35757.7344\n",
      "Epoch 6200: Test MSE = 35636.2500\n",
      "Epoch 6300: Test MSE = 35514.9844\n",
      "Epoch 6400: Test MSE = 35393.9336\n",
      "Epoch 6500: Test MSE = 35273.1211\n",
      "Epoch 6600: Test MSE = 35152.5352\n",
      "Epoch 6700: Test MSE = 35032.1836\n",
      "Epoch 6800: Test MSE = 34912.0391\n",
      "Epoch 6900: Test MSE = 34792.1250\n",
      "Epoch 7000: Test MSE = 34672.4180\n",
      "Epoch 7100: Test MSE = 34552.9258\n",
      "Epoch 7200: Test MSE = 34433.6406\n",
      "Epoch 7300: Test MSE = 34314.5742\n",
      "Epoch 7400: Test MSE = 34195.7344\n",
      "Epoch 7500: Test MSE = 34077.1289\n",
      "Epoch 7600: Test MSE = 33958.7578\n",
      "Epoch 7700: Test MSE = 33840.6016\n",
      "Epoch 7800: Test MSE = 33722.6562\n",
      "Epoch 7900: Test MSE = 33604.9258\n",
      "Epoch 8000: Test MSE = 33487.3984\n",
      "Epoch 8100: Test MSE = 33370.0898\n",
      "Epoch 8200: Test MSE = 33253.0000\n",
      "Epoch 8300: Test MSE = 33136.1328\n",
      "Epoch 8400: Test MSE = 33019.4688\n",
      "Epoch 8500: Test MSE = 32903.0234\n",
      "Epoch 8600: Test MSE = 32786.7969\n",
      "Epoch 8700: Test MSE = 32670.7793\n",
      "Epoch 8800: Test MSE = 32554.9883\n",
      "Epoch 8900: Test MSE = 32439.4297\n",
      "Epoch 9000: Test MSE = 32324.0898\n",
      "Epoch 9100: Test MSE = 32208.9609\n",
      "Epoch 9200: Test MSE = 32094.0352\n",
      "Epoch 9300: Test MSE = 31979.3281\n",
      "Epoch 9400: Test MSE = 31864.8301\n",
      "Epoch 9500: Test MSE = 31750.5430\n",
      "Epoch 9600: Test MSE = 31636.4609\n",
      "Epoch 9700: Test MSE = 31522.5918\n",
      "Epoch 9800: Test MSE = 31408.9355\n",
      "Epoch 9900: Test MSE = 31295.4844\n",
      "Epoch 10000: Test MSE = 31182.2500\n"
     ]
    },
    {
     "data": {
      "text/html": [],
      "text/plain": [
       "<IPython.core.display.HTML object>"
      ]
     },
     "metadata": {},
     "output_type": "display_data"
    },
    {
     "data": {
      "text/html": [
       "<br>    <style><br>        .wandb-row {<br>            display: flex;<br>            flex-direction: row;<br>            flex-wrap: wrap;<br>            justify-content: flex-start;<br>            width: 100%;<br>        }<br>        .wandb-col {<br>            display: flex;<br>            flex-direction: column;<br>            flex-basis: 100%;<br>            flex: 1;<br>            padding: 10px;<br>        }<br>    </style><br><div class=\"wandb-row\"><div class=\"wandb-col\"><h3>Run history:</h3><br/><table class=\"wandb\"><tr><td>epoch</td><td>▁▁▁▁▁▂▂▂▂▂▃▃▃▃▄▄▄▄▅▅▅▅▅▆▆▆▆▆▆▆▆▇▇▇▇█████</td></tr><tr><td>hidden_size</td><td>▁▁▁▁▁▁▁▁▁▁▁▁▁▁▁▁▁▁▁▁▁▁▁▁▁▁▁▁▁▁▁▁▁▁▁▁▁▁▁▁</td></tr><tr><td>lr</td><td>▁▁▁▁▁▁▁▁▁▁▁▁▁▁▁▁▁▁▁▁▁▁▁▁▁▁▁▁▁▁▁▁▁▁▁▁▁▁▁▁</td></tr><tr><td>num_layers</td><td>▁▁▁▁▁▁▁▁▁▁▁▁▁▁▁▁▁▁▁▁▁▁▁▁▁▁▁▁▁▁▁▁▁▁▁▁▁▁▁▁</td></tr><tr><td>test_mse</td><td>██▇▇▇▇▇▇▇▆▆▆▅▅▅▅▅▅▄▄▄▄▄▄▃▃▃▃▃▃▂▂▂▂▂▁▁▁▁▁</td></tr><tr><td>train_loss</td><td>██▇▇▇▆▆▆▆▆▆▆▆▅▅▅▅▄▄▄▄▄▄▄▃▃▃▃▃▃▂▂▂▂▂▂▂▁▁▁</td></tr></table><br/></div><div class=\"wandb-col\"><h3>Run summary:</h3><br/><table class=\"wandb\"><tr><td>epoch</td><td>10000</td></tr><tr><td>hidden_size</td><td>32</td></tr><tr><td>lr</td><td>0.0001</td></tr><tr><td>num_layers</td><td>2</td></tr><tr><td>test_mse</td><td>31182.25</td></tr><tr><td>train_loss</td><td>32310.39258</td></tr></table><br/></div></div>"
      ],
      "text/plain": [
       "<IPython.core.display.HTML object>"
      ]
     },
     "metadata": {},
     "output_type": "display_data"
    },
    {
     "data": {
      "text/html": [
       " View run <strong style=\"color:#cdcd00\">valiant-sweep-7</strong> at: <a href='https://wandb.ai/its_mrpsycho/stock_price_prediction/runs/9jy7gi04' target=\"_blank\">https://wandb.ai/its_mrpsycho/stock_price_prediction/runs/9jy7gi04</a><br> View project at: <a href='https://wandb.ai/its_mrpsycho/stock_price_prediction' target=\"_blank\">https://wandb.ai/its_mrpsycho/stock_price_prediction</a><br>Synced 5 W&B file(s), 0 media file(s), 0 artifact file(s) and 0 other file(s)"
      ],
      "text/plain": [
       "<IPython.core.display.HTML object>"
      ]
     },
     "metadata": {},
     "output_type": "display_data"
    },
    {
     "data": {
      "text/html": [
       "Find logs at: <code>.\\wandb\\run-20250314_170949-9jy7gi04\\logs</code>"
      ],
      "text/plain": [
       "<IPython.core.display.HTML object>"
      ]
     },
     "metadata": {},
     "output_type": "display_data"
    },
    {
     "name": "stderr",
     "output_type": "stream",
     "text": [
      "wandb: Agent Starting Run: ch3wpyj3 with config:\n",
      "wandb: \thidden_size: 16\n",
      "wandb: \tlr: 0.001\n",
      "wandb: \tnum_epochs: 10000\n",
      "wandb: \tnum_layers: 2\n"
     ]
    },
    {
     "data": {
      "text/html": [
       "Tracking run with wandb version 0.19.8"
      ],
      "text/plain": [
       "<IPython.core.display.HTML object>"
      ]
     },
     "metadata": {},
     "output_type": "display_data"
    },
    {
     "data": {
      "text/html": [
       "Run data is saved locally in <code>d:\\Finance\\Finance\\Option-Pricing\\Option_Pricing\\wandb\\run-20250314_171104-ch3wpyj3</code>"
      ],
      "text/plain": [
       "<IPython.core.display.HTML object>"
      ]
     },
     "metadata": {},
     "output_type": "display_data"
    },
    {
     "data": {
      "text/html": [
       "Syncing run <strong><a href='https://wandb.ai/its_mrpsycho/stock_price_prediction/runs/ch3wpyj3' target=\"_blank\">restful-sweep-8</a></strong> to <a href='https://wandb.ai/its_mrpsycho/stock_price_prediction' target=\"_blank\">Weights & Biases</a> (<a href='https://wandb.me/developer-guide' target=\"_blank\">docs</a>)<br>Sweep page: <a href='https://wandb.ai/its_mrpsycho/stock_price_prediction/sweeps/7pu82bg8' target=\"_blank\">https://wandb.ai/its_mrpsycho/stock_price_prediction/sweeps/7pu82bg8</a>"
      ],
      "text/plain": [
       "<IPython.core.display.HTML object>"
      ]
     },
     "metadata": {},
     "output_type": "display_data"
    },
    {
     "data": {
      "text/html": [
       " View project at <a href='https://wandb.ai/its_mrpsycho/stock_price_prediction' target=\"_blank\">https://wandb.ai/its_mrpsycho/stock_price_prediction</a>"
      ],
      "text/plain": [
       "<IPython.core.display.HTML object>"
      ]
     },
     "metadata": {},
     "output_type": "display_data"
    },
    {
     "data": {
      "text/html": [
       " View sweep at <a href='https://wandb.ai/its_mrpsycho/stock_price_prediction/sweeps/7pu82bg8' target=\"_blank\">https://wandb.ai/its_mrpsycho/stock_price_prediction/sweeps/7pu82bg8</a>"
      ],
      "text/plain": [
       "<IPython.core.display.HTML object>"
      ]
     },
     "metadata": {},
     "output_type": "display_data"
    },
    {
     "data": {
      "text/html": [
       " View run at <a href='https://wandb.ai/its_mrpsycho/stock_price_prediction/runs/ch3wpyj3' target=\"_blank\">https://wandb.ai/its_mrpsycho/stock_price_prediction/runs/ch3wpyj3</a>"
      ],
      "text/plain": [
       "<IPython.core.display.HTML object>"
      ]
     },
     "metadata": {},
     "output_type": "display_data"
    },
    {
     "name": "stdout",
     "output_type": "stream",
     "text": [
      "Epoch 100: Test MSE = 44159.9336\n",
      "Epoch 200: Test MSE = 42989.6445\n",
      "Epoch 300: Test MSE = 42120.0469\n",
      "Epoch 400: Test MSE = 41338.0859\n",
      "Epoch 500: Test MSE = 40598.0430\n",
      "Epoch 600: Test MSE = 39884.7891\n",
      "Epoch 700: Test MSE = 39191.3359\n",
      "Epoch 800: Test MSE = 38513.8398\n",
      "Epoch 900: Test MSE = 37849.9023\n",
      "Epoch 1000: Test MSE = 37197.9492\n",
      "Epoch 1100: Test MSE = 36556.8516\n",
      "Epoch 1200: Test MSE = 35925.7812\n",
      "Epoch 1300: Test MSE = 35304.0820\n",
      "Epoch 1400: Test MSE = 34691.2656\n",
      "Epoch 1500: Test MSE = 34086.8984\n",
      "Epoch 1600: Test MSE = 33490.6484\n",
      "Epoch 1700: Test MSE = 32902.2188\n",
      "Epoch 1800: Test MSE = 32321.3672\n",
      "Epoch 1900: Test MSE = 31747.8633\n",
      "Epoch 2000: Test MSE = 31181.5254\n",
      "Epoch 2100: Test MSE = 30622.1758\n",
      "Epoch 2200: Test MSE = 30069.6699\n",
      "Epoch 2300: Test MSE = 29523.8652\n",
      "Epoch 2400: Test MSE = 28984.6445\n",
      "Epoch 2500: Test MSE = 28451.8906\n",
      "Epoch 2600: Test MSE = 27925.4980\n",
      "Epoch 2700: Test MSE = 27405.3750\n",
      "Epoch 2800: Test MSE = 26891.4375\n",
      "Epoch 2900: Test MSE = 26383.5996\n",
      "Epoch 3000: Test MSE = 25881.7891\n",
      "Epoch 3100: Test MSE = 25385.9453\n",
      "Epoch 3200: Test MSE = 24895.9902\n",
      "Epoch 3300: Test MSE = 24411.8691\n",
      "Epoch 3400: Test MSE = 23933.5332\n",
      "Epoch 3500: Test MSE = 23460.9219\n",
      "Epoch 3600: Test MSE = 22993.9902\n",
      "Epoch 3700: Test MSE = 22532.6953\n",
      "Epoch 3800: Test MSE = 22076.9844\n",
      "Epoch 3900: Test MSE = 21626.8320\n",
      "Epoch 4000: Test MSE = 21182.1934\n",
      "Epoch 4100: Test MSE = 20743.0293\n",
      "Epoch 4200: Test MSE = 20309.3184\n",
      "Epoch 4300: Test MSE = 19881.0117\n",
      "Epoch 4400: Test MSE = 19458.0957\n",
      "Epoch 4500: Test MSE = 19040.5293\n",
      "Epoch 4600: Test MSE = 18628.2969\n",
      "Epoch 4700: Test MSE = 18221.3633\n",
      "Epoch 4800: Test MSE = 17819.7129\n",
      "Epoch 4900: Test MSE = 17423.3145\n",
      "Epoch 5000: Test MSE = 17032.1543\n",
      "Epoch 5100: Test MSE = 16646.2031\n",
      "Epoch 5200: Test MSE = 16265.4434\n",
      "Epoch 5300: Test MSE = 15889.8613\n",
      "Epoch 5400: Test MSE = 15519.4346\n",
      "Epoch 5500: Test MSE = 15154.1416\n",
      "Epoch 5600: Test MSE = 14793.9658\n",
      "Epoch 5700: Test MSE = 14438.8896\n",
      "Epoch 5800: Test MSE = 14088.9004\n",
      "Epoch 5900: Test MSE = 13743.9814\n",
      "Epoch 6000: Test MSE = 13404.1133\n",
      "Epoch 6100: Test MSE = 13069.2812\n",
      "Epoch 6200: Test MSE = 12739.4727\n",
      "Epoch 6300: Test MSE = 12414.6729\n",
      "Epoch 6400: Test MSE = 12094.8623\n",
      "Epoch 6500: Test MSE = 11780.0283\n",
      "Epoch 6600: Test MSE = 11470.1553\n",
      "Epoch 6700: Test MSE = 11165.2275\n",
      "Epoch 6800: Test MSE = 10865.2383\n",
      "Epoch 6900: Test MSE = 10570.1621\n",
      "Epoch 7000: Test MSE = 10279.9912\n",
      "Epoch 7100: Test MSE = 9994.7109\n",
      "Epoch 7200: Test MSE = 9714.3027\n",
      "Epoch 7300: Test MSE = 9438.7480\n",
      "Epoch 7400: Test MSE = 9168.0469\n",
      "Epoch 7500: Test MSE = 8902.1699\n",
      "Epoch 7600: Test MSE = 8641.1045\n",
      "Epoch 7700: Test MSE = 8384.8389\n",
      "Epoch 7800: Test MSE = 8133.3550\n",
      "Epoch 7900: Test MSE = 7886.6362\n",
      "Epoch 8000: Test MSE = 7644.6650\n",
      "Epoch 8100: Test MSE = 7407.4287\n",
      "Epoch 8200: Test MSE = 7174.9067\n",
      "Epoch 8300: Test MSE = 6947.0850\n",
      "Epoch 8400: Test MSE = 6723.9438\n",
      "Epoch 8500: Test MSE = 6505.4639\n",
      "Epoch 8600: Test MSE = 6291.6333\n",
      "Epoch 8700: Test MSE = 6082.4155\n",
      "Epoch 8800: Test MSE = 5877.8213\n",
      "Epoch 8900: Test MSE = 5677.8027\n",
      "Epoch 9000: Test MSE = 5482.3398\n",
      "Epoch 9100: Test MSE = 5291.4375\n",
      "Epoch 9200: Test MSE = 5105.0586\n",
      "Epoch 9300: Test MSE = 4923.1704\n",
      "Epoch 9400: Test MSE = 4745.7651\n",
      "Epoch 9500: Test MSE = 4572.8115\n",
      "Epoch 9600: Test MSE = 4404.2861\n",
      "Epoch 9700: Test MSE = 4240.1758\n",
      "Epoch 9800: Test MSE = 4080.4424\n",
      "Epoch 9900: Test MSE = 3925.0579\n",
      "Epoch 10000: Test MSE = 3774.0049\n"
     ]
    },
    {
     "data": {
      "text/html": [],
      "text/plain": [
       "<IPython.core.display.HTML object>"
      ]
     },
     "metadata": {},
     "output_type": "display_data"
    },
    {
     "data": {
      "text/html": [
       "<br>    <style><br>        .wandb-row {<br>            display: flex;<br>            flex-direction: row;<br>            flex-wrap: wrap;<br>            justify-content: flex-start;<br>            width: 100%;<br>        }<br>        .wandb-col {<br>            display: flex;<br>            flex-direction: column;<br>            flex-basis: 100%;<br>            flex: 1;<br>            padding: 10px;<br>        }<br>    </style><br><div class=\"wandb-row\"><div class=\"wandb-col\"><h3>Run history:</h3><br/><table class=\"wandb\"><tr><td>epoch</td><td>▁▁▁▁▁▂▂▂▂▂▂▃▃▃▃▃▃▄▄▄▄▄▄▅▅▅▆▆▆▆▆▆▆▇▇▇▇▇██</td></tr><tr><td>hidden_size</td><td>▁▁▁▁▁▁▁▁▁▁▁▁▁▁▁▁▁▁▁▁▁▁▁▁▁▁▁▁▁▁▁▁▁▁▁▁▁▁▁▁</td></tr><tr><td>lr</td><td>▁▁▁▁▁▁▁▁▁▁▁▁▁▁▁▁▁▁▁▁▁▁▁▁▁▁▁▁▁▁▁▁▁▁▁▁▁▁▁▁</td></tr><tr><td>num_layers</td><td>▁▁▁▁▁▁▁▁▁▁▁▁▁▁▁▁▁▁▁▁▁▁▁▁▁▁▁▁▁▁▁▁▁▁▁▁▁▁▁▁</td></tr><tr><td>test_mse</td><td>██▇▇▇▆▆▆▆▆▆▅▅▅▅▄▄▄▄▄▄▄▃▃▃▂▂▂▂▂▂▂▂▂▁▁▁▁▁▁</td></tr><tr><td>train_loss</td><td>███▇▆▆▅▅▅▅▅▅▄▄▄▄▄▄▄▄▃▃▃▂▂▂▂▂▂▂▂▂▂▁▁▁▁▁▁▁</td></tr></table><br/></div><div class=\"wandb-col\"><h3>Run summary:</h3><br/><table class=\"wandb\"><tr><td>epoch</td><td>10000</td></tr><tr><td>hidden_size</td><td>16</td></tr><tr><td>lr</td><td>0.001</td></tr><tr><td>num_layers</td><td>2</td></tr><tr><td>test_mse</td><td>3774.00488</td></tr><tr><td>train_loss</td><td>4075.92798</td></tr></table><br/></div></div>"
      ],
      "text/plain": [
       "<IPython.core.display.HTML object>"
      ]
     },
     "metadata": {},
     "output_type": "display_data"
    },
    {
     "data": {
      "text/html": [
       " View run <strong style=\"color:#cdcd00\">restful-sweep-8</strong> at: <a href='https://wandb.ai/its_mrpsycho/stock_price_prediction/runs/ch3wpyj3' target=\"_blank\">https://wandb.ai/its_mrpsycho/stock_price_prediction/runs/ch3wpyj3</a><br> View project at: <a href='https://wandb.ai/its_mrpsycho/stock_price_prediction' target=\"_blank\">https://wandb.ai/its_mrpsycho/stock_price_prediction</a><br>Synced 5 W&B file(s), 0 media file(s), 0 artifact file(s) and 0 other file(s)"
      ],
      "text/plain": [
       "<IPython.core.display.HTML object>"
      ]
     },
     "metadata": {},
     "output_type": "display_data"
    },
    {
     "data": {
      "text/html": [
       "Find logs at: <code>.\\wandb\\run-20250314_171104-ch3wpyj3\\logs</code>"
      ],
      "text/plain": [
       "<IPython.core.display.HTML object>"
      ]
     },
     "metadata": {},
     "output_type": "display_data"
    },
    {
     "name": "stderr",
     "output_type": "stream",
     "text": [
      "wandb: Agent Starting Run: tesdk4km with config:\n",
      "wandb: \thidden_size: 32\n",
      "wandb: \tlr: 0.01\n",
      "wandb: \tnum_epochs: 10000\n",
      "wandb: \tnum_layers: 2\n"
     ]
    },
    {
     "data": {
      "text/html": [
       "Tracking run with wandb version 0.19.8"
      ],
      "text/plain": [
       "<IPython.core.display.HTML object>"
      ]
     },
     "metadata": {},
     "output_type": "display_data"
    },
    {
     "data": {
      "text/html": [
       "Run data is saved locally in <code>d:\\Finance\\Finance\\Option-Pricing\\Option_Pricing\\wandb\\run-20250314_171223-tesdk4km</code>"
      ],
      "text/plain": [
       "<IPython.core.display.HTML object>"
      ]
     },
     "metadata": {},
     "output_type": "display_data"
    },
    {
     "data": {
      "text/html": [
       "Syncing run <strong><a href='https://wandb.ai/its_mrpsycho/stock_price_prediction/runs/tesdk4km' target=\"_blank\">gallant-sweep-9</a></strong> to <a href='https://wandb.ai/its_mrpsycho/stock_price_prediction' target=\"_blank\">Weights & Biases</a> (<a href='https://wandb.me/developer-guide' target=\"_blank\">docs</a>)<br>Sweep page: <a href='https://wandb.ai/its_mrpsycho/stock_price_prediction/sweeps/7pu82bg8' target=\"_blank\">https://wandb.ai/its_mrpsycho/stock_price_prediction/sweeps/7pu82bg8</a>"
      ],
      "text/plain": [
       "<IPython.core.display.HTML object>"
      ]
     },
     "metadata": {},
     "output_type": "display_data"
    },
    {
     "data": {
      "text/html": [
       " View project at <a href='https://wandb.ai/its_mrpsycho/stock_price_prediction' target=\"_blank\">https://wandb.ai/its_mrpsycho/stock_price_prediction</a>"
      ],
      "text/plain": [
       "<IPython.core.display.HTML object>"
      ]
     },
     "metadata": {},
     "output_type": "display_data"
    },
    {
     "data": {
      "text/html": [
       " View sweep at <a href='https://wandb.ai/its_mrpsycho/stock_price_prediction/sweeps/7pu82bg8' target=\"_blank\">https://wandb.ai/its_mrpsycho/stock_price_prediction/sweeps/7pu82bg8</a>"
      ],
      "text/plain": [
       "<IPython.core.display.HTML object>"
      ]
     },
     "metadata": {},
     "output_type": "display_data"
    },
    {
     "data": {
      "text/html": [
       " View run at <a href='https://wandb.ai/its_mrpsycho/stock_price_prediction/runs/tesdk4km' target=\"_blank\">https://wandb.ai/its_mrpsycho/stock_price_prediction/runs/tesdk4km</a>"
      ],
      "text/plain": [
       "<IPython.core.display.HTML object>"
      ]
     },
     "metadata": {},
     "output_type": "display_data"
    },
    {
     "name": "stdout",
     "output_type": "stream",
     "text": [
      "Epoch 100: Test MSE = 31355.9570\n",
      "Epoch 200: Test MSE = 21690.7344\n",
      "Epoch 300: Test MSE = 14620.8828\n",
      "Epoch 400: Test MSE = 9581.8555\n",
      "Epoch 500: Test MSE = 6120.7632\n",
      "Epoch 600: Test MSE = 3846.2209\n",
      "Epoch 700: Test MSE = 2425.8467\n",
      "Epoch 800: Test MSE = 1589.3528\n",
      "Epoch 900: Test MSE = 1129.0236\n",
      "Epoch 1000: Test MSE = 895.3951\n",
      "Epoch 1100: Test MSE = 788.4691\n",
      "Epoch 1200: Test MSE = 746.4264\n",
      "Epoch 1300: Test MSE = 734.1936\n",
      "Epoch 1400: Test MSE = 733.6896\n",
      "Epoch 1500: Test MSE = 736.6021\n",
      "Epoch 1600: Test MSE = 739.6732\n",
      "Epoch 1700: Test MSE = 741.9603\n",
      "Epoch 1800: Test MSE = 743.4199\n",
      "Epoch 1900: Test MSE = 744.2656\n",
      "Epoch 2000: Test MSE = 744.7209\n",
      "Epoch 2100: Test MSE = 744.9520\n",
      "Epoch 2200: Test MSE = 745.0622\n",
      "Epoch 2300: Test MSE = 745.1121\n",
      "Epoch 2400: Test MSE = 745.1334\n",
      "Epoch 2500: Test MSE = 745.1423\n",
      "Epoch 2600: Test MSE = 745.1423\n",
      "Epoch 2700: Test MSE = 745.1422\n",
      "Epoch 2800: Test MSE = 745.1423\n",
      "Epoch 2900: Test MSE = 745.1428\n",
      "Epoch 3000: Test MSE = 745.1424\n",
      "Epoch 3100: Test MSE = 745.1428\n",
      "Epoch 3200: Test MSE = 745.1434\n",
      "Epoch 3300: Test MSE = 745.1433\n",
      "Epoch 3400: Test MSE = 745.1435\n",
      "Epoch 3500: Test MSE = 745.1434\n",
      "Epoch 3600: Test MSE = 745.1437\n",
      "Epoch 3700: Test MSE = 745.1433\n",
      "Epoch 3800: Test MSE = 745.1364\n",
      "Epoch 3900: Test MSE = 732.5021\n",
      "Epoch 4000: Test MSE = 763.8734\n",
      "Epoch 4100: Test MSE = 758.8681\n",
      "Epoch 4200: Test MSE = 737.1518\n",
      "Epoch 4300: Test MSE = 740.4455\n",
      "Epoch 4400: Test MSE = 741.2442\n",
      "Epoch 4500: Test MSE = 740.9788\n",
      "Epoch 4600: Test MSE = 739.6406\n",
      "Epoch 4700: Test MSE = 740.1732\n",
      "Epoch 4800: Test MSE = 739.4445\n",
      "Epoch 4900: Test MSE = 738.8352\n",
      "Epoch 5000: Test MSE = 740.0145\n",
      "Epoch 5100: Test MSE = 740.9406\n",
      "Epoch 5200: Test MSE = 741.4344\n",
      "Epoch 5300: Test MSE = 741.4467\n",
      "Epoch 5400: Test MSE = 740.7025\n",
      "Epoch 5500: Test MSE = 741.2915\n",
      "Epoch 5600: Test MSE = 741.9799\n",
      "Epoch 5700: Test MSE = 742.9352\n",
      "Epoch 5800: Test MSE = 743.5262\n",
      "Epoch 5900: Test MSE = 744.1433\n",
      "Epoch 6000: Test MSE = 744.7550\n",
      "Epoch 6100: Test MSE = 745.2930\n",
      "Epoch 6200: Test MSE = 745.7767\n",
      "Epoch 6300: Test MSE = 746.1974\n",
      "Epoch 6400: Test MSE = 746.5620\n",
      "Epoch 6500: Test MSE = 746.8812\n",
      "Epoch 6600: Test MSE = 747.1617\n",
      "Epoch 6700: Test MSE = 747.4124\n",
      "Epoch 6800: Test MSE = 747.6397\n",
      "Epoch 6900: Test MSE = 747.8497\n",
      "Epoch 7000: Test MSE = 748.0488\n",
      "Epoch 7100: Test MSE = 748.2422\n",
      "Epoch 7200: Test MSE = 748.4425\n",
      "Epoch 7300: Test MSE = 748.6542\n",
      "Epoch 7400: Test MSE = 748.8870\n",
      "Epoch 7500: Test MSE = 749.1381\n",
      "Epoch 7600: Test MSE = 749.3071\n",
      "Epoch 7700: Test MSE = 749.4135\n",
      "Epoch 7800: Test MSE = 749.4951\n",
      "Epoch 7900: Test MSE = 749.5972\n",
      "Epoch 8000: Test MSE = 749.7089\n",
      "Epoch 8100: Test MSE = 749.8274\n",
      "Epoch 8200: Test MSE = 749.9469\n",
      "Epoch 8300: Test MSE = 750.0650\n",
      "Epoch 8400: Test MSE = 750.1840\n",
      "Epoch 8500: Test MSE = 750.3025\n",
      "Epoch 8600: Test MSE = 750.4232\n",
      "Epoch 8700: Test MSE = 750.5381\n",
      "Epoch 8800: Test MSE = 750.6527\n",
      "Epoch 8900: Test MSE = 750.7646\n",
      "Epoch 9000: Test MSE = 750.8762\n",
      "Epoch 9100: Test MSE = 750.9855\n",
      "Epoch 9200: Test MSE = 751.0907\n",
      "Epoch 9300: Test MSE = 751.1881\n",
      "Epoch 9400: Test MSE = 751.2809\n",
      "Epoch 9500: Test MSE = 751.3705\n",
      "Epoch 9600: Test MSE = 746.2593\n",
      "Epoch 9700: Test MSE = 738.3353\n",
      "Epoch 9800: Test MSE = 737.2430\n",
      "Epoch 9900: Test MSE = 736.9913\n",
      "Epoch 10000: Test MSE = 736.8077\n"
     ]
    },
    {
     "data": {
      "text/html": [],
      "text/plain": [
       "<IPython.core.display.HTML object>"
      ]
     },
     "metadata": {},
     "output_type": "display_data"
    },
    {
     "data": {
      "text/html": [
       "<br>    <style><br>        .wandb-row {<br>            display: flex;<br>            flex-direction: row;<br>            flex-wrap: wrap;<br>            justify-content: flex-start;<br>            width: 100%;<br>        }<br>        .wandb-col {<br>            display: flex;<br>            flex-direction: column;<br>            flex-basis: 100%;<br>            flex: 1;<br>            padding: 10px;<br>        }<br>    </style><br><div class=\"wandb-row\"><div class=\"wandb-col\"><h3>Run history:</h3><br/><table class=\"wandb\"><tr><td>epoch</td><td>▁▁▁▂▂▂▂▃▃▃▃▃▃▄▄▄▄▄▄▄▅▅▅▅▅▆▆▆▆▆▇▇▇▇▇▇▇▇██</td></tr><tr><td>hidden_size</td><td>▁▁▁▁▁▁▁▁▁▁▁▁▁▁▁▁▁▁▁▁▁▁▁▁▁▁▁▁▁▁▁▁▁▁▁▁▁▁▁▁</td></tr><tr><td>lr</td><td>▁▁▁▁▁▁▁▁▁▁▁▁▁▁▁▁▁▁▁▁▁▁▁▁▁▁▁▁▁▁▁▁▁▁▁▁▁▁▁▁</td></tr><tr><td>num_layers</td><td>▁▁▁▁▁▁▁▁▁▁▁▁▁▁▁▁▁▁▁▁▁▁▁▁▁▁▁▁▁▁▁▁▁▁▁▁▁▁▁▁</td></tr><tr><td>test_mse</td><td>█▆▄▃▁▁▁▁▁▁▁▁▁▁▁▁▁▁▁▁▁▁▁▁▁▁▁▁▁▁▁▁▁▁▁▁▁▁▁▁</td></tr><tr><td>train_loss</td><td>█▆▂▁▁▁▁▁▁▁▁▁▁▁▁▁▁▁▁▁▁▁▁▁▁▁▁▁▁▁▁▁▁▁▁▁▁▁▁▁</td></tr></table><br/></div><div class=\"wandb-col\"><h3>Run summary:</h3><br/><table class=\"wandb\"><tr><td>epoch</td><td>10000</td></tr><tr><td>hidden_size</td><td>32</td></tr><tr><td>lr</td><td>0.01</td></tr><tr><td>num_layers</td><td>2</td></tr><tr><td>test_mse</td><td>736.80768</td></tr><tr><td>train_loss</td><td>553.59631</td></tr></table><br/></div></div>"
      ],
      "text/plain": [
       "<IPython.core.display.HTML object>"
      ]
     },
     "metadata": {},
     "output_type": "display_data"
    },
    {
     "data": {
      "text/html": [
       " View run <strong style=\"color:#cdcd00\">gallant-sweep-9</strong> at: <a href='https://wandb.ai/its_mrpsycho/stock_price_prediction/runs/tesdk4km' target=\"_blank\">https://wandb.ai/its_mrpsycho/stock_price_prediction/runs/tesdk4km</a><br> View project at: <a href='https://wandb.ai/its_mrpsycho/stock_price_prediction' target=\"_blank\">https://wandb.ai/its_mrpsycho/stock_price_prediction</a><br>Synced 5 W&B file(s), 0 media file(s), 0 artifact file(s) and 0 other file(s)"
      ],
      "text/plain": [
       "<IPython.core.display.HTML object>"
      ]
     },
     "metadata": {},
     "output_type": "display_data"
    },
    {
     "data": {
      "text/html": [
       "Find logs at: <code>.\\wandb\\run-20250314_171223-tesdk4km\\logs</code>"
      ],
      "text/plain": [
       "<IPython.core.display.HTML object>"
      ]
     },
     "metadata": {},
     "output_type": "display_data"
    },
    {
     "name": "stderr",
     "output_type": "stream",
     "text": [
      "wandb: Agent Starting Run: m9a8vv9u with config:\n",
      "wandb: \thidden_size: 16\n",
      "wandb: \tlr: 0.01\n",
      "wandb: \tnum_epochs: 10000\n",
      "wandb: \tnum_layers: 1\n"
     ]
    },
    {
     "data": {
      "text/html": [
       "Tracking run with wandb version 0.19.8"
      ],
      "text/plain": [
       "<IPython.core.display.HTML object>"
      ]
     },
     "metadata": {},
     "output_type": "display_data"
    },
    {
     "data": {
      "text/html": [
       "Run data is saved locally in <code>d:\\Finance\\Finance\\Option-Pricing\\Option_Pricing\\wandb\\run-20250314_171327-m9a8vv9u</code>"
      ],
      "text/plain": [
       "<IPython.core.display.HTML object>"
      ]
     },
     "metadata": {},
     "output_type": "display_data"
    },
    {
     "data": {
      "text/html": [
       "Syncing run <strong><a href='https://wandb.ai/its_mrpsycho/stock_price_prediction/runs/m9a8vv9u' target=\"_blank\">polished-sweep-10</a></strong> to <a href='https://wandb.ai/its_mrpsycho/stock_price_prediction' target=\"_blank\">Weights & Biases</a> (<a href='https://wandb.me/developer-guide' target=\"_blank\">docs</a>)<br>Sweep page: <a href='https://wandb.ai/its_mrpsycho/stock_price_prediction/sweeps/7pu82bg8' target=\"_blank\">https://wandb.ai/its_mrpsycho/stock_price_prediction/sweeps/7pu82bg8</a>"
      ],
      "text/plain": [
       "<IPython.core.display.HTML object>"
      ]
     },
     "metadata": {},
     "output_type": "display_data"
    },
    {
     "data": {
      "text/html": [
       " View project at <a href='https://wandb.ai/its_mrpsycho/stock_price_prediction' target=\"_blank\">https://wandb.ai/its_mrpsycho/stock_price_prediction</a>"
      ],
      "text/plain": [
       "<IPython.core.display.HTML object>"
      ]
     },
     "metadata": {},
     "output_type": "display_data"
    },
    {
     "data": {
      "text/html": [
       " View sweep at <a href='https://wandb.ai/its_mrpsycho/stock_price_prediction/sweeps/7pu82bg8' target=\"_blank\">https://wandb.ai/its_mrpsycho/stock_price_prediction/sweeps/7pu82bg8</a>"
      ],
      "text/plain": [
       "<IPython.core.display.HTML object>"
      ]
     },
     "metadata": {},
     "output_type": "display_data"
    },
    {
     "data": {
      "text/html": [
       " View run at <a href='https://wandb.ai/its_mrpsycho/stock_price_prediction/runs/m9a8vv9u' target=\"_blank\">https://wandb.ai/its_mrpsycho/stock_price_prediction/runs/m9a8vv9u</a>"
      ],
      "text/plain": [
       "<IPython.core.display.HTML object>"
      ]
     },
     "metadata": {},
     "output_type": "display_data"
    },
    {
     "name": "stdout",
     "output_type": "stream",
     "text": [
      "Epoch 100: Test MSE = 37991.2188\n",
      "Epoch 200: Test MSE = 32118.1191\n",
      "Epoch 300: Test MSE = 27140.4609\n",
      "Epoch 400: Test MSE = 22833.3496\n",
      "Epoch 500: Test MSE = 19100.2383\n",
      "Epoch 600: Test MSE = 15875.3164\n",
      "Epoch 700: Test MSE = 13104.8623\n",
      "Epoch 800: Test MSE = 10741.4629\n",
      "Epoch 900: Test MSE = 8741.7617\n",
      "Epoch 1000: Test MSE = 7065.4434\n",
      "Epoch 1100: Test MSE = 5674.7500\n",
      "Epoch 1200: Test MSE = 4534.2832\n",
      "Epoch 1300: Test MSE = 3610.9326\n",
      "Epoch 1400: Test MSE = 2873.8965\n",
      "Epoch 1500: Test MSE = 2294.7542\n",
      "Epoch 1600: Test MSE = 1847.5433\n",
      "Epoch 1700: Test MSE = 1508.8413\n",
      "Epoch 1800: Test MSE = 1257.8302\n",
      "Epoch 1900: Test MSE = 1076.3171\n",
      "Epoch 2000: Test MSE = 948.6985\n",
      "Epoch 2100: Test MSE = 861.8740\n",
      "Epoch 2200: Test MSE = 789.4677\n",
      "Epoch 2300: Test MSE = 1491.2432\n",
      "Epoch 2400: Test MSE = 836.4537\n",
      "Epoch 2500: Test MSE = 772.5992\n",
      "Epoch 2600: Test MSE = 750.2954\n",
      "Epoch 2700: Test MSE = 738.8561\n",
      "Epoch 2800: Test MSE = 734.0564\n",
      "Epoch 2900: Test MSE = 733.0668\n",
      "Epoch 3000: Test MSE = 734.0457\n",
      "Epoch 3100: Test MSE = 735.8530\n",
      "Epoch 3200: Test MSE = 737.8312\n",
      "Epoch 3300: Test MSE = 739.6384\n",
      "Epoch 3400: Test MSE = 741.1172\n",
      "Epoch 3500: Test MSE = 720.3655\n",
      "Epoch 3600: Test MSE = 726.0904\n",
      "Epoch 3700: Test MSE = 729.9537\n",
      "Epoch 3800: Test MSE = 733.2712\n",
      "Epoch 3900: Test MSE = 735.9562\n",
      "Epoch 4000: Test MSE = 746.8038\n",
      "Epoch 4100: Test MSE = 751.3022\n",
      "Epoch 4200: Test MSE = 753.3588\n",
      "Epoch 4300: Test MSE = 754.4250\n",
      "Epoch 4400: Test MSE = 751.6721\n",
      "Epoch 4500: Test MSE = 753.0048\n",
      "Epoch 4600: Test MSE = 753.4426\n",
      "Epoch 4700: Test MSE = 753.3494\n",
      "Epoch 4800: Test MSE = 753.1404\n",
      "Epoch 4900: Test MSE = 752.9373\n",
      "Epoch 5000: Test MSE = 752.7567\n",
      "Epoch 5100: Test MSE = 752.5953\n",
      "Epoch 5200: Test MSE = 752.4501\n",
      "Epoch 5300: Test MSE = 752.3191\n",
      "Epoch 5400: Test MSE = 752.1997\n",
      "Epoch 5500: Test MSE = 752.0906\n",
      "Epoch 5600: Test MSE = 751.9883\n",
      "Epoch 5700: Test MSE = 751.8928\n",
      "Epoch 5800: Test MSE = 751.8016\n",
      "Epoch 5900: Test MSE = 751.7128\n",
      "Epoch 6000: Test MSE = 751.7151\n",
      "Epoch 6100: Test MSE = 751.5463\n",
      "Epoch 6200: Test MSE = 751.4905\n",
      "Epoch 6300: Test MSE = 751.1948\n",
      "Epoch 6400: Test MSE = 751.2816\n",
      "Epoch 6500: Test MSE = 751.4669\n",
      "Epoch 6600: Test MSE = 751.1171\n",
      "Epoch 6700: Test MSE = 751.0402\n",
      "Epoch 6800: Test MSE = 750.9492\n",
      "Epoch 6900: Test MSE = 750.8044\n",
      "Epoch 7000: Test MSE = 750.7789\n",
      "Epoch 7100: Test MSE = 750.7219\n",
      "Epoch 7200: Test MSE = 750.6730\n",
      "Epoch 7300: Test MSE = 751.0500\n",
      "Epoch 7400: Test MSE = 752.8558\n",
      "Epoch 7500: Test MSE = 752.4659\n",
      "Epoch 7600: Test MSE = 752.2803\n",
      "Epoch 7700: Test MSE = 752.1284\n",
      "Epoch 7800: Test MSE = 751.9144\n",
      "Epoch 7900: Test MSE = 751.7712\n",
      "Epoch 8000: Test MSE = 751.5629\n",
      "Epoch 8100: Test MSE = 751.3346\n",
      "Epoch 8200: Test MSE = 751.1969\n",
      "Epoch 8300: Test MSE = 751.0021\n",
      "Epoch 8400: Test MSE = 750.7886\n",
      "Epoch 8500: Test MSE = 750.2980\n",
      "Epoch 8600: Test MSE = 750.3926\n",
      "Epoch 8700: Test MSE = 750.4842\n",
      "Epoch 8800: Test MSE = 750.0298\n",
      "Epoch 8900: Test MSE = 749.9136\n",
      "Epoch 9000: Test MSE = 749.6099\n",
      "Epoch 9100: Test MSE = 750.0418\n",
      "Epoch 9200: Test MSE = 750.5795\n",
      "Epoch 9300: Test MSE = 751.4214\n",
      "Epoch 9400: Test MSE = 751.3024\n",
      "Epoch 9500: Test MSE = 750.1845\n",
      "Epoch 9600: Test MSE = 749.4981\n",
      "Epoch 9700: Test MSE = 749.7156\n",
      "Epoch 9800: Test MSE = 750.4686\n",
      "Epoch 9900: Test MSE = 751.3379\n",
      "Epoch 10000: Test MSE = 752.1665\n"
     ]
    },
    {
     "data": {
      "text/html": [],
      "text/plain": [
       "<IPython.core.display.HTML object>"
      ]
     },
     "metadata": {},
     "output_type": "display_data"
    },
    {
     "data": {
      "text/html": [
       "<br>    <style><br>        .wandb-row {<br>            display: flex;<br>            flex-direction: row;<br>            flex-wrap: wrap;<br>            justify-content: flex-start;<br>            width: 100%;<br>        }<br>        .wandb-col {<br>            display: flex;<br>            flex-direction: column;<br>            flex-basis: 100%;<br>            flex: 1;<br>            padding: 10px;<br>        }<br>    </style><br><div class=\"wandb-row\"><div class=\"wandb-col\"><h3>Run history:</h3><br/><table class=\"wandb\"><tr><td>epoch</td><td>▁▁▁▁▂▂▂▂▃▃▃▃▃▃▃▄▄▄▄▄▅▅▅▅▅▅▅▆▆▆▆▆▆▆▇▇▇▇██</td></tr><tr><td>hidden_size</td><td>▁▁▁▁▁▁▁▁▁▁▁▁▁▁▁▁▁▁▁▁▁▁▁▁▁▁▁▁▁▁▁▁▁▁▁▁▁▁▁▁</td></tr><tr><td>lr</td><td>▁▁▁▁▁▁▁▁▁▁▁▁▁▁▁▁▁▁▁▁▁▁▁▁▁▁▁▁▁▁▁▁▁▁▁▁▁▁▁▁</td></tr><tr><td>num_layers</td><td>▁▁▁▁▁▁▁▁▁▁▁▁▁▁▁▁▁▁▁▁▁▁▁▁▁▁▁▁▁▁▁▁▁▁▁▁▁▁▁▁</td></tr><tr><td>test_mse</td><td>█▄▂▂▂▁▁▁▁▁▁▁▁▁▁▁▁▁▁▁▁▁▁▁▁▁▁▁▁▁▁▁▁▁▁▁▁▁▁▁</td></tr><tr><td>train_loss</td><td>█▇▆▃▂▂▂▁▁▁▁▁▁▁▁▁▁▁▁▁▁▁▁▁▁▁▁▁▁▁▁▁▁▁▁▁▁▁▁▁</td></tr></table><br/></div><div class=\"wandb-col\"><h3>Run summary:</h3><br/><table class=\"wandb\"><tr><td>epoch</td><td>10000</td></tr><tr><td>hidden_size</td><td>16</td></tr><tr><td>lr</td><td>0.01</td></tr><tr><td>num_layers</td><td>1</td></tr><tr><td>test_mse</td><td>752.1665</td></tr><tr><td>train_loss</td><td>567.35425</td></tr></table><br/></div></div>"
      ],
      "text/plain": [
       "<IPython.core.display.HTML object>"
      ]
     },
     "metadata": {},
     "output_type": "display_data"
    },
    {
     "data": {
      "text/html": [
       " View run <strong style=\"color:#cdcd00\">polished-sweep-10</strong> at: <a href='https://wandb.ai/its_mrpsycho/stock_price_prediction/runs/m9a8vv9u' target=\"_blank\">https://wandb.ai/its_mrpsycho/stock_price_prediction/runs/m9a8vv9u</a><br> View project at: <a href='https://wandb.ai/its_mrpsycho/stock_price_prediction' target=\"_blank\">https://wandb.ai/its_mrpsycho/stock_price_prediction</a><br>Synced 5 W&B file(s), 0 media file(s), 0 artifact file(s) and 0 other file(s)"
      ],
      "text/plain": [
       "<IPython.core.display.HTML object>"
      ]
     },
     "metadata": {},
     "output_type": "display_data"
    },
    {
     "data": {
      "text/html": [
       "Find logs at: <code>.\\wandb\\run-20250314_171327-m9a8vv9u\\logs</code>"
      ],
      "text/plain": [
       "<IPython.core.display.HTML object>"
      ]
     },
     "metadata": {},
     "output_type": "display_data"
    }
   ],
   "source": [
    "import pandas as pd\n",
    "import numpy as np\n",
    "import torch\n",
    "import torch.nn as nn\n",
    "import random\n",
    "from sklearn.model_selection import train_test_split\n",
    "import wandb\n",
    "\n",
    "# Set random seeds for reproducibility\n",
    "random_state = 42\n",
    "np.random.seed(random_state)\n",
    "random.seed(random_state)\n",
    "torch.manual_seed(random_state)\n",
    "if torch.cuda.is_available():\n",
    "    torch.cuda.manual_seed_all(random_state)\n",
    "\n",
    "# ----- Load Stock and Sentiment Data -----\n",
    "stock_data = pd.read_csv('AAPL_trend.csv', parse_dates=['date'])\n",
    "# We can still filter out rows if needed, but for regression, you might want to use all data.\n",
    "stock_data['closingValue'] = stock_data['closingValue'].astype(float)\n",
    "sentiment_data = pd.read_csv('sentiment_scores_title.csv', parse_dates=['date'])\n",
    "stock_data['date'] = pd.to_datetime(stock_data['date'])\n",
    "merged_data = pd.merge(stock_data, sentiment_data, on='date', how='left')\n",
    "\n",
    "# ----- Define Date Range -----\n",
    "start_date = pd.to_datetime(\"2024-02-12\")\n",
    "end_date = pd.to_datetime(\"2025-02-19\")\n",
    "selected_stock_data = merged_data[(merged_data['date'] >= start_date) & (merged_data['date'] <= end_date)]\n",
    "\n",
    "# ----- Feature Engineering -----\n",
    "X_days = 7  # Use previous 7 days of closing prices\n",
    "Y_days = 1  # Use previous 1 day of sentiment scores\n",
    "selected_stock_data = selected_stock_data.sort_values('date')\n",
    "closing_values = selected_stock_data['closingValue'].values\n",
    "sentiment_scores = selected_stock_data['sentiment_score'].values\n",
    "\n",
    "features, labels = [], []\n",
    "# For regression, use the closing value at time i as the label\n",
    "for i in range(max(X_days, Y_days), len(selected_stock_data)):\n",
    "    stock_features = closing_values[i - X_days:i]\n",
    "    sentiment_feature = sentiment_scores[i - Y_days:i]\n",
    "    feature_vector = np.concatenate([stock_features, sentiment_feature])\n",
    "    features.append(feature_vector)\n",
    "    labels.append(closing_values[i])  # Predict the closing value at time i\n",
    "\n",
    "features = np.array(features)\n",
    "labels = np.array(labels)\n",
    "\n",
    "# Train-Test Split (no stratification for regression)\n",
    "X_train, X_test, y_train, y_test = train_test_split(\n",
    "    features, labels, test_size=0.2, random_state=random_state\n",
    ")\n",
    "\n",
    "# Define LSTM Model for Regression\n",
    "class StockPriceLSTM(nn.Module):\n",
    "    def __init__(self, input_size, hidden_size, num_layers):\n",
    "        super(StockPriceLSTM, self).__init__()\n",
    "        self.hidden_size = hidden_size\n",
    "        self.num_layers = num_layers\n",
    "        self.lstm = nn.LSTM(input_size, hidden_size, num_layers, batch_first=True)\n",
    "        self.fc = nn.Linear(hidden_size, 1)  # Output a single value\n",
    "        \n",
    "    def forward(self, x):\n",
    "        h0 = torch.zeros(self.num_layers, x.size(0), self.hidden_size)\n",
    "        c0 = torch.zeros(self.num_layers, x.size(0), self.hidden_size)\n",
    "        out, _ = self.lstm(x, (h0, c0))\n",
    "        out = out[:, -1, :]  # Use the last time step's output\n",
    "        out = self.fc(out)\n",
    "        return out\n",
    "\n",
    "# Prepare data for LSTM\n",
    "input_size = 1\n",
    "X_train_seq = X_train.reshape(X_train.shape[0], X_train.shape[1], 1)\n",
    "X_test_seq = X_test.reshape(X_test.shape[0], X_test.shape[1], 1)\n",
    "X_train_tensor = torch.tensor(X_train_seq, dtype=torch.float32)\n",
    "X_test_tensor = torch.tensor(X_test_seq, dtype=torch.float32)\n",
    "# For regression, targets are float values\n",
    "y_train_tensor = torch.tensor(y_train, dtype=torch.float32).view(-1, 1)\n",
    "y_test_tensor = torch.tensor(y_test, dtype=torch.float32).view(-1, 1)\n",
    "\n",
    "# ----- Define W&B Sweep Configuration for Regression -----\n",
    "sweep_config = {\n",
    "    \"method\": \"bayes\",  # Can also be \"random\" or \"grid\"\n",
    "    \"metric\": {\"name\": \"mse\", \"goal\": \"minimize\"},\n",
    "    \"parameters\": {\n",
    "        \"hidden_size\": {\"values\": [16, 32, 64]},\n",
    "        \"num_layers\": {\"values\": [1, 2, 3]},\n",
    "        \"lr\": {\"values\": [0.01, 0.001, 0.0001]},\n",
    "        \"num_epochs\": {\"value\": 10000}  # Fixed for tuning purposes\n",
    "    }\n",
    "}\n",
    "\n",
    "# Create a new project for stock price prediction\n",
    "sweep_id = wandb.sweep(sweep_config, project=\"stock_price_prediction\")\n",
    "\n",
    "# ----- Training Function for Regression -----\n",
    "def train():\n",
    "    wandb.init()\n",
    "    config = wandb.config  # Load sweep parameters\n",
    "\n",
    "    model = StockPriceLSTM(\n",
    "        input_size=1,\n",
    "        hidden_size=config.hidden_size,\n",
    "        num_layers=config.num_layers\n",
    "    )\n",
    "    \n",
    "    criterion = nn.MSELoss()\n",
    "    optimizer = torch.optim.Adam(model.parameters(), lr=config.lr)\n",
    "\n",
    "    num_epochs = config.num_epochs\n",
    "    for epoch in range(num_epochs):\n",
    "        model.train()\n",
    "        outputs = model(X_train_tensor)\n",
    "        loss = criterion(outputs, y_train_tensor)\n",
    "        \n",
    "        optimizer.zero_grad()\n",
    "        loss.backward()\n",
    "        optimizer.step()\n",
    "        \n",
    "        if (epoch + 1) % 100 == 0:\n",
    "            model.eval()\n",
    "            with torch.no_grad():\n",
    "                test_outputs = model(X_test_tensor)\n",
    "                test_loss = criterion(test_outputs, y_test_tensor)\n",
    "                # Log hyperparameters & metrics to wandb\n",
    "                wandb.log({\n",
    "                    \"epoch\": epoch + 1,\n",
    "                    \"train_loss\": loss.item(),\n",
    "                    \"test_mse\": test_loss.item(),\n",
    "                    \"hidden_size\": config.hidden_size,\n",
    "                    \"num_layers\": config.num_layers,\n",
    "                    \"lr\": config.lr\n",
    "                })\n",
    "                print(f\"Epoch {epoch + 1}: Test MSE = {test_loss.item():.4f}\")\n",
    "\n",
    "    wandb.finish()\n",
    "\n",
    "# ----- Run Sweep with Multiple Configurations -----\n",
    "wandb.agent(sweep_id, train, count=10)  # Run 10 different configurations\n"
   ]
  }
 ],
 "metadata": {
  "kernelspec": {
   "display_name": "finance",
   "language": "python",
   "name": "python3"
  },
  "language_info": {
   "codemirror_mode": {
    "name": "ipython",
    "version": 3
   },
   "file_extension": ".py",
   "mimetype": "text/x-python",
   "name": "python",
   "nbconvert_exporter": "python",
   "pygments_lexer": "ipython3",
   "version": "3.10.16"
  }
 },
 "nbformat": 4,
 "nbformat_minor": 2
}
