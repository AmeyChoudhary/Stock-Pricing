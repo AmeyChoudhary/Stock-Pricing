{
 "cells": [
  {
   "cell_type": "code",
   "execution_count": 1,
   "metadata": {},
   "outputs": [
    {
     "name": "stderr",
     "output_type": "stream",
     "text": [
      "wandb: Using wandb-core as the SDK backend.  Please refer to https://wandb.me/wandb-core for more information.\n",
      "wandb: Logging into wandb.ai. (Learn how to deploy a W&B server locally: https://wandb.me/wandb-server)\n",
      "wandb: You can find your API key in your browser here: https://wandb.ai/authorize\n",
      "wandb: Paste an API key from your profile and hit enter:wandb: Paste an API key from your profile and hit enter:wandb: WARNING If you're specifying your api key in code, ensure this code is not shared publicly.\n",
      "wandb: WARNING Consider setting the WANDB_API_KEY environment variable, or running `wandb login` from the command line.\n",
      "wandb: No netrc file found, creating one.\n",
      "wandb: Appending key for api.wandb.ai to your netrc file: C:\\Users\\sanni\\_netrc\n"
     ]
    },
    {
     "name": "stdout",
     "output_type": "stream",
     "text": [
      "Create sweep with ID: pgem3zdy\n",
      "Sweep URL: https://wandb.ai/its_mrpsycho/stock_trend_lstm/sweeps/pgem3zdy\n"
     ]
    },
    {
     "name": "stderr",
     "output_type": "stream",
     "text": [
      "wandb: Agent Starting Run: f50aadaq with config:\n",
      "wandb: \thidden_size: 16\n",
      "wandb: \tlr: 0.001\n",
      "wandb: \tnum_epochs: 10000\n",
      "wandb: \tnum_layers: 2\n",
      "wandb: Currently logged in as: its_mrpsycho to https://api.wandb.ai. Use `wandb login --relogin` to force relogin\n"
     ]
    },
    {
     "data": {
      "text/html": [
       "Tracking run with wandb version 0.19.8"
      ],
      "text/plain": [
       "<IPython.core.display.HTML object>"
      ]
     },
     "metadata": {},
     "output_type": "display_data"
    },
    {
     "data": {
      "text/html": [
       "Run data is saved locally in <code>d:\\Finance\\Finance\\Option-Pricing\\Option_Pricing\\wandb\\run-20250314_163554-f50aadaq</code>"
      ],
      "text/plain": [
       "<IPython.core.display.HTML object>"
      ]
     },
     "metadata": {},
     "output_type": "display_data"
    },
    {
     "data": {
      "text/html": [
       "Syncing run <strong><a href='https://wandb.ai/its_mrpsycho/stock_trend_lstm/runs/f50aadaq' target=\"_blank\">dry-sweep-1</a></strong> to <a href='https://wandb.ai/its_mrpsycho/stock_trend_lstm' target=\"_blank\">Weights & Biases</a> (<a href='https://wandb.me/developer-guide' target=\"_blank\">docs</a>)<br>Sweep page: <a href='https://wandb.ai/its_mrpsycho/stock_trend_lstm/sweeps/pgem3zdy' target=\"_blank\">https://wandb.ai/its_mrpsycho/stock_trend_lstm/sweeps/pgem3zdy</a>"
      ],
      "text/plain": [
       "<IPython.core.display.HTML object>"
      ]
     },
     "metadata": {},
     "output_type": "display_data"
    },
    {
     "data": {
      "text/html": [
       " View project at <a href='https://wandb.ai/its_mrpsycho/stock_trend_lstm' target=\"_blank\">https://wandb.ai/its_mrpsycho/stock_trend_lstm</a>"
      ],
      "text/plain": [
       "<IPython.core.display.HTML object>"
      ]
     },
     "metadata": {},
     "output_type": "display_data"
    },
    {
     "data": {
      "text/html": [
       " View sweep at <a href='https://wandb.ai/its_mrpsycho/stock_trend_lstm/sweeps/pgem3zdy' target=\"_blank\">https://wandb.ai/its_mrpsycho/stock_trend_lstm/sweeps/pgem3zdy</a>"
      ],
      "text/plain": [
       "<IPython.core.display.HTML object>"
      ]
     },
     "metadata": {},
     "output_type": "display_data"
    },
    {
     "data": {
      "text/html": [
       " View run at <a href='https://wandb.ai/its_mrpsycho/stock_trend_lstm/runs/f50aadaq' target=\"_blank\">https://wandb.ai/its_mrpsycho/stock_trend_lstm/runs/f50aadaq</a>"
      ],
      "text/plain": [
       "<IPython.core.display.HTML object>"
      ]
     },
     "metadata": {},
     "output_type": "display_data"
    },
    {
     "name": "stdout",
     "output_type": "stream",
     "text": [
      "Epoch 100: Accuracy = 0.5800\n",
      "Epoch 200: Accuracy = 0.5800\n",
      "Epoch 300: Accuracy = 0.5800\n",
      "Epoch 400: Accuracy = 0.5800\n",
      "Epoch 500: Accuracy = 0.5800\n",
      "Epoch 600: Accuracy = 0.5800\n",
      "Epoch 700: Accuracy = 0.5800\n",
      "Epoch 800: Accuracy = 0.5800\n",
      "Epoch 900: Accuracy = 0.5800\n",
      "Epoch 1000: Accuracy = 0.5800\n",
      "Epoch 1100: Accuracy = 0.5800\n",
      "Epoch 1200: Accuracy = 0.5800\n",
      "Epoch 1300: Accuracy = 0.5800\n",
      "Epoch 1400: Accuracy = 0.5800\n",
      "Epoch 1500: Accuracy = 0.5800\n",
      "Epoch 1600: Accuracy = 0.5800\n",
      "Epoch 1700: Accuracy = 0.5800\n",
      "Epoch 1800: Accuracy = 0.5800\n",
      "Epoch 1900: Accuracy = 0.5800\n",
      "Epoch 2000: Accuracy = 0.5800\n",
      "Epoch 2100: Accuracy = 0.5800\n",
      "Epoch 2200: Accuracy = 0.5800\n",
      "Epoch 2300: Accuracy = 0.5800\n",
      "Epoch 2400: Accuracy = 0.5800\n",
      "Epoch 2500: Accuracy = 0.5400\n",
      "Epoch 2600: Accuracy = 0.5800\n",
      "Epoch 2700: Accuracy = 0.5600\n",
      "Epoch 2800: Accuracy = 0.5400\n",
      "Epoch 2900: Accuracy = 0.5800\n",
      "Epoch 3000: Accuracy = 0.5800\n",
      "Epoch 3100: Accuracy = 0.5400\n",
      "Epoch 3200: Accuracy = 0.5400\n",
      "Epoch 3300: Accuracy = 0.5400\n",
      "Epoch 3400: Accuracy = 0.5400\n",
      "Epoch 3500: Accuracy = 0.5600\n",
      "Epoch 3600: Accuracy = 0.5600\n",
      "Epoch 3700: Accuracy = 0.5800\n",
      "Epoch 3800: Accuracy = 0.5600\n",
      "Epoch 3900: Accuracy = 0.5800\n",
      "Epoch 4000: Accuracy = 0.6000\n",
      "Epoch 4100: Accuracy = 0.5600\n",
      "Epoch 4200: Accuracy = 0.5600\n",
      "Epoch 4300: Accuracy = 0.6000\n",
      "Epoch 4400: Accuracy = 0.6000\n",
      "Epoch 4500: Accuracy = 0.6000\n",
      "Epoch 4600: Accuracy = 0.5800\n",
      "Epoch 4700: Accuracy = 0.5800\n",
      "Epoch 4800: Accuracy = 0.6000\n",
      "Epoch 4900: Accuracy = 0.6000\n",
      "Epoch 5000: Accuracy = 0.5600\n",
      "Epoch 5100: Accuracy = 0.6000\n",
      "Epoch 5200: Accuracy = 0.5600\n",
      "Epoch 5300: Accuracy = 0.6200\n",
      "Epoch 5400: Accuracy = 0.5600\n",
      "Epoch 5500: Accuracy = 0.6400\n",
      "Epoch 5600: Accuracy = 0.6200\n",
      "Epoch 5700: Accuracy = 0.6400\n",
      "Epoch 5800: Accuracy = 0.4400\n",
      "Epoch 5900: Accuracy = 0.6000\n",
      "Epoch 6000: Accuracy = 0.6000\n",
      "Epoch 6100: Accuracy = 0.6000\n",
      "Epoch 6200: Accuracy = 0.5800\n",
      "Epoch 6300: Accuracy = 0.5800\n",
      "Epoch 6400: Accuracy = 0.6000\n",
      "Epoch 6500: Accuracy = 0.6000\n",
      "Epoch 6600: Accuracy = 0.5800\n",
      "Epoch 6700: Accuracy = 0.6000\n",
      "Epoch 6800: Accuracy = 0.5800\n",
      "Epoch 6900: Accuracy = 0.6000\n",
      "Epoch 7000: Accuracy = 0.5800\n",
      "Epoch 7100: Accuracy = 0.5800\n",
      "Epoch 7200: Accuracy = 0.5800\n",
      "Epoch 7300: Accuracy = 0.5800\n",
      "Epoch 7400: Accuracy = 0.6000\n",
      "Epoch 7500: Accuracy = 0.5400\n",
      "Epoch 7600: Accuracy = 0.6000\n",
      "Epoch 7700: Accuracy = 0.6000\n",
      "Epoch 7800: Accuracy = 0.6000\n",
      "Epoch 7900: Accuracy = 0.6000\n",
      "Epoch 8000: Accuracy = 0.6000\n",
      "Epoch 8100: Accuracy = 0.5200\n",
      "Epoch 8200: Accuracy = 0.5200\n",
      "Epoch 8300: Accuracy = 0.5200\n",
      "Epoch 8400: Accuracy = 0.6000\n",
      "Epoch 8500: Accuracy = 0.6000\n",
      "Epoch 8600: Accuracy = 0.6000\n",
      "Epoch 8700: Accuracy = 0.6000\n",
      "Epoch 8800: Accuracy = 0.6000\n",
      "Epoch 8900: Accuracy = 0.5000\n",
      "Epoch 9000: Accuracy = 0.6000\n",
      "Epoch 9100: Accuracy = 0.5600\n",
      "Epoch 9200: Accuracy = 0.5600\n",
      "Epoch 9300: Accuracy = 0.5600\n",
      "Epoch 9400: Accuracy = 0.5200\n",
      "Epoch 9500: Accuracy = 0.5800\n",
      "Epoch 9600: Accuracy = 0.5600\n",
      "Epoch 9700: Accuracy = 0.5600\n",
      "Epoch 9800: Accuracy = 0.5000\n",
      "Epoch 9900: Accuracy = 0.5000\n",
      "Epoch 10000: Accuracy = 0.5200\n"
     ]
    },
    {
     "data": {
      "text/html": [],
      "text/plain": [
       "<IPython.core.display.HTML object>"
      ]
     },
     "metadata": {},
     "output_type": "display_data"
    },
    {
     "data": {
      "text/html": [
       "<br>    <style><br>        .wandb-row {<br>            display: flex;<br>            flex-direction: row;<br>            flex-wrap: wrap;<br>            justify-content: flex-start;<br>            width: 100%;<br>        }<br>        .wandb-col {<br>            display: flex;<br>            flex-direction: column;<br>            flex-basis: 100%;<br>            flex: 1;<br>            padding: 10px;<br>        }<br>    </style><br><div class=\"wandb-row\"><div class=\"wandb-col\"><h3>Run history:</h3><br/><table class=\"wandb\"><tr><td>accuracy</td><td>▆▆▆▆▆▆▅▅▆▆▅▅▇▅▆▇▇▅█▇▁▇▇▇▆▆▅▇▇▇▇▇▇▃▅▅▄▅▃▄</td></tr><tr><td>epoch</td><td>▁▁▁▁▂▂▂▂▂▂▃▃▃▃▃▃▄▄▄▄▄▄▄▄▄▅▅▅▅▆▆▆▆▆▇▇▇▇▇█</td></tr><tr><td>hidden_size</td><td>▁▁▁▁▁▁▁▁▁▁▁▁▁▁▁▁▁▁▁▁▁▁▁▁▁▁▁▁▁▁▁▁▁▁▁▁▁▁▁▁</td></tr><tr><td>loss</td><td>▇▇▇▇▇▇▇▇▇▇▇▇▆▆▅▅▅▅▄▄▂▂▆▃▂▄▂▁▂▁▂▁▁▁▁▁▁▁█▁</td></tr><tr><td>lr</td><td>▁▁▁▁▁▁▁▁▁▁▁▁▁▁▁▁▁▁▁▁▁▁▁▁▁▁▁▁▁▁▁▁▁▁▁▁▁▁▁▁</td></tr><tr><td>num_layers</td><td>▁▁▁▁▁▁▁▁▁▁▁▁▁▁▁▁▁▁▁▁▁▁▁▁▁▁▁▁▁▁▁▁▁▁▁▁▁▁▁▁</td></tr></table><br/></div><div class=\"wandb-col\"><h3>Run summary:</h3><br/><table class=\"wandb\"><tr><td>accuracy</td><td>0.52</td></tr><tr><td>epoch</td><td>10000</td></tr><tr><td>hidden_size</td><td>16</td></tr><tr><td>loss</td><td>0.50728</td></tr><tr><td>lr</td><td>0.001</td></tr><tr><td>num_layers</td><td>2</td></tr></table><br/></div></div>"
      ],
      "text/plain": [
       "<IPython.core.display.HTML object>"
      ]
     },
     "metadata": {},
     "output_type": "display_data"
    },
    {
     "data": {
      "text/html": [
       " View run <strong style=\"color:#cdcd00\">dry-sweep-1</strong> at: <a href='https://wandb.ai/its_mrpsycho/stock_trend_lstm/runs/f50aadaq' target=\"_blank\">https://wandb.ai/its_mrpsycho/stock_trend_lstm/runs/f50aadaq</a><br> View project at: <a href='https://wandb.ai/its_mrpsycho/stock_trend_lstm' target=\"_blank\">https://wandb.ai/its_mrpsycho/stock_trend_lstm</a><br>Synced 5 W&B file(s), 0 media file(s), 0 artifact file(s) and 0 other file(s)"
      ],
      "text/plain": [
       "<IPython.core.display.HTML object>"
      ]
     },
     "metadata": {},
     "output_type": "display_data"
    },
    {
     "data": {
      "text/html": [
       "Find logs at: <code>.\\wandb\\run-20250314_163554-f50aadaq\\logs</code>"
      ],
      "text/plain": [
       "<IPython.core.display.HTML object>"
      ]
     },
     "metadata": {},
     "output_type": "display_data"
    },
    {
     "name": "stderr",
     "output_type": "stream",
     "text": [
      "wandb: Sweep Agent: Waiting for job.\n",
      "wandb: Job received.\n",
      "wandb: Agent Starting Run: buezlqxo with config:\n",
      "wandb: \thidden_size: 32\n",
      "wandb: \tlr: 0.0001\n",
      "wandb: \tnum_epochs: 10000\n",
      "wandb: \tnum_layers: 3\n"
     ]
    },
    {
     "data": {
      "text/html": [
       "Tracking run with wandb version 0.19.8"
      ],
      "text/plain": [
       "<IPython.core.display.HTML object>"
      ]
     },
     "metadata": {},
     "output_type": "display_data"
    },
    {
     "data": {
      "text/html": [
       "Run data is saved locally in <code>d:\\Finance\\Finance\\Option-Pricing\\Option_Pricing\\wandb\\run-20250314_163657-buezlqxo</code>"
      ],
      "text/plain": [
       "<IPython.core.display.HTML object>"
      ]
     },
     "metadata": {},
     "output_type": "display_data"
    },
    {
     "data": {
      "text/html": [
       "Syncing run <strong><a href='https://wandb.ai/its_mrpsycho/stock_trend_lstm/runs/buezlqxo' target=\"_blank\">solar-sweep-2</a></strong> to <a href='https://wandb.ai/its_mrpsycho/stock_trend_lstm' target=\"_blank\">Weights & Biases</a> (<a href='https://wandb.me/developer-guide' target=\"_blank\">docs</a>)<br>Sweep page: <a href='https://wandb.ai/its_mrpsycho/stock_trend_lstm/sweeps/pgem3zdy' target=\"_blank\">https://wandb.ai/its_mrpsycho/stock_trend_lstm/sweeps/pgem3zdy</a>"
      ],
      "text/plain": [
       "<IPython.core.display.HTML object>"
      ]
     },
     "metadata": {},
     "output_type": "display_data"
    },
    {
     "data": {
      "text/html": [
       " View project at <a href='https://wandb.ai/its_mrpsycho/stock_trend_lstm' target=\"_blank\">https://wandb.ai/its_mrpsycho/stock_trend_lstm</a>"
      ],
      "text/plain": [
       "<IPython.core.display.HTML object>"
      ]
     },
     "metadata": {},
     "output_type": "display_data"
    },
    {
     "data": {
      "text/html": [
       " View sweep at <a href='https://wandb.ai/its_mrpsycho/stock_trend_lstm/sweeps/pgem3zdy' target=\"_blank\">https://wandb.ai/its_mrpsycho/stock_trend_lstm/sweeps/pgem3zdy</a>"
      ],
      "text/plain": [
       "<IPython.core.display.HTML object>"
      ]
     },
     "metadata": {},
     "output_type": "display_data"
    },
    {
     "data": {
      "text/html": [
       " View run at <a href='https://wandb.ai/its_mrpsycho/stock_trend_lstm/runs/buezlqxo' target=\"_blank\">https://wandb.ai/its_mrpsycho/stock_trend_lstm/runs/buezlqxo</a>"
      ],
      "text/plain": [
       "<IPython.core.display.HTML object>"
      ]
     },
     "metadata": {},
     "output_type": "display_data"
    },
    {
     "name": "stdout",
     "output_type": "stream",
     "text": [
      "Epoch 100: Accuracy = 0.5800\n",
      "Epoch 200: Accuracy = 0.5800\n",
      "Epoch 300: Accuracy = 0.5800\n",
      "Epoch 400: Accuracy = 0.5800\n",
      "Epoch 500: Accuracy = 0.5800\n",
      "Epoch 600: Accuracy = 0.5800\n",
      "Epoch 700: Accuracy = 0.5800\n",
      "Epoch 800: Accuracy = 0.5800\n",
      "Epoch 900: Accuracy = 0.5800\n",
      "Epoch 1000: Accuracy = 0.5800\n",
      "Epoch 1100: Accuracy = 0.5800\n",
      "Epoch 1200: Accuracy = 0.5800\n",
      "Epoch 1300: Accuracy = 0.5800\n",
      "Epoch 1400: Accuracy = 0.5800\n",
      "Epoch 1500: Accuracy = 0.5800\n",
      "Epoch 1600: Accuracy = 0.5800\n",
      "Epoch 1700: Accuracy = 0.5800\n",
      "Epoch 1800: Accuracy = 0.5800\n",
      "Epoch 1900: Accuracy = 0.5800\n",
      "Epoch 2000: Accuracy = 0.5800\n",
      "Epoch 2100: Accuracy = 0.5800\n",
      "Epoch 2200: Accuracy = 0.5800\n",
      "Epoch 2300: Accuracy = 0.5800\n",
      "Epoch 2400: Accuracy = 0.5800\n",
      "Epoch 2500: Accuracy = 0.5800\n",
      "Epoch 2600: Accuracy = 0.5800\n",
      "Epoch 2700: Accuracy = 0.5800\n",
      "Epoch 2800: Accuracy = 0.5800\n",
      "Epoch 2900: Accuracy = 0.5800\n",
      "Epoch 3000: Accuracy = 0.5800\n",
      "Epoch 3100: Accuracy = 0.5800\n",
      "Epoch 3200: Accuracy = 0.5800\n",
      "Epoch 3300: Accuracy = 0.5800\n",
      "Epoch 3400: Accuracy = 0.5800\n",
      "Epoch 3500: Accuracy = 0.5800\n",
      "Epoch 3600: Accuracy = 0.5800\n",
      "Epoch 3700: Accuracy = 0.5800\n",
      "Epoch 3800: Accuracy = 0.5800\n",
      "Epoch 3900: Accuracy = 0.5800\n",
      "Epoch 4000: Accuracy = 0.5800\n",
      "Epoch 4100: Accuracy = 0.5800\n",
      "Epoch 4200: Accuracy = 0.5800\n",
      "Epoch 4300: Accuracy = 0.5800\n",
      "Epoch 4400: Accuracy = 0.5800\n",
      "Epoch 4500: Accuracy = 0.5800\n",
      "Epoch 4600: Accuracy = 0.5800\n",
      "Epoch 4700: Accuracy = 0.5800\n",
      "Epoch 4800: Accuracy = 0.5800\n",
      "Epoch 4900: Accuracy = 0.5800\n",
      "Epoch 5000: Accuracy = 0.5800\n",
      "Epoch 5100: Accuracy = 0.5800\n",
      "Epoch 5200: Accuracy = 0.5800\n",
      "Epoch 5300: Accuracy = 0.5800\n",
      "Epoch 5400: Accuracy = 0.5800\n",
      "Epoch 5500: Accuracy = 0.5800\n",
      "Epoch 5600: Accuracy = 0.5800\n",
      "Epoch 5700: Accuracy = 0.5800\n",
      "Epoch 5800: Accuracy = 0.5800\n",
      "Epoch 5900: Accuracy = 0.5800\n",
      "Epoch 6000: Accuracy = 0.5800\n",
      "Epoch 6100: Accuracy = 0.5800\n",
      "Epoch 6200: Accuracy = 0.5800\n",
      "Epoch 6300: Accuracy = 0.5800\n",
      "Epoch 6400: Accuracy = 0.5800\n",
      "Epoch 6500: Accuracy = 0.5800\n",
      "Epoch 6600: Accuracy = 0.5800\n",
      "Epoch 6700: Accuracy = 0.5800\n",
      "Epoch 6800: Accuracy = 0.5800\n",
      "Epoch 6900: Accuracy = 0.5800\n",
      "Epoch 7000: Accuracy = 0.5800\n",
      "Epoch 7100: Accuracy = 0.5800\n",
      "Epoch 7200: Accuracy = 0.5800\n",
      "Epoch 7300: Accuracy = 0.5800\n",
      "Epoch 7400: Accuracy = 0.5800\n",
      "Epoch 7500: Accuracy = 0.5800\n",
      "Epoch 7600: Accuracy = 0.5800\n",
      "Epoch 7700: Accuracy = 0.5800\n",
      "Epoch 7800: Accuracy = 0.5800\n",
      "Epoch 7900: Accuracy = 0.5800\n",
      "Epoch 8000: Accuracy = 0.5400\n",
      "Epoch 8100: Accuracy = 0.5200\n",
      "Epoch 8200: Accuracy = 0.5200\n",
      "Epoch 8300: Accuracy = 0.5200\n",
      "Epoch 8400: Accuracy = 0.5200\n",
      "Epoch 8500: Accuracy = 0.5200\n",
      "Epoch 8600: Accuracy = 0.5400\n",
      "Epoch 8700: Accuracy = 0.5400\n",
      "Epoch 8800: Accuracy = 0.5200\n",
      "Epoch 8900: Accuracy = 0.5200\n",
      "Epoch 9000: Accuracy = 0.5200\n",
      "Epoch 9100: Accuracy = 0.5000\n",
      "Epoch 9200: Accuracy = 0.5400\n",
      "Epoch 9300: Accuracy = 0.5600\n",
      "Epoch 9400: Accuracy = 0.5400\n",
      "Epoch 9500: Accuracy = 0.5600\n",
      "Epoch 9600: Accuracy = 0.5600\n",
      "Epoch 9700: Accuracy = 0.5600\n",
      "Epoch 9800: Accuracy = 0.5600\n",
      "Epoch 9900: Accuracy = 0.5600\n",
      "Epoch 10000: Accuracy = 0.5600\n"
     ]
    },
    {
     "data": {
      "text/html": [],
      "text/plain": [
       "<IPython.core.display.HTML object>"
      ]
     },
     "metadata": {},
     "output_type": "display_data"
    },
    {
     "data": {
      "text/html": [
       "<br>    <style><br>        .wandb-row {<br>            display: flex;<br>            flex-direction: row;<br>            flex-wrap: wrap;<br>            justify-content: flex-start;<br>            width: 100%;<br>        }<br>        .wandb-col {<br>            display: flex;<br>            flex-direction: column;<br>            flex-basis: 100%;<br>            flex: 1;<br>            padding: 10px;<br>        }<br>    </style><br><div class=\"wandb-row\"><div class=\"wandb-col\"><h3>Run history:</h3><br/><table class=\"wandb\"><tr><td>accuracy</td><td>██████████████████████████████▃▁▁▁▁▁▁▆▃▆</td></tr><tr><td>epoch</td><td>▁▁▁▂▂▂▂▂▂▂▃▃▃▃▃▃▃▃▃▄▄▄▅▅▅▅▅▆▆▆▇▇▇▇▇▇████</td></tr><tr><td>hidden_size</td><td>▁▁▁▁▁▁▁▁▁▁▁▁▁▁▁▁▁▁▁▁▁▁▁▁▁▁▁▁▁▁▁▁▁▁▁▁▁▁▁▁</td></tr><tr><td>loss</td><td>██▇▇▇▇▇▇▇▇▇▇▇▇▇▇▇▇▇▇▇▇▇▇▇▇▇▇▇▇▇▆▆▅▅▄▃▂▁▁</td></tr><tr><td>lr</td><td>▁▁▁▁▁▁▁▁▁▁▁▁▁▁▁▁▁▁▁▁▁▁▁▁▁▁▁▁▁▁▁▁▁▁▁▁▁▁▁▁</td></tr><tr><td>num_layers</td><td>▁▁▁▁▁▁▁▁▁▁▁▁▁▁▁▁▁▁▁▁▁▁▁▁▁▁▁▁▁▁▁▁▁▁▁▁▁▁▁▁</td></tr></table><br/></div><div class=\"wandb-col\"><h3>Run summary:</h3><br/><table class=\"wandb\"><tr><td>accuracy</td><td>0.56</td></tr><tr><td>epoch</td><td>10000</td></tr><tr><td>hidden_size</td><td>32</td></tr><tr><td>loss</td><td>0.61817</td></tr><tr><td>lr</td><td>0.0001</td></tr><tr><td>num_layers</td><td>3</td></tr></table><br/></div></div>"
      ],
      "text/plain": [
       "<IPython.core.display.HTML object>"
      ]
     },
     "metadata": {},
     "output_type": "display_data"
    },
    {
     "data": {
      "text/html": [
       " View run <strong style=\"color:#cdcd00\">solar-sweep-2</strong> at: <a href='https://wandb.ai/its_mrpsycho/stock_trend_lstm/runs/buezlqxo' target=\"_blank\">https://wandb.ai/its_mrpsycho/stock_trend_lstm/runs/buezlqxo</a><br> View project at: <a href='https://wandb.ai/its_mrpsycho/stock_trend_lstm' target=\"_blank\">https://wandb.ai/its_mrpsycho/stock_trend_lstm</a><br>Synced 5 W&B file(s), 0 media file(s), 0 artifact file(s) and 0 other file(s)"
      ],
      "text/plain": [
       "<IPython.core.display.HTML object>"
      ]
     },
     "metadata": {},
     "output_type": "display_data"
    },
    {
     "data": {
      "text/html": [
       "Find logs at: <code>.\\wandb\\run-20250314_163657-buezlqxo\\logs</code>"
      ],
      "text/plain": [
       "<IPython.core.display.HTML object>"
      ]
     },
     "metadata": {},
     "output_type": "display_data"
    },
    {
     "name": "stderr",
     "output_type": "stream",
     "text": [
      "wandb: Agent Starting Run: mjlg65n0 with config:\n",
      "wandb: \thidden_size: 32\n",
      "wandb: \tlr: 0.0001\n",
      "wandb: \tnum_epochs: 10000\n",
      "wandb: \tnum_layers: 3\n"
     ]
    },
    {
     "data": {
      "text/html": [
       "Tracking run with wandb version 0.19.8"
      ],
      "text/plain": [
       "<IPython.core.display.HTML object>"
      ]
     },
     "metadata": {},
     "output_type": "display_data"
    },
    {
     "data": {
      "text/html": [
       "Run data is saved locally in <code>d:\\Finance\\Finance\\Option-Pricing\\Option_Pricing\\wandb\\run-20250314_163832-mjlg65n0</code>"
      ],
      "text/plain": [
       "<IPython.core.display.HTML object>"
      ]
     },
     "metadata": {},
     "output_type": "display_data"
    },
    {
     "data": {
      "text/html": [
       "Syncing run <strong><a href='https://wandb.ai/its_mrpsycho/stock_trend_lstm/runs/mjlg65n0' target=\"_blank\">super-sweep-3</a></strong> to <a href='https://wandb.ai/its_mrpsycho/stock_trend_lstm' target=\"_blank\">Weights & Biases</a> (<a href='https://wandb.me/developer-guide' target=\"_blank\">docs</a>)<br>Sweep page: <a href='https://wandb.ai/its_mrpsycho/stock_trend_lstm/sweeps/pgem3zdy' target=\"_blank\">https://wandb.ai/its_mrpsycho/stock_trend_lstm/sweeps/pgem3zdy</a>"
      ],
      "text/plain": [
       "<IPython.core.display.HTML object>"
      ]
     },
     "metadata": {},
     "output_type": "display_data"
    },
    {
     "data": {
      "text/html": [
       " View project at <a href='https://wandb.ai/its_mrpsycho/stock_trend_lstm' target=\"_blank\">https://wandb.ai/its_mrpsycho/stock_trend_lstm</a>"
      ],
      "text/plain": [
       "<IPython.core.display.HTML object>"
      ]
     },
     "metadata": {},
     "output_type": "display_data"
    },
    {
     "data": {
      "text/html": [
       " View sweep at <a href='https://wandb.ai/its_mrpsycho/stock_trend_lstm/sweeps/pgem3zdy' target=\"_blank\">https://wandb.ai/its_mrpsycho/stock_trend_lstm/sweeps/pgem3zdy</a>"
      ],
      "text/plain": [
       "<IPython.core.display.HTML object>"
      ]
     },
     "metadata": {},
     "output_type": "display_data"
    },
    {
     "data": {
      "text/html": [
       " View run at <a href='https://wandb.ai/its_mrpsycho/stock_trend_lstm/runs/mjlg65n0' target=\"_blank\">https://wandb.ai/its_mrpsycho/stock_trend_lstm/runs/mjlg65n0</a>"
      ],
      "text/plain": [
       "<IPython.core.display.HTML object>"
      ]
     },
     "metadata": {},
     "output_type": "display_data"
    },
    {
     "name": "stdout",
     "output_type": "stream",
     "text": [
      "Epoch 100: Accuracy = 0.5800\n",
      "Epoch 200: Accuracy = 0.5800\n",
      "Epoch 300: Accuracy = 0.5800\n",
      "Epoch 400: Accuracy = 0.5800\n",
      "Epoch 500: Accuracy = 0.5800\n",
      "Epoch 600: Accuracy = 0.5800\n",
      "Epoch 700: Accuracy = 0.5800\n",
      "Epoch 800: Accuracy = 0.5800\n",
      "Epoch 900: Accuracy = 0.5800\n",
      "Epoch 1000: Accuracy = 0.5800\n",
      "Epoch 1100: Accuracy = 0.5800\n",
      "Epoch 1200: Accuracy = 0.5800\n",
      "Epoch 1300: Accuracy = 0.5800\n",
      "Epoch 1400: Accuracy = 0.5800\n",
      "Epoch 1500: Accuracy = 0.5800\n",
      "Epoch 1600: Accuracy = 0.5800\n",
      "Epoch 1700: Accuracy = 0.5800\n",
      "Epoch 1800: Accuracy = 0.5800\n",
      "Epoch 1900: Accuracy = 0.5800\n",
      "Epoch 2000: Accuracy = 0.5800\n",
      "Epoch 2100: Accuracy = 0.5800\n",
      "Epoch 2200: Accuracy = 0.5800\n",
      "Epoch 2300: Accuracy = 0.5800\n",
      "Epoch 2400: Accuracy = 0.5800\n",
      "Epoch 2500: Accuracy = 0.5800\n",
      "Epoch 2600: Accuracy = 0.5800\n",
      "Epoch 2700: Accuracy = 0.5800\n",
      "Epoch 2800: Accuracy = 0.5800\n",
      "Epoch 2900: Accuracy = 0.5800\n",
      "Epoch 3000: Accuracy = 0.5800\n",
      "Epoch 3100: Accuracy = 0.5800\n",
      "Epoch 3200: Accuracy = 0.5800\n",
      "Epoch 3300: Accuracy = 0.5800\n",
      "Epoch 3400: Accuracy = 0.5800\n",
      "Epoch 3500: Accuracy = 0.5800\n",
      "Epoch 3600: Accuracy = 0.5800\n",
      "Epoch 3700: Accuracy = 0.5800\n",
      "Epoch 3800: Accuracy = 0.5800\n",
      "Epoch 3900: Accuracy = 0.5800\n",
      "Epoch 4000: Accuracy = 0.5800\n",
      "Epoch 4100: Accuracy = 0.5800\n",
      "Epoch 4200: Accuracy = 0.5800\n",
      "Epoch 4300: Accuracy = 0.5800\n",
      "Epoch 4400: Accuracy = 0.5800\n",
      "Epoch 4500: Accuracy = 0.5800\n",
      "Epoch 4600: Accuracy = 0.5800\n",
      "Epoch 4700: Accuracy = 0.5800\n",
      "Epoch 4800: Accuracy = 0.5800\n",
      "Epoch 4900: Accuracy = 0.5800\n",
      "Epoch 5000: Accuracy = 0.5800\n",
      "Epoch 5100: Accuracy = 0.5800\n",
      "Epoch 5200: Accuracy = 0.5800\n",
      "Epoch 5300: Accuracy = 0.5800\n",
      "Epoch 5400: Accuracy = 0.5800\n",
      "Epoch 5500: Accuracy = 0.5800\n",
      "Epoch 5600: Accuracy = 0.5800\n",
      "Epoch 5700: Accuracy = 0.5800\n",
      "Epoch 5800: Accuracy = 0.5800\n",
      "Epoch 5900: Accuracy = 0.5800\n",
      "Epoch 6000: Accuracy = 0.5800\n",
      "Epoch 6100: Accuracy = 0.5800\n",
      "Epoch 6200: Accuracy = 0.5800\n",
      "Epoch 6300: Accuracy = 0.5800\n",
      "Epoch 6400: Accuracy = 0.5800\n",
      "Epoch 6500: Accuracy = 0.5800\n",
      "Epoch 6600: Accuracy = 0.5800\n",
      "Epoch 6700: Accuracy = 0.5800\n",
      "Epoch 6800: Accuracy = 0.5800\n",
      "Epoch 6900: Accuracy = 0.5800\n",
      "Epoch 7000: Accuracy = 0.5800\n",
      "Epoch 7100: Accuracy = 0.5800\n",
      "Epoch 7200: Accuracy = 0.5800\n",
      "Epoch 7300: Accuracy = 0.5800\n",
      "Epoch 7400: Accuracy = 0.5800\n",
      "Epoch 7500: Accuracy = 0.5400\n",
      "Epoch 7600: Accuracy = 0.5400\n",
      "Epoch 7700: Accuracy = 0.5400\n",
      "Epoch 7800: Accuracy = 0.5400\n",
      "Epoch 7900: Accuracy = 0.5000\n",
      "Epoch 8000: Accuracy = 0.5000\n",
      "Epoch 8100: Accuracy = 0.5000\n",
      "Epoch 8200: Accuracy = 0.5400\n",
      "Epoch 8300: Accuracy = 0.5600\n",
      "Epoch 8400: Accuracy = 0.5600\n",
      "Epoch 8500: Accuracy = 0.5800\n",
      "Epoch 8600: Accuracy = 0.5600\n",
      "Epoch 8700: Accuracy = 0.5600\n",
      "Epoch 8800: Accuracy = 0.5200\n",
      "Epoch 8900: Accuracy = 0.6000\n",
      "Epoch 9000: Accuracy = 0.5800\n",
      "Epoch 9100: Accuracy = 0.6000\n",
      "Epoch 9200: Accuracy = 0.6000\n",
      "Epoch 9300: Accuracy = 0.5800\n",
      "Epoch 9400: Accuracy = 0.6000\n",
      "Epoch 9500: Accuracy = 0.5800\n",
      "Epoch 9600: Accuracy = 0.5600\n",
      "Epoch 9700: Accuracy = 0.5800\n",
      "Epoch 9800: Accuracy = 0.5600\n",
      "Epoch 9900: Accuracy = 0.5600\n",
      "Epoch 10000: Accuracy = 0.5600\n"
     ]
    },
    {
     "data": {
      "text/html": [],
      "text/plain": [
       "<IPython.core.display.HTML object>"
      ]
     },
     "metadata": {},
     "output_type": "display_data"
    },
    {
     "data": {
      "text/html": [
       "<br>    <style><br>        .wandb-row {<br>            display: flex;<br>            flex-direction: row;<br>            flex-wrap: wrap;<br>            justify-content: flex-start;<br>            width: 100%;<br>        }<br>        .wandb-col {<br>            display: flex;<br>            flex-direction: column;<br>            flex-basis: 100%;<br>            flex: 1;<br>            padding: 10px;<br>        }<br>    </style><br><div class=\"wandb-row\"><div class=\"wandb-col\"><h3>Run history:</h3><br/><table class=\"wandb\"><tr><td>accuracy</td><td>▇▇▇▇▇▇▇▇▇▇▇▇▇▇▇▇▇▇▇▇▇▇▇▇▇▇▇▇▇▄▁▁▁▅▇█▇█▇▅</td></tr><tr><td>epoch</td><td>▁▁▂▂▂▂▂▂▂▃▃▃▃▃▄▄▄▄▄▄▄▅▅▅▅▆▆▆▆▆▆▇▇▇▇▇▇▇██</td></tr><tr><td>hidden_size</td><td>▁▁▁▁▁▁▁▁▁▁▁▁▁▁▁▁▁▁▁▁▁▁▁▁▁▁▁▁▁▁▁▁▁▁▁▁▁▁▁▁</td></tr><tr><td>loss</td><td>█▇▇▇▇▇▇▇▇▇▇▇▇▇▇▇▇▇▇▇▇▇▇▇▇▇▇▇▇▇▆▅▅▅▄▃▃▂▂▁</td></tr><tr><td>lr</td><td>▁▁▁▁▁▁▁▁▁▁▁▁▁▁▁▁▁▁▁▁▁▁▁▁▁▁▁▁▁▁▁▁▁▁▁▁▁▁▁▁</td></tr><tr><td>num_layers</td><td>▁▁▁▁▁▁▁▁▁▁▁▁▁▁▁▁▁▁▁▁▁▁▁▁▁▁▁▁▁▁▁▁▁▁▁▁▁▁▁▁</td></tr></table><br/></div><div class=\"wandb-col\"><h3>Run summary:</h3><br/><table class=\"wandb\"><tr><td>accuracy</td><td>0.56</td></tr><tr><td>epoch</td><td>10000</td></tr><tr><td>hidden_size</td><td>32</td></tr><tr><td>loss</td><td>0.5472</td></tr><tr><td>lr</td><td>0.0001</td></tr><tr><td>num_layers</td><td>3</td></tr></table><br/></div></div>"
      ],
      "text/plain": [
       "<IPython.core.display.HTML object>"
      ]
     },
     "metadata": {},
     "output_type": "display_data"
    },
    {
     "data": {
      "text/html": [
       " View run <strong style=\"color:#cdcd00\">super-sweep-3</strong> at: <a href='https://wandb.ai/its_mrpsycho/stock_trend_lstm/runs/mjlg65n0' target=\"_blank\">https://wandb.ai/its_mrpsycho/stock_trend_lstm/runs/mjlg65n0</a><br> View project at: <a href='https://wandb.ai/its_mrpsycho/stock_trend_lstm' target=\"_blank\">https://wandb.ai/its_mrpsycho/stock_trend_lstm</a><br>Synced 5 W&B file(s), 0 media file(s), 0 artifact file(s) and 0 other file(s)"
      ],
      "text/plain": [
       "<IPython.core.display.HTML object>"
      ]
     },
     "metadata": {},
     "output_type": "display_data"
    },
    {
     "data": {
      "text/html": [
       "Find logs at: <code>.\\wandb\\run-20250314_163832-mjlg65n0\\logs</code>"
      ],
      "text/plain": [
       "<IPython.core.display.HTML object>"
      ]
     },
     "metadata": {},
     "output_type": "display_data"
    },
    {
     "name": "stderr",
     "output_type": "stream",
     "text": [
      "wandb: Sweep Agent: Waiting for job.\n",
      "wandb: Job received.\n",
      "wandb: Agent Starting Run: fhyew90p with config:\n",
      "wandb: \thidden_size: 32\n",
      "wandb: \tlr: 0.001\n",
      "wandb: \tnum_epochs: 10000\n",
      "wandb: \tnum_layers: 2\n"
     ]
    },
    {
     "data": {
      "text/html": [
       "Tracking run with wandb version 0.19.8"
      ],
      "text/plain": [
       "<IPython.core.display.HTML object>"
      ]
     },
     "metadata": {},
     "output_type": "display_data"
    },
    {
     "data": {
      "text/html": [
       "Run data is saved locally in <code>d:\\Finance\\Finance\\Option-Pricing\\Option_Pricing\\wandb\\run-20250314_164018-fhyew90p</code>"
      ],
      "text/plain": [
       "<IPython.core.display.HTML object>"
      ]
     },
     "metadata": {},
     "output_type": "display_data"
    },
    {
     "data": {
      "text/html": [
       "Syncing run <strong><a href='https://wandb.ai/its_mrpsycho/stock_trend_lstm/runs/fhyew90p' target=\"_blank\">expert-sweep-4</a></strong> to <a href='https://wandb.ai/its_mrpsycho/stock_trend_lstm' target=\"_blank\">Weights & Biases</a> (<a href='https://wandb.me/developer-guide' target=\"_blank\">docs</a>)<br>Sweep page: <a href='https://wandb.ai/its_mrpsycho/stock_trend_lstm/sweeps/pgem3zdy' target=\"_blank\">https://wandb.ai/its_mrpsycho/stock_trend_lstm/sweeps/pgem3zdy</a>"
      ],
      "text/plain": [
       "<IPython.core.display.HTML object>"
      ]
     },
     "metadata": {},
     "output_type": "display_data"
    },
    {
     "data": {
      "text/html": [
       " View project at <a href='https://wandb.ai/its_mrpsycho/stock_trend_lstm' target=\"_blank\">https://wandb.ai/its_mrpsycho/stock_trend_lstm</a>"
      ],
      "text/plain": [
       "<IPython.core.display.HTML object>"
      ]
     },
     "metadata": {},
     "output_type": "display_data"
    },
    {
     "data": {
      "text/html": [
       " View sweep at <a href='https://wandb.ai/its_mrpsycho/stock_trend_lstm/sweeps/pgem3zdy' target=\"_blank\">https://wandb.ai/its_mrpsycho/stock_trend_lstm/sweeps/pgem3zdy</a>"
      ],
      "text/plain": [
       "<IPython.core.display.HTML object>"
      ]
     },
     "metadata": {},
     "output_type": "display_data"
    },
    {
     "data": {
      "text/html": [
       " View run at <a href='https://wandb.ai/its_mrpsycho/stock_trend_lstm/runs/fhyew90p' target=\"_blank\">https://wandb.ai/its_mrpsycho/stock_trend_lstm/runs/fhyew90p</a>"
      ],
      "text/plain": [
       "<IPython.core.display.HTML object>"
      ]
     },
     "metadata": {},
     "output_type": "display_data"
    },
    {
     "name": "stdout",
     "output_type": "stream",
     "text": [
      "Epoch 100: Accuracy = 0.5800\n",
      "Epoch 200: Accuracy = 0.5800\n",
      "Epoch 300: Accuracy = 0.5800\n",
      "Epoch 400: Accuracy = 0.5800\n",
      "Epoch 500: Accuracy = 0.5800\n",
      "Epoch 600: Accuracy = 0.5800\n",
      "Epoch 700: Accuracy = 0.5800\n",
      "Epoch 800: Accuracy = 0.5800\n",
      "Epoch 900: Accuracy = 0.5800\n",
      "Epoch 1000: Accuracy = 0.5800\n",
      "Epoch 1100: Accuracy = 0.5800\n",
      "Epoch 1200: Accuracy = 0.5800\n",
      "Epoch 1300: Accuracy = 0.5800\n",
      "Epoch 1400: Accuracy = 0.5800\n",
      "Epoch 1500: Accuracy = 0.5800\n",
      "Epoch 1600: Accuracy = 0.5800\n",
      "Epoch 1700: Accuracy = 0.6200\n",
      "Epoch 1800: Accuracy = 0.5600\n",
      "Epoch 1900: Accuracy = 0.5800\n",
      "Epoch 2000: Accuracy = 0.5400\n",
      "Epoch 2100: Accuracy = 0.5800\n",
      "Epoch 2200: Accuracy = 0.6200\n",
      "Epoch 2300: Accuracy = 0.6000\n",
      "Epoch 2400: Accuracy = 0.6400\n",
      "Epoch 2500: Accuracy = 0.6200\n",
      "Epoch 2600: Accuracy = 0.6200\n",
      "Epoch 2700: Accuracy = 0.5800\n",
      "Epoch 2800: Accuracy = 0.5800\n",
      "Epoch 2900: Accuracy = 0.5800\n",
      "Epoch 3000: Accuracy = 0.5800\n",
      "Epoch 3100: Accuracy = 0.5600\n",
      "Epoch 3200: Accuracy = 0.5400\n",
      "Epoch 3300: Accuracy = 0.5800\n",
      "Epoch 3400: Accuracy = 0.5800\n",
      "Epoch 3500: Accuracy = 0.5800\n",
      "Epoch 3600: Accuracy = 0.5800\n",
      "Epoch 3700: Accuracy = 0.5000\n",
      "Epoch 3800: Accuracy = 0.5600\n",
      "Epoch 3900: Accuracy = 0.5400\n",
      "Epoch 4000: Accuracy = 0.5800\n",
      "Epoch 4100: Accuracy = 0.5800\n",
      "Epoch 4200: Accuracy = 0.5400\n",
      "Epoch 4300: Accuracy = 0.5200\n",
      "Epoch 4400: Accuracy = 0.5800\n",
      "Epoch 4500: Accuracy = 0.6000\n",
      "Epoch 4600: Accuracy = 0.5800\n",
      "Epoch 4700: Accuracy = 0.6200\n",
      "Epoch 4800: Accuracy = 0.6400\n",
      "Epoch 4900: Accuracy = 0.6000\n",
      "Epoch 5000: Accuracy = 0.5600\n",
      "Epoch 5100: Accuracy = 0.6400\n",
      "Epoch 5200: Accuracy = 0.6400\n",
      "Epoch 5300: Accuracy = 0.6200\n",
      "Epoch 5400: Accuracy = 0.6000\n",
      "Epoch 5500: Accuracy = 0.5800\n",
      "Epoch 5600: Accuracy = 0.6400\n",
      "Epoch 5700: Accuracy = 0.5800\n",
      "Epoch 5800: Accuracy = 0.6200\n",
      "Epoch 5900: Accuracy = 0.5800\n",
      "Epoch 6000: Accuracy = 0.6400\n",
      "Epoch 6100: Accuracy = 0.6200\n",
      "Epoch 6200: Accuracy = 0.6000\n",
      "Epoch 6300: Accuracy = 0.6200\n",
      "Epoch 6400: Accuracy = 0.6200\n",
      "Epoch 6500: Accuracy = 0.6200\n",
      "Epoch 6600: Accuracy = 0.5800\n",
      "Epoch 6700: Accuracy = 0.5800\n",
      "Epoch 6800: Accuracy = 0.6000\n",
      "Epoch 6900: Accuracy = 0.6000\n",
      "Epoch 7000: Accuracy = 0.4800\n",
      "Epoch 7100: Accuracy = 0.6200\n",
      "Epoch 7200: Accuracy = 0.6200\n",
      "Epoch 7300: Accuracy = 0.6600\n",
      "Epoch 7400: Accuracy = 0.6800\n",
      "Epoch 7500: Accuracy = 0.6400\n",
      "Epoch 7600: Accuracy = 0.5600\n",
      "Epoch 7700: Accuracy = 0.6000\n",
      "Epoch 7800: Accuracy = 0.6800\n",
      "Epoch 7900: Accuracy = 0.6600\n",
      "Epoch 8000: Accuracy = 0.6400\n",
      "Epoch 8100: Accuracy = 0.6400\n",
      "Epoch 8200: Accuracy = 0.6200\n",
      "Epoch 8300: Accuracy = 0.6000\n",
      "Epoch 8400: Accuracy = 0.6000\n",
      "Epoch 8500: Accuracy = 0.6000\n",
      "Epoch 8600: Accuracy = 0.6400\n",
      "Epoch 8700: Accuracy = 0.6600\n",
      "Epoch 8800: Accuracy = 0.6400\n",
      "Epoch 8900: Accuracy = 0.6400\n",
      "Epoch 9000: Accuracy = 0.6400\n",
      "Epoch 9100: Accuracy = 0.6200\n",
      "Epoch 9200: Accuracy = 0.6200\n",
      "Epoch 9300: Accuracy = 0.6200\n",
      "Epoch 9400: Accuracy = 0.6000\n",
      "Epoch 9500: Accuracy = 0.6400\n",
      "Epoch 9600: Accuracy = 0.6000\n",
      "Epoch 9700: Accuracy = 0.6000\n",
      "Epoch 9800: Accuracy = 0.5800\n",
      "Epoch 9900: Accuracy = 0.5600\n",
      "Epoch 10000: Accuracy = 0.5800\n"
     ]
    },
    {
     "data": {
      "text/html": [],
      "text/plain": [
       "<IPython.core.display.HTML object>"
      ]
     },
     "metadata": {},
     "output_type": "display_data"
    },
    {
     "data": {
      "text/html": [
       "<br>    <style><br>        .wandb-row {<br>            display: flex;<br>            flex-direction: row;<br>            flex-wrap: wrap;<br>            justify-content: flex-start;<br>            width: 100%;<br>        }<br>        .wandb-col {<br>            display: flex;<br>            flex-direction: column;<br>            flex-basis: 100%;<br>            flex: 1;<br>            padding: 10px;<br>        }<br>    </style><br><div class=\"wandb-row\"><div class=\"wandb-col\"><h3>Run history:</h3><br/><table class=\"wandb\"><tr><td>accuracy</td><td>▄▄▄▄▄▄▅▃▄▆▄▃▂▄▄▃▂▄▂▁▅▄▄▅▆▅▄▄▅▅▅█▃▆▆▇▆▅▅▄</td></tr><tr><td>epoch</td><td>▁▁▁▁▁▂▂▂▂▂▃▃▃▃▃▃▃▃▄▄▄▄▄▄▅▅▅▅▆▆▆▆▇▇▇▇▇███</td></tr><tr><td>hidden_size</td><td>▁▁▁▁▁▁▁▁▁▁▁▁▁▁▁▁▁▁▁▁▁▁▁▁▁▁▁▁▁▁▁▁▁▁▁▁▁▁▁▁</td></tr><tr><td>loss</td><td>█████████▇▇▇▇▇▆▆▆▆▆▆▅▅▄▄▄▃▃▃▃▂▂▅▃▃▂▅▁▂▂▁</td></tr><tr><td>lr</td><td>▁▁▁▁▁▁▁▁▁▁▁▁▁▁▁▁▁▁▁▁▁▁▁▁▁▁▁▁▁▁▁▁▁▁▁▁▁▁▁▁</td></tr><tr><td>num_layers</td><td>▁▁▁▁▁▁▁▁▁▁▁▁▁▁▁▁▁▁▁▁▁▁▁▁▁▁▁▁▁▁▁▁▁▁▁▁▁▁▁▁</td></tr></table><br/></div><div class=\"wandb-col\"><h3>Run summary:</h3><br/><table class=\"wandb\"><tr><td>accuracy</td><td>0.58</td></tr><tr><td>epoch</td><td>10000</td></tr><tr><td>hidden_size</td><td>32</td></tr><tr><td>loss</td><td>0.3659</td></tr><tr><td>lr</td><td>0.001</td></tr><tr><td>num_layers</td><td>2</td></tr></table><br/></div></div>"
      ],
      "text/plain": [
       "<IPython.core.display.HTML object>"
      ]
     },
     "metadata": {},
     "output_type": "display_data"
    },
    {
     "data": {
      "text/html": [
       " View run <strong style=\"color:#cdcd00\">expert-sweep-4</strong> at: <a href='https://wandb.ai/its_mrpsycho/stock_trend_lstm/runs/fhyew90p' target=\"_blank\">https://wandb.ai/its_mrpsycho/stock_trend_lstm/runs/fhyew90p</a><br> View project at: <a href='https://wandb.ai/its_mrpsycho/stock_trend_lstm' target=\"_blank\">https://wandb.ai/its_mrpsycho/stock_trend_lstm</a><br>Synced 5 W&B file(s), 0 media file(s), 0 artifact file(s) and 0 other file(s)"
      ],
      "text/plain": [
       "<IPython.core.display.HTML object>"
      ]
     },
     "metadata": {},
     "output_type": "display_data"
    },
    {
     "data": {
      "text/html": [
       "Find logs at: <code>.\\wandb\\run-20250314_164018-fhyew90p\\logs</code>"
      ],
      "text/plain": [
       "<IPython.core.display.HTML object>"
      ]
     },
     "metadata": {},
     "output_type": "display_data"
    },
    {
     "name": "stderr",
     "output_type": "stream",
     "text": [
      "wandb: Agent Starting Run: t4ckc1wm with config:\n",
      "wandb: \thidden_size: 64\n",
      "wandb: \tlr: 0.01\n",
      "wandb: \tnum_epochs: 10000\n",
      "wandb: \tnum_layers: 2\n"
     ]
    },
    {
     "data": {
      "text/html": [
       "Tracking run with wandb version 0.19.8"
      ],
      "text/plain": [
       "<IPython.core.display.HTML object>"
      ]
     },
     "metadata": {},
     "output_type": "display_data"
    },
    {
     "data": {
      "text/html": [
       "Run data is saved locally in <code>d:\\Finance\\Finance\\Option-Pricing\\Option_Pricing\\wandb\\run-20250314_164133-t4ckc1wm</code>"
      ],
      "text/plain": [
       "<IPython.core.display.HTML object>"
      ]
     },
     "metadata": {},
     "output_type": "display_data"
    },
    {
     "data": {
      "text/html": [
       "Syncing run <strong><a href='https://wandb.ai/its_mrpsycho/stock_trend_lstm/runs/t4ckc1wm' target=\"_blank\">misty-sweep-5</a></strong> to <a href='https://wandb.ai/its_mrpsycho/stock_trend_lstm' target=\"_blank\">Weights & Biases</a> (<a href='https://wandb.me/developer-guide' target=\"_blank\">docs</a>)<br>Sweep page: <a href='https://wandb.ai/its_mrpsycho/stock_trend_lstm/sweeps/pgem3zdy' target=\"_blank\">https://wandb.ai/its_mrpsycho/stock_trend_lstm/sweeps/pgem3zdy</a>"
      ],
      "text/plain": [
       "<IPython.core.display.HTML object>"
      ]
     },
     "metadata": {},
     "output_type": "display_data"
    },
    {
     "data": {
      "text/html": [
       " View project at <a href='https://wandb.ai/its_mrpsycho/stock_trend_lstm' target=\"_blank\">https://wandb.ai/its_mrpsycho/stock_trend_lstm</a>"
      ],
      "text/plain": [
       "<IPython.core.display.HTML object>"
      ]
     },
     "metadata": {},
     "output_type": "display_data"
    },
    {
     "data": {
      "text/html": [
       " View sweep at <a href='https://wandb.ai/its_mrpsycho/stock_trend_lstm/sweeps/pgem3zdy' target=\"_blank\">https://wandb.ai/its_mrpsycho/stock_trend_lstm/sweeps/pgem3zdy</a>"
      ],
      "text/plain": [
       "<IPython.core.display.HTML object>"
      ]
     },
     "metadata": {},
     "output_type": "display_data"
    },
    {
     "data": {
      "text/html": [
       " View run at <a href='https://wandb.ai/its_mrpsycho/stock_trend_lstm/runs/t4ckc1wm' target=\"_blank\">https://wandb.ai/its_mrpsycho/stock_trend_lstm/runs/t4ckc1wm</a>"
      ],
      "text/plain": [
       "<IPython.core.display.HTML object>"
      ]
     },
     "metadata": {},
     "output_type": "display_data"
    },
    {
     "name": "stdout",
     "output_type": "stream",
     "text": [
      "Epoch 100: Accuracy = 0.5800\n",
      "Epoch 200: Accuracy = 0.5800\n",
      "Epoch 300: Accuracy = 0.5800\n",
      "Epoch 400: Accuracy = 0.5600\n",
      "Epoch 500: Accuracy = 0.5800\n",
      "Epoch 600: Accuracy = 0.6200\n",
      "Epoch 700: Accuracy = 0.5600\n",
      "Epoch 800: Accuracy = 0.5800\n",
      "Epoch 900: Accuracy = 0.5800\n",
      "Epoch 1000: Accuracy = 0.5800\n",
      "Epoch 1100: Accuracy = 0.5800\n",
      "Epoch 1200: Accuracy = 0.5800\n",
      "Epoch 1300: Accuracy = 0.5800\n",
      "Epoch 1400: Accuracy = 0.5800\n",
      "Epoch 1500: Accuracy = 0.5800\n",
      "Epoch 1600: Accuracy = 0.5800\n",
      "Epoch 1700: Accuracy = 0.5800\n",
      "Epoch 1800: Accuracy = 0.5800\n",
      "Epoch 1900: Accuracy = 0.5800\n",
      "Epoch 2000: Accuracy = 0.5800\n",
      "Epoch 2100: Accuracy = 0.5800\n",
      "Epoch 2200: Accuracy = 0.5800\n",
      "Epoch 2300: Accuracy = 0.4800\n",
      "Epoch 2400: Accuracy = 0.6000\n",
      "Epoch 2500: Accuracy = 0.5800\n",
      "Epoch 2600: Accuracy = 0.6200\n",
      "Epoch 2700: Accuracy = 0.6000\n",
      "Epoch 2800: Accuracy = 0.6000\n",
      "Epoch 2900: Accuracy = 0.6000\n",
      "Epoch 3000: Accuracy = 0.6400\n",
      "Epoch 3100: Accuracy = 0.6200\n",
      "Epoch 3200: Accuracy = 0.6200\n",
      "Epoch 3300: Accuracy = 0.5400\n",
      "Epoch 3400: Accuracy = 0.6000\n",
      "Epoch 3500: Accuracy = 0.6200\n",
      "Epoch 3600: Accuracy = 0.6200\n",
      "Epoch 3700: Accuracy = 0.5600\n",
      "Epoch 3800: Accuracy = 0.5800\n",
      "Epoch 3900: Accuracy = 0.6000\n",
      "Epoch 4000: Accuracy = 0.6200\n",
      "Epoch 4100: Accuracy = 0.5800\n",
      "Epoch 4200: Accuracy = 0.6200\n",
      "Epoch 4300: Accuracy = 0.6000\n",
      "Epoch 4400: Accuracy = 0.6200\n",
      "Epoch 4500: Accuracy = 0.5800\n",
      "Epoch 4600: Accuracy = 0.5800\n",
      "Epoch 4700: Accuracy = 0.5800\n",
      "Epoch 4800: Accuracy = 0.5400\n",
      "Epoch 4900: Accuracy = 0.5400\n",
      "Epoch 5000: Accuracy = 0.5000\n",
      "Epoch 5100: Accuracy = 0.4800\n",
      "Epoch 5200: Accuracy = 0.4800\n",
      "Epoch 5300: Accuracy = 0.5000\n",
      "Epoch 5400: Accuracy = 0.4600\n",
      "Epoch 5500: Accuracy = 0.5800\n",
      "Epoch 5600: Accuracy = 0.6000\n",
      "Epoch 5700: Accuracy = 0.6200\n",
      "Epoch 5800: Accuracy = 0.6200\n",
      "Epoch 5900: Accuracy = 0.5800\n",
      "Epoch 6000: Accuracy = 0.6400\n",
      "Epoch 6100: Accuracy = 0.6200\n",
      "Epoch 6200: Accuracy = 0.6400\n",
      "Epoch 6300: Accuracy = 0.6400\n",
      "Epoch 6400: Accuracy = 0.6200\n",
      "Epoch 6500: Accuracy = 0.5200\n",
      "Epoch 6600: Accuracy = 0.5400\n",
      "Epoch 6700: Accuracy = 0.6000\n",
      "Epoch 6800: Accuracy = 0.6400\n",
      "Epoch 6900: Accuracy = 0.6200\n",
      "Epoch 7000: Accuracy = 0.6200\n",
      "Epoch 7100: Accuracy = 0.6000\n",
      "Epoch 7200: Accuracy = 0.5600\n",
      "Epoch 7300: Accuracy = 0.6200\n",
      "Epoch 7400: Accuracy = 0.5400\n",
      "Epoch 7500: Accuracy = 0.4200\n",
      "Epoch 7600: Accuracy = 0.6400\n",
      "Epoch 7700: Accuracy = 0.6400\n",
      "Epoch 7800: Accuracy = 0.6200\n",
      "Epoch 7900: Accuracy = 0.6400\n",
      "Epoch 8000: Accuracy = 0.4600\n",
      "Epoch 8100: Accuracy = 0.6000\n",
      "Epoch 8200: Accuracy = 0.6400\n",
      "Epoch 8300: Accuracy = 0.6800\n",
      "Epoch 8400: Accuracy = 0.6200\n",
      "Epoch 8500: Accuracy = 0.6000\n",
      "Epoch 8600: Accuracy = 0.6600\n",
      "Epoch 8700: Accuracy = 0.6400\n",
      "Epoch 8800: Accuracy = 0.5200\n",
      "Epoch 8900: Accuracy = 0.6200\n",
      "Epoch 9000: Accuracy = 0.6200\n",
      "Epoch 9100: Accuracy = 0.6200\n",
      "Epoch 9200: Accuracy = 0.6000\n",
      "Epoch 9300: Accuracy = 0.6200\n",
      "Epoch 9400: Accuracy = 0.6400\n",
      "Epoch 9500: Accuracy = 0.5800\n",
      "Epoch 9600: Accuracy = 0.6200\n",
      "Epoch 9700: Accuracy = 0.5600\n",
      "Epoch 9800: Accuracy = 0.5800\n",
      "Epoch 9900: Accuracy = 0.6000\n",
      "Epoch 10000: Accuracy = 0.5800\n"
     ]
    },
    {
     "data": {
      "text/html": [],
      "text/plain": [
       "<IPython.core.display.HTML object>"
      ]
     },
     "metadata": {},
     "output_type": "display_data"
    },
    {
     "data": {
      "text/html": [
       "<br>    <style><br>        .wandb-row {<br>            display: flex;<br>            flex-direction: row;<br>            flex-wrap: wrap;<br>            justify-content: flex-start;<br>            width: 100%;<br>        }<br>        .wandb-col {<br>            display: flex;<br>            flex-direction: column;<br>            flex-basis: 100%;<br>            flex: 1;<br>            padding: 10px;<br>        }<br>    </style><br><div class=\"wandb-row\"><div class=\"wandb-col\"><h3>Run history:</h3><br/><table class=\"wandb\"><tr><td>accuracy</td><td>▆▅▆▆▆▆▆▆▂▆▆▇▇▄▇▆▇▆▇▇▄▂▂▃▆▇█▇▄▆▅▄██▇▁▇▆▇▆</td></tr><tr><td>epoch</td><td>▁▁▁▁▂▂▂▂▂▃▃▃▃▃▄▄▄▄▄▅▅▅▅▅▅▅▅▆▆▆▆▆▇▇▇▇▇███</td></tr><tr><td>hidden_size</td><td>▁▁▁▁▁▁▁▁▁▁▁▁▁▁▁▁▁▁▁▁▁▁▁▁▁▁▁▁▁▁▁▁▁▁▁▁▁▁▁▁</td></tr><tr><td>loss</td><td>██▇████████▇▇▇▇▅▄▅▆▆▅▂▅▄▄▂▂▂▂▃▂▂▃▁▅▂▅▄▃▁</td></tr><tr><td>lr</td><td>▁▁▁▁▁▁▁▁▁▁▁▁▁▁▁▁▁▁▁▁▁▁▁▁▁▁▁▁▁▁▁▁▁▁▁▁▁▁▁▁</td></tr><tr><td>num_layers</td><td>▁▁▁▁▁▁▁▁▁▁▁▁▁▁▁▁▁▁▁▁▁▁▁▁▁▁▁▁▁▁▁▁▁▁▁▁▁▁▁▁</td></tr></table><br/></div><div class=\"wandb-col\"><h3>Run summary:</h3><br/><table class=\"wandb\"><tr><td>accuracy</td><td>0.58</td></tr><tr><td>epoch</td><td>10000</td></tr><tr><td>hidden_size</td><td>64</td></tr><tr><td>loss</td><td>0.40148</td></tr><tr><td>lr</td><td>0.01</td></tr><tr><td>num_layers</td><td>2</td></tr></table><br/></div></div>"
      ],
      "text/plain": [
       "<IPython.core.display.HTML object>"
      ]
     },
     "metadata": {},
     "output_type": "display_data"
    },
    {
     "data": {
      "text/html": [
       " View run <strong style=\"color:#cdcd00\">misty-sweep-5</strong> at: <a href='https://wandb.ai/its_mrpsycho/stock_trend_lstm/runs/t4ckc1wm' target=\"_blank\">https://wandb.ai/its_mrpsycho/stock_trend_lstm/runs/t4ckc1wm</a><br> View project at: <a href='https://wandb.ai/its_mrpsycho/stock_trend_lstm' target=\"_blank\">https://wandb.ai/its_mrpsycho/stock_trend_lstm</a><br>Synced 5 W&B file(s), 0 media file(s), 0 artifact file(s) and 0 other file(s)"
      ],
      "text/plain": [
       "<IPython.core.display.HTML object>"
      ]
     },
     "metadata": {},
     "output_type": "display_data"
    },
    {
     "data": {
      "text/html": [
       "Find logs at: <code>.\\wandb\\run-20250314_164133-t4ckc1wm\\logs</code>"
      ],
      "text/plain": [
       "<IPython.core.display.HTML object>"
      ]
     },
     "metadata": {},
     "output_type": "display_data"
    },
    {
     "name": "stderr",
     "output_type": "stream",
     "text": [
      "wandb: Agent Starting Run: 9inf9psv with config:\n",
      "wandb: \thidden_size: 32\n",
      "wandb: \tlr: 0.0001\n",
      "wandb: \tnum_epochs: 10000\n",
      "wandb: \tnum_layers: 3\n"
     ]
    },
    {
     "data": {
      "text/html": [
       "Tracking run with wandb version 0.19.8"
      ],
      "text/plain": [
       "<IPython.core.display.HTML object>"
      ]
     },
     "metadata": {},
     "output_type": "display_data"
    },
    {
     "data": {
      "text/html": [
       "Run data is saved locally in <code>d:\\Finance\\Finance\\Option-Pricing\\Option_Pricing\\wandb\\run-20250314_164345-9inf9psv</code>"
      ],
      "text/plain": [
       "<IPython.core.display.HTML object>"
      ]
     },
     "metadata": {},
     "output_type": "display_data"
    },
    {
     "data": {
      "text/html": [
       "Syncing run <strong><a href='https://wandb.ai/its_mrpsycho/stock_trend_lstm/runs/9inf9psv' target=\"_blank\">olive-sweep-6</a></strong> to <a href='https://wandb.ai/its_mrpsycho/stock_trend_lstm' target=\"_blank\">Weights & Biases</a> (<a href='https://wandb.me/developer-guide' target=\"_blank\">docs</a>)<br>Sweep page: <a href='https://wandb.ai/its_mrpsycho/stock_trend_lstm/sweeps/pgem3zdy' target=\"_blank\">https://wandb.ai/its_mrpsycho/stock_trend_lstm/sweeps/pgem3zdy</a>"
      ],
      "text/plain": [
       "<IPython.core.display.HTML object>"
      ]
     },
     "metadata": {},
     "output_type": "display_data"
    },
    {
     "data": {
      "text/html": [
       " View project at <a href='https://wandb.ai/its_mrpsycho/stock_trend_lstm' target=\"_blank\">https://wandb.ai/its_mrpsycho/stock_trend_lstm</a>"
      ],
      "text/plain": [
       "<IPython.core.display.HTML object>"
      ]
     },
     "metadata": {},
     "output_type": "display_data"
    },
    {
     "data": {
      "text/html": [
       " View sweep at <a href='https://wandb.ai/its_mrpsycho/stock_trend_lstm/sweeps/pgem3zdy' target=\"_blank\">https://wandb.ai/its_mrpsycho/stock_trend_lstm/sweeps/pgem3zdy</a>"
      ],
      "text/plain": [
       "<IPython.core.display.HTML object>"
      ]
     },
     "metadata": {},
     "output_type": "display_data"
    },
    {
     "data": {
      "text/html": [
       " View run at <a href='https://wandb.ai/its_mrpsycho/stock_trend_lstm/runs/9inf9psv' target=\"_blank\">https://wandb.ai/its_mrpsycho/stock_trend_lstm/runs/9inf9psv</a>"
      ],
      "text/plain": [
       "<IPython.core.display.HTML object>"
      ]
     },
     "metadata": {},
     "output_type": "display_data"
    },
    {
     "name": "stdout",
     "output_type": "stream",
     "text": [
      "Epoch 100: Accuracy = 0.5800\n",
      "Epoch 200: Accuracy = 0.5800\n",
      "Epoch 300: Accuracy = 0.5800\n",
      "Epoch 400: Accuracy = 0.5800\n",
      "Epoch 500: Accuracy = 0.5800\n",
      "Epoch 600: Accuracy = 0.5800\n",
      "Epoch 700: Accuracy = 0.5800\n",
      "Epoch 800: Accuracy = 0.5800\n",
      "Epoch 900: Accuracy = 0.5800\n",
      "Epoch 1000: Accuracy = 0.5800\n",
      "Epoch 1100: Accuracy = 0.5800\n",
      "Epoch 1200: Accuracy = 0.5800\n",
      "Epoch 1300: Accuracy = 0.5800\n",
      "Epoch 1400: Accuracy = 0.5800\n",
      "Epoch 1500: Accuracy = 0.5800\n",
      "Epoch 1600: Accuracy = 0.5800\n",
      "Epoch 1700: Accuracy = 0.5800\n",
      "Epoch 1800: Accuracy = 0.5800\n",
      "Epoch 1900: Accuracy = 0.5800\n",
      "Epoch 2000: Accuracy = 0.5800\n",
      "Epoch 2100: Accuracy = 0.5800\n",
      "Epoch 2200: Accuracy = 0.5800\n",
      "Epoch 2300: Accuracy = 0.5800\n",
      "Epoch 2400: Accuracy = 0.5800\n",
      "Epoch 2500: Accuracy = 0.5800\n",
      "Epoch 2600: Accuracy = 0.5800\n",
      "Epoch 2700: Accuracy = 0.5800\n",
      "Epoch 2800: Accuracy = 0.5800\n",
      "Epoch 2900: Accuracy = 0.5800\n",
      "Epoch 3000: Accuracy = 0.5800\n",
      "Epoch 3100: Accuracy = 0.5800\n",
      "Epoch 3200: Accuracy = 0.5800\n",
      "Epoch 3300: Accuracy = 0.5800\n",
      "Epoch 3400: Accuracy = 0.5800\n",
      "Epoch 3500: Accuracy = 0.5800\n",
      "Epoch 3600: Accuracy = 0.5800\n",
      "Epoch 3700: Accuracy = 0.5800\n",
      "Epoch 3800: Accuracy = 0.5800\n",
      "Epoch 3900: Accuracy = 0.5800\n",
      "Epoch 4000: Accuracy = 0.5800\n",
      "Epoch 4100: Accuracy = 0.5800\n",
      "Epoch 4200: Accuracy = 0.5800\n",
      "Epoch 4300: Accuracy = 0.5800\n",
      "Epoch 4400: Accuracy = 0.5800\n",
      "Epoch 4500: Accuracy = 0.5800\n",
      "Epoch 4600: Accuracy = 0.5800\n",
      "Epoch 4700: Accuracy = 0.5800\n",
      "Epoch 4800: Accuracy = 0.5800\n",
      "Epoch 4900: Accuracy = 0.5800\n",
      "Epoch 5000: Accuracy = 0.5800\n",
      "Epoch 5100: Accuracy = 0.5800\n",
      "Epoch 5200: Accuracy = 0.5800\n",
      "Epoch 5300: Accuracy = 0.5200\n",
      "Epoch 5400: Accuracy = 0.5200\n",
      "Epoch 5500: Accuracy = 0.5200\n",
      "Epoch 5600: Accuracy = 0.5200\n",
      "Epoch 5700: Accuracy = 0.5200\n",
      "Epoch 5800: Accuracy = 0.5200\n",
      "Epoch 5900: Accuracy = 0.5000\n",
      "Epoch 6000: Accuracy = 0.5200\n",
      "Epoch 6100: Accuracy = 0.5400\n",
      "Epoch 6200: Accuracy = 0.5200\n",
      "Epoch 6300: Accuracy = 0.5000\n",
      "Epoch 6400: Accuracy = 0.5000\n",
      "Epoch 6500: Accuracy = 0.5000\n",
      "Epoch 6600: Accuracy = 0.5000\n",
      "Epoch 6700: Accuracy = 0.5000\n",
      "Epoch 6800: Accuracy = 0.5200\n",
      "Epoch 6900: Accuracy = 0.5400\n",
      "Epoch 7000: Accuracy = 0.5400\n",
      "Epoch 7100: Accuracy = 0.5400\n",
      "Epoch 7200: Accuracy = 0.5400\n",
      "Epoch 7300: Accuracy = 0.5200\n",
      "Epoch 7400: Accuracy = 0.5000\n",
      "Epoch 7500: Accuracy = 0.5600\n",
      "Epoch 7600: Accuracy = 0.5000\n",
      "Epoch 7700: Accuracy = 0.5000\n",
      "Epoch 7800: Accuracy = 0.5000\n",
      "Epoch 7900: Accuracy = 0.5200\n",
      "Epoch 8000: Accuracy = 0.5200\n",
      "Epoch 8100: Accuracy = 0.5200\n",
      "Epoch 8200: Accuracy = 0.5600\n",
      "Epoch 8300: Accuracy = 0.5400\n",
      "Epoch 8400: Accuracy = 0.5400\n",
      "Epoch 8500: Accuracy = 0.5400\n",
      "Epoch 8600: Accuracy = 0.5400\n",
      "Epoch 8700: Accuracy = 0.5400\n",
      "Epoch 8800: Accuracy = 0.5600\n",
      "Epoch 8900: Accuracy = 0.5600\n",
      "Epoch 9000: Accuracy = 0.5600\n",
      "Epoch 9100: Accuracy = 0.5400\n",
      "Epoch 9200: Accuracy = 0.5200\n",
      "Epoch 9300: Accuracy = 0.5400\n",
      "Epoch 9400: Accuracy = 0.5400\n",
      "Epoch 9500: Accuracy = 0.5400\n",
      "Epoch 9600: Accuracy = 0.5400\n",
      "Epoch 9700: Accuracy = 0.5600\n",
      "Epoch 9800: Accuracy = 0.5600\n",
      "Epoch 9900: Accuracy = 0.5400\n",
      "Epoch 10000: Accuracy = 0.5400\n"
     ]
    },
    {
     "data": {
      "text/html": [],
      "text/plain": [
       "<IPython.core.display.HTML object>"
      ]
     },
     "metadata": {},
     "output_type": "display_data"
    },
    {
     "data": {
      "text/html": [
       "<br>    <style><br>        .wandb-row {<br>            display: flex;<br>            flex-direction: row;<br>            flex-wrap: wrap;<br>            justify-content: flex-start;<br>            width: 100%;<br>        }<br>        .wandb-col {<br>            display: flex;<br>            flex-direction: column;<br>            flex-basis: 100%;<br>            flex: 1;<br>            padding: 10px;<br>        }<br>    </style><br><div class=\"wandb-row\"><div class=\"wandb-col\"><h3>Run history:</h3><br/><table class=\"wandb\"><tr><td>accuracy</td><td>█████████████████████▃▃▃▃▁▃▅▁▁▅▆▃▃▆▅▆▅▅▅</td></tr><tr><td>epoch</td><td>▁▁▁▁▂▂▂▂▃▃▃▃▃▃▃▄▄▄▄▄▅▅▅▅▅▅▅▅▆▆▆▆▆▇▇▇▇▇▇█</td></tr><tr><td>hidden_size</td><td>▁▁▁▁▁▁▁▁▁▁▁▁▁▁▁▁▁▁▁▁▁▁▁▁▁▁▁▁▁▁▁▁▁▁▁▁▁▁▁▁</td></tr><tr><td>loss</td><td>█▄▄▄▄▄▄▄▄▄▄▄▄▄▄▄▄▄▄▄▃▃▃▃▃▂▂▂▂▂▂▂▂▂▂▂▁▁▁▁</td></tr><tr><td>lr</td><td>▁▁▁▁▁▁▁▁▁▁▁▁▁▁▁▁▁▁▁▁▁▁▁▁▁▁▁▁▁▁▁▁▁▁▁▁▁▁▁▁</td></tr><tr><td>num_layers</td><td>▁▁▁▁▁▁▁▁▁▁▁▁▁▁▁▁▁▁▁▁▁▁▁▁▁▁▁▁▁▁▁▁▁▁▁▁▁▁▁▁</td></tr></table><br/></div><div class=\"wandb-col\"><h3>Run summary:</h3><br/><table class=\"wandb\"><tr><td>accuracy</td><td>0.54</td></tr><tr><td>epoch</td><td>10000</td></tr><tr><td>hidden_size</td><td>32</td></tr><tr><td>loss</td><td>0.54657</td></tr><tr><td>lr</td><td>0.0001</td></tr><tr><td>num_layers</td><td>3</td></tr></table><br/></div></div>"
      ],
      "text/plain": [
       "<IPython.core.display.HTML object>"
      ]
     },
     "metadata": {},
     "output_type": "display_data"
    },
    {
     "data": {
      "text/html": [
       " View run <strong style=\"color:#cdcd00\">olive-sweep-6</strong> at: <a href='https://wandb.ai/its_mrpsycho/stock_trend_lstm/runs/9inf9psv' target=\"_blank\">https://wandb.ai/its_mrpsycho/stock_trend_lstm/runs/9inf9psv</a><br> View project at: <a href='https://wandb.ai/its_mrpsycho/stock_trend_lstm' target=\"_blank\">https://wandb.ai/its_mrpsycho/stock_trend_lstm</a><br>Synced 5 W&B file(s), 0 media file(s), 0 artifact file(s) and 0 other file(s)"
      ],
      "text/plain": [
       "<IPython.core.display.HTML object>"
      ]
     },
     "metadata": {},
     "output_type": "display_data"
    },
    {
     "data": {
      "text/html": [
       "Find logs at: <code>.\\wandb\\run-20250314_164345-9inf9psv\\logs</code>"
      ],
      "text/plain": [
       "<IPython.core.display.HTML object>"
      ]
     },
     "metadata": {},
     "output_type": "display_data"
    },
    {
     "name": "stderr",
     "output_type": "stream",
     "text": [
      "wandb: Agent Starting Run: pwaujaqz with config:\n",
      "wandb: \thidden_size: 64\n",
      "wandb: \tlr: 0.0001\n",
      "wandb: \tnum_epochs: 10000\n",
      "wandb: \tnum_layers: 3\n"
     ]
    },
    {
     "data": {
      "text/html": [
       "Tracking run with wandb version 0.19.8"
      ],
      "text/plain": [
       "<IPython.core.display.HTML object>"
      ]
     },
     "metadata": {},
     "output_type": "display_data"
    },
    {
     "data": {
      "text/html": [
       "Run data is saved locally in <code>d:\\Finance\\Finance\\Option-Pricing\\Option_Pricing\\wandb\\run-20250314_164521-pwaujaqz</code>"
      ],
      "text/plain": [
       "<IPython.core.display.HTML object>"
      ]
     },
     "metadata": {},
     "output_type": "display_data"
    },
    {
     "data": {
      "text/html": [
       "Syncing run <strong><a href='https://wandb.ai/its_mrpsycho/stock_trend_lstm/runs/pwaujaqz' target=\"_blank\">logical-sweep-7</a></strong> to <a href='https://wandb.ai/its_mrpsycho/stock_trend_lstm' target=\"_blank\">Weights & Biases</a> (<a href='https://wandb.me/developer-guide' target=\"_blank\">docs</a>)<br>Sweep page: <a href='https://wandb.ai/its_mrpsycho/stock_trend_lstm/sweeps/pgem3zdy' target=\"_blank\">https://wandb.ai/its_mrpsycho/stock_trend_lstm/sweeps/pgem3zdy</a>"
      ],
      "text/plain": [
       "<IPython.core.display.HTML object>"
      ]
     },
     "metadata": {},
     "output_type": "display_data"
    },
    {
     "data": {
      "text/html": [
       " View project at <a href='https://wandb.ai/its_mrpsycho/stock_trend_lstm' target=\"_blank\">https://wandb.ai/its_mrpsycho/stock_trend_lstm</a>"
      ],
      "text/plain": [
       "<IPython.core.display.HTML object>"
      ]
     },
     "metadata": {},
     "output_type": "display_data"
    },
    {
     "data": {
      "text/html": [
       " View sweep at <a href='https://wandb.ai/its_mrpsycho/stock_trend_lstm/sweeps/pgem3zdy' target=\"_blank\">https://wandb.ai/its_mrpsycho/stock_trend_lstm/sweeps/pgem3zdy</a>"
      ],
      "text/plain": [
       "<IPython.core.display.HTML object>"
      ]
     },
     "metadata": {},
     "output_type": "display_data"
    },
    {
     "data": {
      "text/html": [
       " View run at <a href='https://wandb.ai/its_mrpsycho/stock_trend_lstm/runs/pwaujaqz' target=\"_blank\">https://wandb.ai/its_mrpsycho/stock_trend_lstm/runs/pwaujaqz</a>"
      ],
      "text/plain": [
       "<IPython.core.display.HTML object>"
      ]
     },
     "metadata": {},
     "output_type": "display_data"
    },
    {
     "name": "stdout",
     "output_type": "stream",
     "text": [
      "Epoch 100: Accuracy = 0.5800\n",
      "Epoch 200: Accuracy = 0.5800\n",
      "Epoch 300: Accuracy = 0.5800\n",
      "Epoch 400: Accuracy = 0.5800\n",
      "Epoch 500: Accuracy = 0.5800\n",
      "Epoch 600: Accuracy = 0.5800\n",
      "Epoch 700: Accuracy = 0.5800\n",
      "Epoch 800: Accuracy = 0.5800\n",
      "Epoch 900: Accuracy = 0.5800\n",
      "Epoch 1000: Accuracy = 0.5800\n",
      "Epoch 1100: Accuracy = 0.5800\n",
      "Epoch 1200: Accuracy = 0.5800\n",
      "Epoch 1300: Accuracy = 0.5800\n",
      "Epoch 1400: Accuracy = 0.5800\n",
      "Epoch 1500: Accuracy = 0.5800\n",
      "Epoch 1600: Accuracy = 0.5800\n",
      "Epoch 1700: Accuracy = 0.5400\n",
      "Epoch 1800: Accuracy = 0.5000\n",
      "Epoch 1900: Accuracy = 0.5000\n",
      "Epoch 2000: Accuracy = 0.5200\n",
      "Epoch 2100: Accuracy = 0.5400\n",
      "Epoch 2200: Accuracy = 0.5200\n",
      "Epoch 2300: Accuracy = 0.5600\n",
      "Epoch 2400: Accuracy = 0.5600\n",
      "Epoch 2500: Accuracy = 0.5600\n",
      "Epoch 2600: Accuracy = 0.5600\n",
      "Epoch 2700: Accuracy = 0.5800\n",
      "Epoch 2800: Accuracy = 0.5600\n",
      "Epoch 2900: Accuracy = 0.5600\n",
      "Epoch 3000: Accuracy = 0.5600\n",
      "Epoch 3100: Accuracy = 0.5600\n",
      "Epoch 3200: Accuracy = 0.5400\n",
      "Epoch 3300: Accuracy = 0.5400\n",
      "Epoch 3400: Accuracy = 0.5600\n",
      "Epoch 3500: Accuracy = 0.5600\n",
      "Epoch 3600: Accuracy = 0.5600\n",
      "Epoch 3700: Accuracy = 0.5800\n",
      "Epoch 3800: Accuracy = 0.5800\n",
      "Epoch 3900: Accuracy = 0.5800\n",
      "Epoch 4000: Accuracy = 0.6000\n",
      "Epoch 4100: Accuracy = 0.6000\n",
      "Epoch 4200: Accuracy = 0.5800\n",
      "Epoch 4300: Accuracy = 0.6000\n",
      "Epoch 4400: Accuracy = 0.6000\n",
      "Epoch 4500: Accuracy = 0.6000\n",
      "Epoch 4600: Accuracy = 0.5800\n",
      "Epoch 4700: Accuracy = 0.6000\n",
      "Epoch 4800: Accuracy = 0.6000\n",
      "Epoch 4900: Accuracy = 0.5600\n",
      "Epoch 5000: Accuracy = 0.6000\n",
      "Epoch 5100: Accuracy = 0.6000\n",
      "Epoch 5200: Accuracy = 0.5600\n",
      "Epoch 5300: Accuracy = 0.5600\n",
      "Epoch 5400: Accuracy = 0.5600\n",
      "Epoch 5500: Accuracy = 0.5600\n",
      "Epoch 5600: Accuracy = 0.6000\n",
      "Epoch 5700: Accuracy = 0.5800\n",
      "Epoch 5800: Accuracy = 0.5800\n",
      "Epoch 5900: Accuracy = 0.5800\n",
      "Epoch 6000: Accuracy = 0.5600\n",
      "Epoch 6100: Accuracy = 0.5400\n",
      "Epoch 6200: Accuracy = 0.5400\n",
      "Epoch 6300: Accuracy = 0.5200\n",
      "Epoch 6400: Accuracy = 0.5200\n",
      "Epoch 6500: Accuracy = 0.5200\n",
      "Epoch 6600: Accuracy = 0.5600\n",
      "Epoch 6700: Accuracy = 0.5600\n",
      "Epoch 6800: Accuracy = 0.5600\n",
      "Epoch 6900: Accuracy = 0.5600\n",
      "Epoch 7000: Accuracy = 0.5600\n",
      "Epoch 7100: Accuracy = 0.5600\n",
      "Epoch 7200: Accuracy = 0.5800\n",
      "Epoch 7300: Accuracy = 0.5800\n",
      "Epoch 7400: Accuracy = 0.5600\n",
      "Epoch 7500: Accuracy = 0.5600\n",
      "Epoch 7600: Accuracy = 0.5600\n",
      "Epoch 7700: Accuracy = 0.5600\n",
      "Epoch 7800: Accuracy = 0.5400\n",
      "Epoch 7900: Accuracy = 0.5600\n",
      "Epoch 8000: Accuracy = 0.5600\n",
      "Epoch 8100: Accuracy = 0.5400\n",
      "Epoch 8200: Accuracy = 0.5200\n",
      "Epoch 8300: Accuracy = 0.5600\n",
      "Epoch 8400: Accuracy = 0.5600\n",
      "Epoch 8500: Accuracy = 0.5600\n",
      "Epoch 8600: Accuracy = 0.6000\n",
      "Epoch 8700: Accuracy = 0.5400\n",
      "Epoch 8800: Accuracy = 0.5600\n",
      "Epoch 8900: Accuracy = 0.5800\n",
      "Epoch 9000: Accuracy = 0.5800\n",
      "Epoch 9100: Accuracy = 0.5800\n",
      "Epoch 9200: Accuracy = 0.6000\n",
      "Epoch 9300: Accuracy = 0.5400\n",
      "Epoch 9400: Accuracy = 0.5200\n",
      "Epoch 9500: Accuracy = 0.6000\n",
      "Epoch 9600: Accuracy = 0.5800\n",
      "Epoch 9700: Accuracy = 0.5400\n",
      "Epoch 9800: Accuracy = 0.5600\n",
      "Epoch 9900: Accuracy = 0.5800\n",
      "Epoch 10000: Accuracy = 0.6200\n"
     ]
    },
    {
     "data": {
      "text/html": [],
      "text/plain": [
       "<IPython.core.display.HTML object>"
      ]
     },
     "metadata": {},
     "output_type": "display_data"
    },
    {
     "data": {
      "text/html": [
       "<br>    <style><br>        .wandb-row {<br>            display: flex;<br>            flex-direction: row;<br>            flex-wrap: wrap;<br>            justify-content: flex-start;<br>            width: 100%;<br>        }<br>        .wandb-col {<br>            display: flex;<br>            flex-direction: column;<br>            flex-basis: 100%;<br>            flex: 1;<br>            padding: 10px;<br>        }<br>    </style><br><div class=\"wandb-row\"><div class=\"wandb-col\"><h3>Run history:</h3><br/><table class=\"wandb\"><tr><td>accuracy</td><td>▇▇▇▇▇▇▇▇▄▁▄▂▅▅███▅▅▇▄▂▂▅▅▅▅▄▅▅▂▅▅▅▇█▄▂█▅</td></tr><tr><td>epoch</td><td>▁▁▁▁▂▂▂▂▂▂▃▃▃▃▃▄▄▄▄▄▅▅▅▅▅▆▆▆▆▆▆▆▇▇▇▇▇███</td></tr><tr><td>hidden_size</td><td>▁▁▁▁▁▁▁▁▁▁▁▁▁▁▁▁▁▁▁▁▁▁▁▁▁▁▁▁▁▁▁▁▁▁▁▁▁▁▁▁</td></tr><tr><td>loss</td><td>██████▇▇▇▇▇▇▇▆▆▆▆▆▆▆▆▅▄▄▄▃▃▃▂▂▃▂▂▂▁▄▆▃▂▂</td></tr><tr><td>lr</td><td>▁▁▁▁▁▁▁▁▁▁▁▁▁▁▁▁▁▁▁▁▁▁▁▁▁▁▁▁▁▁▁▁▁▁▁▁▁▁▁▁</td></tr><tr><td>num_layers</td><td>▁▁▁▁▁▁▁▁▁▁▁▁▁▁▁▁▁▁▁▁▁▁▁▁▁▁▁▁▁▁▁▁▁▁▁▁▁▁▁▁</td></tr></table><br/></div><div class=\"wandb-col\"><h3>Run summary:</h3><br/><table class=\"wandb\"><tr><td>accuracy</td><td>0.62</td></tr><tr><td>epoch</td><td>10000</td></tr><tr><td>hidden_size</td><td>64</td></tr><tr><td>loss</td><td>0.56649</td></tr><tr><td>lr</td><td>0.0001</td></tr><tr><td>num_layers</td><td>3</td></tr></table><br/></div></div>"
      ],
      "text/plain": [
       "<IPython.core.display.HTML object>"
      ]
     },
     "metadata": {},
     "output_type": "display_data"
    },
    {
     "data": {
      "text/html": [
       " View run <strong style=\"color:#cdcd00\">logical-sweep-7</strong> at: <a href='https://wandb.ai/its_mrpsycho/stock_trend_lstm/runs/pwaujaqz' target=\"_blank\">https://wandb.ai/its_mrpsycho/stock_trend_lstm/runs/pwaujaqz</a><br> View project at: <a href='https://wandb.ai/its_mrpsycho/stock_trend_lstm' target=\"_blank\">https://wandb.ai/its_mrpsycho/stock_trend_lstm</a><br>Synced 5 W&B file(s), 0 media file(s), 0 artifact file(s) and 0 other file(s)"
      ],
      "text/plain": [
       "<IPython.core.display.HTML object>"
      ]
     },
     "metadata": {},
     "output_type": "display_data"
    },
    {
     "data": {
      "text/html": [
       "Find logs at: <code>.\\wandb\\run-20250314_164521-pwaujaqz\\logs</code>"
      ],
      "text/plain": [
       "<IPython.core.display.HTML object>"
      ]
     },
     "metadata": {},
     "output_type": "display_data"
    },
    {
     "name": "stderr",
     "output_type": "stream",
     "text": [
      "wandb: Agent Starting Run: acjhisal with config:\n",
      "wandb: \thidden_size: 32\n",
      "wandb: \tlr: 0.0001\n",
      "wandb: \tnum_epochs: 10000\n",
      "wandb: \tnum_layers: 1\n"
     ]
    },
    {
     "data": {
      "text/html": [
       "Tracking run with wandb version 0.19.8"
      ],
      "text/plain": [
       "<IPython.core.display.HTML object>"
      ]
     },
     "metadata": {},
     "output_type": "display_data"
    },
    {
     "data": {
      "text/html": [
       "Run data is saved locally in <code>d:\\Finance\\Finance\\Option-Pricing\\Option_Pricing\\wandb\\run-20250314_164800-acjhisal</code>"
      ],
      "text/plain": [
       "<IPython.core.display.HTML object>"
      ]
     },
     "metadata": {},
     "output_type": "display_data"
    },
    {
     "data": {
      "text/html": [
       "Syncing run <strong><a href='https://wandb.ai/its_mrpsycho/stock_trend_lstm/runs/acjhisal' target=\"_blank\">volcanic-sweep-8</a></strong> to <a href='https://wandb.ai/its_mrpsycho/stock_trend_lstm' target=\"_blank\">Weights & Biases</a> (<a href='https://wandb.me/developer-guide' target=\"_blank\">docs</a>)<br>Sweep page: <a href='https://wandb.ai/its_mrpsycho/stock_trend_lstm/sweeps/pgem3zdy' target=\"_blank\">https://wandb.ai/its_mrpsycho/stock_trend_lstm/sweeps/pgem3zdy</a>"
      ],
      "text/plain": [
       "<IPython.core.display.HTML object>"
      ]
     },
     "metadata": {},
     "output_type": "display_data"
    },
    {
     "data": {
      "text/html": [
       " View project at <a href='https://wandb.ai/its_mrpsycho/stock_trend_lstm' target=\"_blank\">https://wandb.ai/its_mrpsycho/stock_trend_lstm</a>"
      ],
      "text/plain": [
       "<IPython.core.display.HTML object>"
      ]
     },
     "metadata": {},
     "output_type": "display_data"
    },
    {
     "data": {
      "text/html": [
       " View sweep at <a href='https://wandb.ai/its_mrpsycho/stock_trend_lstm/sweeps/pgem3zdy' target=\"_blank\">https://wandb.ai/its_mrpsycho/stock_trend_lstm/sweeps/pgem3zdy</a>"
      ],
      "text/plain": [
       "<IPython.core.display.HTML object>"
      ]
     },
     "metadata": {},
     "output_type": "display_data"
    },
    {
     "data": {
      "text/html": [
       " View run at <a href='https://wandb.ai/its_mrpsycho/stock_trend_lstm/runs/acjhisal' target=\"_blank\">https://wandb.ai/its_mrpsycho/stock_trend_lstm/runs/acjhisal</a>"
      ],
      "text/plain": [
       "<IPython.core.display.HTML object>"
      ]
     },
     "metadata": {},
     "output_type": "display_data"
    },
    {
     "name": "stdout",
     "output_type": "stream",
     "text": [
      "Epoch 100: Accuracy = 0.5800\n",
      "Epoch 200: Accuracy = 0.5800\n",
      "Epoch 300: Accuracy = 0.5800\n",
      "Epoch 400: Accuracy = 0.5800\n",
      "Epoch 500: Accuracy = 0.5800\n",
      "Epoch 600: Accuracy = 0.5800\n",
      "Epoch 700: Accuracy = 0.5800\n",
      "Epoch 800: Accuracy = 0.5800\n",
      "Epoch 900: Accuracy = 0.5800\n",
      "Epoch 1000: Accuracy = 0.5800\n",
      "Epoch 1100: Accuracy = 0.5800\n",
      "Epoch 1200: Accuracy = 0.5800\n",
      "Epoch 1300: Accuracy = 0.5800\n",
      "Epoch 1400: Accuracy = 0.5800\n",
      "Epoch 1500: Accuracy = 0.5800\n",
      "Epoch 1600: Accuracy = 0.5800\n",
      "Epoch 1700: Accuracy = 0.5800\n",
      "Epoch 1800: Accuracy = 0.5800\n",
      "Epoch 1900: Accuracy = 0.5800\n",
      "Epoch 2000: Accuracy = 0.5800\n",
      "Epoch 2100: Accuracy = 0.5800\n",
      "Epoch 2200: Accuracy = 0.5800\n",
      "Epoch 2300: Accuracy = 0.5800\n",
      "Epoch 2400: Accuracy = 0.5800\n",
      "Epoch 2500: Accuracy = 0.5800\n",
      "Epoch 2600: Accuracy = 0.5800\n",
      "Epoch 2700: Accuracy = 0.5800\n",
      "Epoch 2800: Accuracy = 0.5800\n",
      "Epoch 2900: Accuracy = 0.5800\n",
      "Epoch 3000: Accuracy = 0.5800\n",
      "Epoch 3100: Accuracy = 0.5800\n",
      "Epoch 3200: Accuracy = 0.5800\n",
      "Epoch 3300: Accuracy = 0.5800\n",
      "Epoch 3400: Accuracy = 0.5800\n",
      "Epoch 3500: Accuracy = 0.5800\n",
      "Epoch 3600: Accuracy = 0.5800\n",
      "Epoch 3700: Accuracy = 0.5800\n",
      "Epoch 3800: Accuracy = 0.5800\n",
      "Epoch 3900: Accuracy = 0.5800\n",
      "Epoch 4000: Accuracy = 0.6000\n",
      "Epoch 4100: Accuracy = 0.6000\n",
      "Epoch 4200: Accuracy = 0.6200\n",
      "Epoch 4300: Accuracy = 0.6200\n",
      "Epoch 4400: Accuracy = 0.6200\n",
      "Epoch 4500: Accuracy = 0.6200\n",
      "Epoch 4600: Accuracy = 0.6200\n",
      "Epoch 4700: Accuracy = 0.6200\n",
      "Epoch 4800: Accuracy = 0.6200\n",
      "Epoch 4900: Accuracy = 0.6200\n",
      "Epoch 5000: Accuracy = 0.6200\n",
      "Epoch 5100: Accuracy = 0.6200\n",
      "Epoch 5200: Accuracy = 0.6200\n",
      "Epoch 5300: Accuracy = 0.6200\n",
      "Epoch 5400: Accuracy = 0.6000\n",
      "Epoch 5500: Accuracy = 0.6000\n",
      "Epoch 5600: Accuracy = 0.6000\n",
      "Epoch 5700: Accuracy = 0.5800\n",
      "Epoch 5800: Accuracy = 0.5800\n",
      "Epoch 5900: Accuracy = 0.5800\n",
      "Epoch 6000: Accuracy = 0.5800\n",
      "Epoch 6100: Accuracy = 0.5800\n",
      "Epoch 6200: Accuracy = 0.5800\n",
      "Epoch 6300: Accuracy = 0.5800\n",
      "Epoch 6400: Accuracy = 0.5800\n",
      "Epoch 6500: Accuracy = 0.5800\n",
      "Epoch 6600: Accuracy = 0.5800\n",
      "Epoch 6700: Accuracy = 0.5800\n",
      "Epoch 6800: Accuracy = 0.5800\n",
      "Epoch 6900: Accuracy = 0.5800\n",
      "Epoch 7000: Accuracy = 0.5800\n",
      "Epoch 7100: Accuracy = 0.5800\n",
      "Epoch 7200: Accuracy = 0.5800\n",
      "Epoch 7300: Accuracy = 0.5800\n",
      "Epoch 7400: Accuracy = 0.5800\n",
      "Epoch 7500: Accuracy = 0.5800\n",
      "Epoch 7600: Accuracy = 0.5800\n",
      "Epoch 7700: Accuracy = 0.5800\n",
      "Epoch 7800: Accuracy = 0.5800\n",
      "Epoch 7900: Accuracy = 0.5400\n",
      "Epoch 8000: Accuracy = 0.5600\n",
      "Epoch 8100: Accuracy = 0.5400\n",
      "Epoch 8200: Accuracy = 0.5400\n",
      "Epoch 8300: Accuracy = 0.5400\n",
      "Epoch 8400: Accuracy = 0.5400\n",
      "Epoch 8500: Accuracy = 0.5400\n",
      "Epoch 8600: Accuracy = 0.5400\n",
      "Epoch 8700: Accuracy = 0.5400\n",
      "Epoch 8800: Accuracy = 0.5400\n",
      "Epoch 8900: Accuracy = 0.5400\n",
      "Epoch 9000: Accuracy = 0.5600\n",
      "Epoch 9100: Accuracy = 0.5400\n",
      "Epoch 9200: Accuracy = 0.5600\n",
      "Epoch 9300: Accuracy = 0.5600\n",
      "Epoch 9400: Accuracy = 0.5600\n",
      "Epoch 9500: Accuracy = 0.5800\n",
      "Epoch 9600: Accuracy = 0.5800\n",
      "Epoch 9700: Accuracy = 0.5400\n",
      "Epoch 9800: Accuracy = 0.5800\n",
      "Epoch 9900: Accuracy = 0.5600\n",
      "Epoch 10000: Accuracy = 0.5800\n"
     ]
    },
    {
     "data": {
      "text/html": [],
      "text/plain": [
       "<IPython.core.display.HTML object>"
      ]
     },
     "metadata": {},
     "output_type": "display_data"
    },
    {
     "data": {
      "text/html": [
       "<br>    <style><br>        .wandb-row {<br>            display: flex;<br>            flex-direction: row;<br>            flex-wrap: wrap;<br>            justify-content: flex-start;<br>            width: 100%;<br>        }<br>        .wandb-col {<br>            display: flex;<br>            flex-direction: column;<br>            flex-basis: 100%;<br>            flex: 1;<br>            padding: 10px;<br>        }<br>    </style><br><div class=\"wandb-row\"><div class=\"wandb-col\"><h3>Run history:</h3><br/><table class=\"wandb\"><tr><td>accuracy</td><td>▄▄▄▄▄▄▄▄▄▄▄▄▄▄▄▆████▆▄▄▄▄▄▄▄▄▄▄▄▄▄▄▁▁▃▃▁</td></tr><tr><td>epoch</td><td>▁▁▁▁▁▂▂▂▂▂▂▂▃▃▃▄▄▄▄▄▄▄▅▅▅▅▆▆▆▆▇▇▇▇▇▇▇███</td></tr><tr><td>hidden_size</td><td>▁▁▁▁▁▁▁▁▁▁▁▁▁▁▁▁▁▁▁▁▁▁▁▁▁▁▁▁▁▁▁▁▁▁▁▁▁▁▁▁</td></tr><tr><td>loss</td><td>█▇▅▃▃▂▂▂▂▂▂▂▂▂▂▂▂▂▂▂▂▂▂▂▂▂▂▁▁▁▁▁▁▁▁▁▁▁▁▁</td></tr><tr><td>lr</td><td>▁▁▁▁▁▁▁▁▁▁▁▁▁▁▁▁▁▁▁▁▁▁▁▁▁▁▁▁▁▁▁▁▁▁▁▁▁▁▁▁</td></tr><tr><td>num_layers</td><td>▁▁▁▁▁▁▁▁▁▁▁▁▁▁▁▁▁▁▁▁▁▁▁▁▁▁▁▁▁▁▁▁▁▁▁▁▁▁▁▁</td></tr></table><br/></div><div class=\"wandb-col\"><h3>Run summary:</h3><br/><table class=\"wandb\"><tr><td>accuracy</td><td>0.58</td></tr><tr><td>epoch</td><td>10000</td></tr><tr><td>hidden_size</td><td>32</td></tr><tr><td>loss</td><td>0.62985</td></tr><tr><td>lr</td><td>0.0001</td></tr><tr><td>num_layers</td><td>1</td></tr></table><br/></div></div>"
      ],
      "text/plain": [
       "<IPython.core.display.HTML object>"
      ]
     },
     "metadata": {},
     "output_type": "display_data"
    },
    {
     "data": {
      "text/html": [
       " View run <strong style=\"color:#cdcd00\">volcanic-sweep-8</strong> at: <a href='https://wandb.ai/its_mrpsycho/stock_trend_lstm/runs/acjhisal' target=\"_blank\">https://wandb.ai/its_mrpsycho/stock_trend_lstm/runs/acjhisal</a><br> View project at: <a href='https://wandb.ai/its_mrpsycho/stock_trend_lstm' target=\"_blank\">https://wandb.ai/its_mrpsycho/stock_trend_lstm</a><br>Synced 5 W&B file(s), 0 media file(s), 0 artifact file(s) and 0 other file(s)"
      ],
      "text/plain": [
       "<IPython.core.display.HTML object>"
      ]
     },
     "metadata": {},
     "output_type": "display_data"
    },
    {
     "data": {
      "text/html": [
       "Find logs at: <code>.\\wandb\\run-20250314_164800-acjhisal\\logs</code>"
      ],
      "text/plain": [
       "<IPython.core.display.HTML object>"
      ]
     },
     "metadata": {},
     "output_type": "display_data"
    },
    {
     "name": "stderr",
     "output_type": "stream",
     "text": [
      "wandb: Sweep Agent: Waiting for job.\n",
      "wandb: Job received.\n",
      "wandb: Agent Starting Run: 1bvpgwxj with config:\n",
      "wandb: \thidden_size: 64\n",
      "wandb: \tlr: 0.0001\n",
      "wandb: \tnum_epochs: 10000\n",
      "wandb: \tnum_layers: 3\n"
     ]
    },
    {
     "data": {
      "text/html": [
       "Tracking run with wandb version 0.19.8"
      ],
      "text/plain": [
       "<IPython.core.display.HTML object>"
      ]
     },
     "metadata": {},
     "output_type": "display_data"
    },
    {
     "data": {
      "text/html": [
       "Run data is saved locally in <code>d:\\Finance\\Finance\\Option-Pricing\\Option_Pricing\\wandb\\run-20250314_164902-1bvpgwxj</code>"
      ],
      "text/plain": [
       "<IPython.core.display.HTML object>"
      ]
     },
     "metadata": {},
     "output_type": "display_data"
    },
    {
     "data": {
      "text/html": [
       "Syncing run <strong><a href='https://wandb.ai/its_mrpsycho/stock_trend_lstm/runs/1bvpgwxj' target=\"_blank\">true-sweep-9</a></strong> to <a href='https://wandb.ai/its_mrpsycho/stock_trend_lstm' target=\"_blank\">Weights & Biases</a> (<a href='https://wandb.me/developer-guide' target=\"_blank\">docs</a>)<br>Sweep page: <a href='https://wandb.ai/its_mrpsycho/stock_trend_lstm/sweeps/pgem3zdy' target=\"_blank\">https://wandb.ai/its_mrpsycho/stock_trend_lstm/sweeps/pgem3zdy</a>"
      ],
      "text/plain": [
       "<IPython.core.display.HTML object>"
      ]
     },
     "metadata": {},
     "output_type": "display_data"
    },
    {
     "data": {
      "text/html": [
       " View project at <a href='https://wandb.ai/its_mrpsycho/stock_trend_lstm' target=\"_blank\">https://wandb.ai/its_mrpsycho/stock_trend_lstm</a>"
      ],
      "text/plain": [
       "<IPython.core.display.HTML object>"
      ]
     },
     "metadata": {},
     "output_type": "display_data"
    },
    {
     "data": {
      "text/html": [
       " View sweep at <a href='https://wandb.ai/its_mrpsycho/stock_trend_lstm/sweeps/pgem3zdy' target=\"_blank\">https://wandb.ai/its_mrpsycho/stock_trend_lstm/sweeps/pgem3zdy</a>"
      ],
      "text/plain": [
       "<IPython.core.display.HTML object>"
      ]
     },
     "metadata": {},
     "output_type": "display_data"
    },
    {
     "data": {
      "text/html": [
       " View run at <a href='https://wandb.ai/its_mrpsycho/stock_trend_lstm/runs/1bvpgwxj' target=\"_blank\">https://wandb.ai/its_mrpsycho/stock_trend_lstm/runs/1bvpgwxj</a>"
      ],
      "text/plain": [
       "<IPython.core.display.HTML object>"
      ]
     },
     "metadata": {},
     "output_type": "display_data"
    },
    {
     "name": "stdout",
     "output_type": "stream",
     "text": [
      "Epoch 100: Accuracy = 0.5800\n",
      "Epoch 200: Accuracy = 0.5800\n",
      "Epoch 300: Accuracy = 0.5800\n",
      "Epoch 400: Accuracy = 0.5800\n",
      "Epoch 500: Accuracy = 0.5800\n",
      "Epoch 600: Accuracy = 0.5800\n",
      "Epoch 700: Accuracy = 0.5800\n",
      "Epoch 800: Accuracy = 0.5800\n",
      "Epoch 900: Accuracy = 0.5800\n",
      "Epoch 1000: Accuracy = 0.5800\n",
      "Epoch 1100: Accuracy = 0.5800\n",
      "Epoch 1200: Accuracy = 0.5800\n",
      "Epoch 1300: Accuracy = 0.5800\n",
      "Epoch 1400: Accuracy = 0.5800\n",
      "Epoch 1500: Accuracy = 0.5600\n",
      "Epoch 1600: Accuracy = 0.5800\n",
      "Epoch 1700: Accuracy = 0.6000\n",
      "Epoch 1800: Accuracy = 0.5800\n",
      "Epoch 1900: Accuracy = 0.5200\n",
      "Epoch 2000: Accuracy = 0.5200\n",
      "Epoch 2100: Accuracy = 0.5200\n",
      "Epoch 2200: Accuracy = 0.5200\n",
      "Epoch 2300: Accuracy = 0.5200\n",
      "Epoch 2400: Accuracy = 0.5200\n",
      "Epoch 2500: Accuracy = 0.5200\n",
      "Epoch 2600: Accuracy = 0.5200\n",
      "Epoch 2700: Accuracy = 0.5200\n",
      "Epoch 2800: Accuracy = 0.5000\n",
      "Epoch 2900: Accuracy = 0.5200\n",
      "Epoch 3000: Accuracy = 0.5200\n",
      "Epoch 3100: Accuracy = 0.5200\n",
      "Epoch 3200: Accuracy = 0.5200\n",
      "Epoch 3300: Accuracy = 0.5200\n",
      "Epoch 3400: Accuracy = 0.5200\n",
      "Epoch 3500: Accuracy = 0.5200\n",
      "Epoch 3600: Accuracy = 0.5200\n",
      "Epoch 3700: Accuracy = 0.5000\n",
      "Epoch 3800: Accuracy = 0.5000\n",
      "Epoch 3900: Accuracy = 0.4800\n",
      "Epoch 4000: Accuracy = 0.4800\n",
      "Epoch 4100: Accuracy = 0.5200\n",
      "Epoch 4200: Accuracy = 0.5000\n",
      "Epoch 4300: Accuracy = 0.5400\n",
      "Epoch 4400: Accuracy = 0.5200\n",
      "Epoch 4500: Accuracy = 0.5400\n",
      "Epoch 4600: Accuracy = 0.4800\n",
      "Epoch 4700: Accuracy = 0.5200\n",
      "Epoch 4800: Accuracy = 0.5200\n",
      "Epoch 4900: Accuracy = 0.5000\n",
      "Epoch 5000: Accuracy = 0.5200\n",
      "Epoch 5100: Accuracy = 0.5400\n",
      "Epoch 5200: Accuracy = 0.5200\n",
      "Epoch 5300: Accuracy = 0.5200\n",
      "Epoch 5400: Accuracy = 0.5200\n",
      "Epoch 5500: Accuracy = 0.5200\n",
      "Epoch 5600: Accuracy = 0.5200\n",
      "Epoch 5700: Accuracy = 0.5200\n",
      "Epoch 5800: Accuracy = 0.5000\n",
      "Epoch 5900: Accuracy = 0.5400\n",
      "Epoch 6000: Accuracy = 0.5400\n",
      "Epoch 6100: Accuracy = 0.5200\n",
      "Epoch 6200: Accuracy = 0.5200\n",
      "Epoch 6300: Accuracy = 0.5200\n",
      "Epoch 6400: Accuracy = 0.5200\n",
      "Epoch 6500: Accuracy = 0.5200\n",
      "Epoch 6600: Accuracy = 0.5200\n",
      "Epoch 6700: Accuracy = 0.5200\n",
      "Epoch 6800: Accuracy = 0.5000\n",
      "Epoch 6900: Accuracy = 0.5000\n",
      "Epoch 7000: Accuracy = 0.4800\n",
      "Epoch 7100: Accuracy = 0.5000\n",
      "Epoch 7200: Accuracy = 0.5000\n",
      "Epoch 7300: Accuracy = 0.5000\n",
      "Epoch 7400: Accuracy = 0.5000\n",
      "Epoch 7500: Accuracy = 0.5200\n",
      "Epoch 7600: Accuracy = 0.5200\n",
      "Epoch 7700: Accuracy = 0.4400\n",
      "Epoch 7800: Accuracy = 0.4200\n",
      "Epoch 7900: Accuracy = 0.4400\n",
      "Epoch 8000: Accuracy = 0.4400\n",
      "Epoch 8100: Accuracy = 0.4600\n",
      "Epoch 8200: Accuracy = 0.4600\n",
      "Epoch 8300: Accuracy = 0.4600\n",
      "Epoch 8400: Accuracy = 0.4600\n",
      "Epoch 8500: Accuracy = 0.4800\n",
      "Epoch 8600: Accuracy = 0.5400\n",
      "Epoch 8700: Accuracy = 0.5400\n",
      "Epoch 8800: Accuracy = 0.5400\n",
      "Epoch 8900: Accuracy = 0.5200\n",
      "Epoch 9000: Accuracy = 0.5600\n",
      "Epoch 9100: Accuracy = 0.5800\n",
      "Epoch 9200: Accuracy = 0.5800\n",
      "Epoch 9300: Accuracy = 0.5600\n",
      "Epoch 9400: Accuracy = 0.5000\n",
      "Epoch 9500: Accuracy = 0.5200\n",
      "Epoch 9600: Accuracy = 0.5400\n",
      "Epoch 9700: Accuracy = 0.5800\n",
      "Epoch 9800: Accuracy = 0.5600\n",
      "Epoch 9900: Accuracy = 0.5400\n",
      "Epoch 10000: Accuracy = 0.5400\n"
     ]
    },
    {
     "data": {
      "text/html": [],
      "text/plain": [
       "<IPython.core.display.HTML object>"
      ]
     },
     "metadata": {},
     "output_type": "display_data"
    },
    {
     "data": {
      "text/html": [
       "<br>    <style><br>        .wandb-row {<br>            display: flex;<br>            flex-direction: row;<br>            flex-wrap: wrap;<br>            justify-content: flex-start;<br>            width: 100%;<br>        }<br>        .wandb-col {<br>            display: flex;<br>            flex-direction: column;<br>            flex-basis: 100%;<br>            flex: 1;<br>            padding: 10px;<br>        }<br>    </style><br><div class=\"wandb-row\"><div class=\"wandb-col\"><h3>Run history:</h3><br/><table class=\"wandb\"><tr><td>accuracy</td><td>██████████▅▅▅▄▅▅▅▄▅▄▅▆▃▄▆▅▅▅▆▅▅▅▅▁▂▆▇▄▆▇</td></tr><tr><td>epoch</td><td>▁▁▂▂▂▂▂▂▃▃▃▃▃▃▃▄▄▄▄▄▅▅▅▅▅▅▆▆▆▆▇▇▇▇▇▇▇▇██</td></tr><tr><td>hidden_size</td><td>▁▁▁▁▁▁▁▁▁▁▁▁▁▁▁▁▁▁▁▁▁▁▁▁▁▁▁▁▁▁▁▁▁▁▁▁▁▁▁▁</td></tr><tr><td>loss</td><td>█████▇▇▇▇▇▆▆▆▅▅▄▄▄▄▄▃▃▃▅▄▄▄▃▃▃▂▂▂▂▂▂▂▁▁▁</td></tr><tr><td>lr</td><td>▁▁▁▁▁▁▁▁▁▁▁▁▁▁▁▁▁▁▁▁▁▁▁▁▁▁▁▁▁▁▁▁▁▁▁▁▁▁▁▁</td></tr><tr><td>num_layers</td><td>▁▁▁▁▁▁▁▁▁▁▁▁▁▁▁▁▁▁▁▁▁▁▁▁▁▁▁▁▁▁▁▁▁▁▁▁▁▁▁▁</td></tr></table><br/></div><div class=\"wandb-col\"><h3>Run summary:</h3><br/><table class=\"wandb\"><tr><td>accuracy</td><td>0.54</td></tr><tr><td>epoch</td><td>10000</td></tr><tr><td>hidden_size</td><td>64</td></tr><tr><td>loss</td><td>0.51983</td></tr><tr><td>lr</td><td>0.0001</td></tr><tr><td>num_layers</td><td>3</td></tr></table><br/></div></div>"
      ],
      "text/plain": [
       "<IPython.core.display.HTML object>"
      ]
     },
     "metadata": {},
     "output_type": "display_data"
    },
    {
     "data": {
      "text/html": [
       " View run <strong style=\"color:#cdcd00\">true-sweep-9</strong> at: <a href='https://wandb.ai/its_mrpsycho/stock_trend_lstm/runs/1bvpgwxj' target=\"_blank\">https://wandb.ai/its_mrpsycho/stock_trend_lstm/runs/1bvpgwxj</a><br> View project at: <a href='https://wandb.ai/its_mrpsycho/stock_trend_lstm' target=\"_blank\">https://wandb.ai/its_mrpsycho/stock_trend_lstm</a><br>Synced 5 W&B file(s), 0 media file(s), 0 artifact file(s) and 0 other file(s)"
      ],
      "text/plain": [
       "<IPython.core.display.HTML object>"
      ]
     },
     "metadata": {},
     "output_type": "display_data"
    },
    {
     "data": {
      "text/html": [
       "Find logs at: <code>.\\wandb\\run-20250314_164902-1bvpgwxj\\logs</code>"
      ],
      "text/plain": [
       "<IPython.core.display.HTML object>"
      ]
     },
     "metadata": {},
     "output_type": "display_data"
    },
    {
     "name": "stderr",
     "output_type": "stream",
     "text": [
      "wandb: Agent Starting Run: 6xoihq3p with config:\n",
      "wandb: \thidden_size: 64\n",
      "wandb: \tlr: 0.001\n",
      "wandb: \tnum_epochs: 10000\n",
      "wandb: \tnum_layers: 2\n"
     ]
    },
    {
     "data": {
      "text/html": [
       "Tracking run with wandb version 0.19.8"
      ],
      "text/plain": [
       "<IPython.core.display.HTML object>"
      ]
     },
     "metadata": {},
     "output_type": "display_data"
    },
    {
     "data": {
      "text/html": [
       "Run data is saved locally in <code>d:\\Finance\\Finance\\Option-Pricing\\Option_Pricing\\wandb\\run-20250314_165122-6xoihq3p</code>"
      ],
      "text/plain": [
       "<IPython.core.display.HTML object>"
      ]
     },
     "metadata": {},
     "output_type": "display_data"
    },
    {
     "data": {
      "text/html": [
       "Syncing run <strong><a href='https://wandb.ai/its_mrpsycho/stock_trend_lstm/runs/6xoihq3p' target=\"_blank\">ethereal-sweep-10</a></strong> to <a href='https://wandb.ai/its_mrpsycho/stock_trend_lstm' target=\"_blank\">Weights & Biases</a> (<a href='https://wandb.me/developer-guide' target=\"_blank\">docs</a>)<br>Sweep page: <a href='https://wandb.ai/its_mrpsycho/stock_trend_lstm/sweeps/pgem3zdy' target=\"_blank\">https://wandb.ai/its_mrpsycho/stock_trend_lstm/sweeps/pgem3zdy</a>"
      ],
      "text/plain": [
       "<IPython.core.display.HTML object>"
      ]
     },
     "metadata": {},
     "output_type": "display_data"
    },
    {
     "data": {
      "text/html": [
       " View project at <a href='https://wandb.ai/its_mrpsycho/stock_trend_lstm' target=\"_blank\">https://wandb.ai/its_mrpsycho/stock_trend_lstm</a>"
      ],
      "text/plain": [
       "<IPython.core.display.HTML object>"
      ]
     },
     "metadata": {},
     "output_type": "display_data"
    },
    {
     "data": {
      "text/html": [
       " View sweep at <a href='https://wandb.ai/its_mrpsycho/stock_trend_lstm/sweeps/pgem3zdy' target=\"_blank\">https://wandb.ai/its_mrpsycho/stock_trend_lstm/sweeps/pgem3zdy</a>"
      ],
      "text/plain": [
       "<IPython.core.display.HTML object>"
      ]
     },
     "metadata": {},
     "output_type": "display_data"
    },
    {
     "data": {
      "text/html": [
       " View run at <a href='https://wandb.ai/its_mrpsycho/stock_trend_lstm/runs/6xoihq3p' target=\"_blank\">https://wandb.ai/its_mrpsycho/stock_trend_lstm/runs/6xoihq3p</a>"
      ],
      "text/plain": [
       "<IPython.core.display.HTML object>"
      ]
     },
     "metadata": {},
     "output_type": "display_data"
    },
    {
     "name": "stdout",
     "output_type": "stream",
     "text": [
      "Epoch 100: Accuracy = 0.5800\n",
      "Epoch 200: Accuracy = 0.5800\n",
      "Epoch 300: Accuracy = 0.5800\n",
      "Epoch 400: Accuracy = 0.5200\n",
      "Epoch 500: Accuracy = 0.5400\n",
      "Epoch 600: Accuracy = 0.5600\n",
      "Epoch 700: Accuracy = 0.5400\n",
      "Epoch 800: Accuracy = 0.5200\n",
      "Epoch 900: Accuracy = 0.5600\n",
      "Epoch 1000: Accuracy = 0.5400\n",
      "Epoch 1100: Accuracy = 0.4600\n",
      "Epoch 1200: Accuracy = 0.5600\n",
      "Epoch 1300: Accuracy = 0.5400\n",
      "Epoch 1400: Accuracy = 0.5400\n",
      "Epoch 1500: Accuracy = 0.5600\n",
      "Epoch 1600: Accuracy = 0.5600\n",
      "Epoch 1700: Accuracy = 0.5400\n",
      "Epoch 1800: Accuracy = 0.5600\n",
      "Epoch 1900: Accuracy = 0.5600\n",
      "Epoch 2000: Accuracy = 0.5400\n",
      "Epoch 2100: Accuracy = 0.5800\n",
      "Epoch 2200: Accuracy = 0.5200\n",
      "Epoch 2300: Accuracy = 0.5600\n",
      "Epoch 2400: Accuracy = 0.5800\n",
      "Epoch 2500: Accuracy = 0.5200\n",
      "Epoch 2600: Accuracy = 0.5400\n",
      "Epoch 2700: Accuracy = 0.5400\n",
      "Epoch 2800: Accuracy = 0.5200\n",
      "Epoch 2900: Accuracy = 0.5600\n",
      "Epoch 3000: Accuracy = 0.5600\n",
      "Epoch 3100: Accuracy = 0.5600\n",
      "Epoch 3200: Accuracy = 0.5800\n",
      "Epoch 3300: Accuracy = 0.5600\n",
      "Epoch 3400: Accuracy = 0.5600\n",
      "Epoch 3500: Accuracy = 0.5600\n",
      "Epoch 3600: Accuracy = 0.5800\n",
      "Epoch 3700: Accuracy = 0.6000\n",
      "Epoch 3800: Accuracy = 0.5800\n",
      "Epoch 3900: Accuracy = 0.5800\n",
      "Epoch 4000: Accuracy = 0.6200\n",
      "Epoch 4100: Accuracy = 0.6000\n",
      "Epoch 4200: Accuracy = 0.5600\n",
      "Epoch 4300: Accuracy = 0.5600\n",
      "Epoch 4400: Accuracy = 0.6200\n",
      "Epoch 4500: Accuracy = 0.5600\n",
      "Epoch 4600: Accuracy = 0.5800\n",
      "Epoch 4700: Accuracy = 0.5800\n",
      "Epoch 4800: Accuracy = 0.6600\n",
      "Epoch 4900: Accuracy = 0.5600\n",
      "Epoch 5000: Accuracy = 0.5800\n",
      "Epoch 5100: Accuracy = 0.6200\n",
      "Epoch 5200: Accuracy = 0.6000\n",
      "Epoch 5300: Accuracy = 0.5800\n",
      "Epoch 5400: Accuracy = 0.5200\n",
      "Epoch 5500: Accuracy = 0.5800\n",
      "Epoch 5600: Accuracy = 0.6200\n",
      "Epoch 5700: Accuracy = 0.5800\n",
      "Epoch 5800: Accuracy = 0.5600\n",
      "Epoch 5900: Accuracy = 0.4600\n",
      "Epoch 6000: Accuracy = 0.5600\n",
      "Epoch 6100: Accuracy = 0.5800\n",
      "Epoch 6200: Accuracy = 0.5400\n",
      "Epoch 6300: Accuracy = 0.5600\n",
      "Epoch 6400: Accuracy = 0.5800\n",
      "Epoch 6500: Accuracy = 0.6000\n",
      "Epoch 6600: Accuracy = 0.5600\n",
      "Epoch 6700: Accuracy = 0.6000\n",
      "Epoch 6800: Accuracy = 0.5200\n",
      "Epoch 6900: Accuracy = 0.5600\n",
      "Epoch 7000: Accuracy = 0.6000\n",
      "Epoch 7100: Accuracy = 0.5400\n",
      "Epoch 7200: Accuracy = 0.6200\n",
      "Epoch 7300: Accuracy = 0.5400\n",
      "Epoch 7400: Accuracy = 0.5200\n",
      "Epoch 7500: Accuracy = 0.5400\n",
      "Epoch 7600: Accuracy = 0.5200\n",
      "Epoch 7700: Accuracy = 0.5800\n",
      "Epoch 7800: Accuracy = 0.5800\n",
      "Epoch 7900: Accuracy = 0.5600\n",
      "Epoch 8000: Accuracy = 0.4600\n",
      "Epoch 8100: Accuracy = 0.5800\n",
      "Epoch 8200: Accuracy = 0.6000\n",
      "Epoch 8300: Accuracy = 0.6200\n",
      "Epoch 8400: Accuracy = 0.5000\n",
      "Epoch 8500: Accuracy = 0.7000\n",
      "Epoch 8600: Accuracy = 0.6200\n",
      "Epoch 8700: Accuracy = 0.6200\n",
      "Epoch 8800: Accuracy = 0.6200\n",
      "Epoch 8900: Accuracy = 0.6200\n",
      "Epoch 9000: Accuracy = 0.6000\n",
      "Epoch 9100: Accuracy = 0.5800\n",
      "Epoch 9200: Accuracy = 0.6400\n",
      "Epoch 9300: Accuracy = 0.6600\n",
      "Epoch 9400: Accuracy = 0.6800\n",
      "Epoch 9500: Accuracy = 0.6000\n",
      "Epoch 9600: Accuracy = 0.6000\n",
      "Epoch 9700: Accuracy = 0.6000\n",
      "Epoch 9800: Accuracy = 0.6200\n",
      "Epoch 9900: Accuracy = 0.6200\n",
      "Epoch 10000: Accuracy = 0.6400\n"
     ]
    },
    {
     "data": {
      "text/html": [],
      "text/plain": [
       "<IPython.core.display.HTML object>"
      ]
     },
     "metadata": {},
     "output_type": "display_data"
    },
    {
     "data": {
      "text/html": [
       "<br>    <style><br>        .wandb-row {<br>            display: flex;<br>            flex-direction: row;<br>            flex-wrap: wrap;<br>            justify-content: flex-start;<br>            width: 100%;<br>        }<br>        .wandb-col {<br>            display: flex;<br>            flex-direction: column;<br>            flex-basis: 100%;<br>            flex: 1;<br>            padding: 10px;<br>        }<br>    </style><br><div class=\"wandb-row\"><div class=\"wandb-col\"><h3>Run history:</h3><br/><table class=\"wandb\"><tr><td>accuracy</td><td>▃▄▃▃▁▃▃▄▄▄▄▄▅▄▅▄▇▄▅▄▄▅▅▄▅▃▃▃▄▁▂█▆▆▆▄▇▅▅▆</td></tr><tr><td>epoch</td><td>▁▁▁▁▁▂▂▂▂▂▂▂▃▃▃▃▃▃▃▄▅▅▅▅▅▆▆▆▆▇▇▇▇▇▇▇████</td></tr><tr><td>hidden_size</td><td>▁▁▁▁▁▁▁▁▁▁▁▁▁▁▁▁▁▁▁▁▁▁▁▁▁▁▁▁▁▁▁▁▁▁▁▁▁▁▁▁</td></tr><tr><td>loss</td><td>███▇▇▇▇▇▇▇▇▆▆▆▆▆▅▅▅▅▅▄▄▅▃█▃▃▂▂▂▂▁▁▁█▂▂▂▁</td></tr><tr><td>lr</td><td>▁▁▁▁▁▁▁▁▁▁▁▁▁▁▁▁▁▁▁▁▁▁▁▁▁▁▁▁▁▁▁▁▁▁▁▁▁▁▁▁</td></tr><tr><td>num_layers</td><td>▁▁▁▁▁▁▁▁▁▁▁▁▁▁▁▁▁▁▁▁▁▁▁▁▁▁▁▁▁▁▁▁▁▁▁▁▁▁▁▁</td></tr></table><br/></div><div class=\"wandb-col\"><h3>Run summary:</h3><br/><table class=\"wandb\"><tr><td>accuracy</td><td>0.64</td></tr><tr><td>epoch</td><td>10000</td></tr><tr><td>hidden_size</td><td>64</td></tr><tr><td>loss</td><td>0.115</td></tr><tr><td>lr</td><td>0.001</td></tr><tr><td>num_layers</td><td>2</td></tr></table><br/></div></div>"
      ],
      "text/plain": [
       "<IPython.core.display.HTML object>"
      ]
     },
     "metadata": {},
     "output_type": "display_data"
    },
    {
     "data": {
      "text/html": [
       " View run <strong style=\"color:#cdcd00\">ethereal-sweep-10</strong> at: <a href='https://wandb.ai/its_mrpsycho/stock_trend_lstm/runs/6xoihq3p' target=\"_blank\">https://wandb.ai/its_mrpsycho/stock_trend_lstm/runs/6xoihq3p</a><br> View project at: <a href='https://wandb.ai/its_mrpsycho/stock_trend_lstm' target=\"_blank\">https://wandb.ai/its_mrpsycho/stock_trend_lstm</a><br>Synced 5 W&B file(s), 0 media file(s), 0 artifact file(s) and 0 other file(s)"
      ],
      "text/plain": [
       "<IPython.core.display.HTML object>"
      ]
     },
     "metadata": {},
     "output_type": "display_data"
    },
    {
     "data": {
      "text/html": [
       "Find logs at: <code>.\\wandb\\run-20250314_165122-6xoihq3p\\logs</code>"
      ],
      "text/plain": [
       "<IPython.core.display.HTML object>"
      ]
     },
     "metadata": {},
     "output_type": "display_data"
    }
   ],
   "source": [
    "import pandas as pd\n",
    "import numpy as np\n",
    "import torch\n",
    "import torch.nn as nn\n",
    "import random\n",
    "from sklearn.model_selection import train_test_split\n",
    "import wandb\n",
    "\n",
    "# Set random seeds for reproducibility\n",
    "random_state = 42\n",
    "np.random.seed(random_state)\n",
    "random.seed(random_state)\n",
    "torch.manual_seed(random_state)\n",
    "if torch.cuda.is_available():\n",
    "    torch.cuda.manual_seed_all(random_state)\n",
    "\n",
    "# ----- Load Stock and Sentiment Data -----\n",
    "stock_data = pd.read_csv('AAPL_trend.csv', parse_dates=['date'])\n",
    "stock_data = stock_data[stock_data['trend'] != 'stable']\n",
    "stock_data['closingValue'] = stock_data['closingValue'].astype(float)\n",
    "sentiment_data = pd.read_csv('sentiment_scores_title.csv', parse_dates=['date'])\n",
    "stock_data['date'] = pd.to_datetime(stock_data['date'])\n",
    "merged_data = pd.merge(stock_data, sentiment_data, on='date', how='left')\n",
    "\n",
    "# ----- Define Date Range -----\n",
    "start_date = pd.to_datetime(\"2024-02-12\")\n",
    "end_date = pd.to_datetime(\"2025-02-19\")\n",
    "selected_stock_data = merged_data[(merged_data['date'] >= start_date) & (merged_data['date'] <= end_date)]\n",
    "\n",
    "# ----- Feature Engineering -----\n",
    "X_days = 7\n",
    "Y_days = 1\n",
    "selected_stock_data = selected_stock_data.sort_values('date')\n",
    "closing_values = selected_stock_data['closingValue'].values\n",
    "sentiment_scores = selected_stock_data['sentiment_score'].values\n",
    "trends = selected_stock_data['trend'].values\n",
    "\n",
    "# Map trends to numerical labels\n",
    "trend_to_label = {'increase': 0, 'decrease': 1, 'stable': 0}\n",
    "labels_all = [trend_to_label[t] for t in trends]\n",
    "\n",
    "features, labels = [], []\n",
    "for i in range(max(X_days, Y_days), len(selected_stock_data)):\n",
    "    stock_features = closing_values[i - X_days:i]\n",
    "    sentiment_feature = sentiment_scores[i - Y_days:i]\n",
    "    feature_vector = np.concatenate([stock_features, sentiment_feature])\n",
    "    features.append(feature_vector)\n",
    "    labels.append(labels_all[i])\n",
    "\n",
    "features = np.array(features)\n",
    "labels = np.array(labels)\n",
    "\n",
    "# Train-Test Split\n",
    "X_train, X_test, y_train, y_test = train_test_split(\n",
    "    features, labels, test_size=0.2, random_state=random_state, stratify=labels\n",
    ")\n",
    "\n",
    "# Define LSTM Model\n",
    "class StockTrendLSTM(nn.Module):\n",
    "    def __init__(self, input_size, hidden_size, num_layers, num_classes):\n",
    "        super(StockTrendLSTM, self).__init__()\n",
    "        self.hidden_size = hidden_size\n",
    "        self.num_layers = num_layers\n",
    "        self.lstm = nn.LSTM(input_size, hidden_size, num_layers, batch_first=True)\n",
    "        self.fc = nn.Linear(hidden_size, num_classes)\n",
    "    \n",
    "    def forward(self, x):\n",
    "        h0 = torch.zeros(self.num_layers, x.size(0), self.hidden_size)\n",
    "        c0 = torch.zeros(self.num_layers, x.size(0), self.hidden_size)\n",
    "        out, _ = self.lstm(x, (h0, c0))\n",
    "        out = out[:, -1, :]\n",
    "        out = self.fc(out)\n",
    "        return out\n",
    "\n",
    "# Prepare data for LSTM\n",
    "input_size = 1\n",
    "X_train_seq = X_train.reshape(X_train.shape[0], X_train.shape[1], 1)\n",
    "X_test_seq = X_test.reshape(X_test.shape[0], X_test.shape[1], 1)\n",
    "X_train_tensor = torch.tensor(X_train_seq, dtype=torch.float32)\n",
    "X_test_tensor = torch.tensor(X_test_seq, dtype=torch.float32)\n",
    "y_train_tensor = torch.tensor(y_train, dtype=torch.long)\n",
    "y_test_tensor = torch.tensor(y_test, dtype=torch.long)\n",
    "\n",
    "# ----- Define W&B Sweep Configuration -----\n",
    "sweep_config = {\n",
    "    \"method\": \"bayes\",  # Can also be \"random\" or \"grid\"\n",
    "    \"metric\": {\"name\": \"accuracy\", \"goal\": \"maximize\"},\n",
    "    \"parameters\": {\n",
    "        \"hidden_size\": {\"values\": [16, 32, 64]},\n",
    "        \"num_layers\": {\"values\": [1, 2, 3]},\n",
    "        \"lr\": {\"values\": [0.01, 0.001, 0.0001]},\n",
    "        \"num_epochs\": {\"value\": 10000}  # Keep fixed if not tuning\n",
    "    }\n",
    "}\n",
    "\n",
    "sweep_id = wandb.sweep(sweep_config, project=\"stock_trend_lstm\")\n",
    "\n",
    "\n",
    "# ----- Training Function -----\n",
    "def train():\n",
    "    wandb.init()\n",
    "    config = wandb.config  # Load sweep parameters\n",
    "\n",
    "    model = StockTrendLSTM(\n",
    "        input_size=1,\n",
    "        hidden_size=config.hidden_size,\n",
    "        num_layers=config.num_layers,\n",
    "        num_classes=3\n",
    "    )\n",
    "    \n",
    "    criterion = nn.CrossEntropyLoss()\n",
    "    optimizer = torch.optim.Adam(model.parameters(), lr=config.lr)\n",
    "\n",
    "    num_epochs = config.num_epochs\n",
    "    for epoch in range(num_epochs):\n",
    "        model.train()\n",
    "        outputs = model(X_train_tensor)\n",
    "        loss = criterion(outputs, y_train_tensor)\n",
    "        \n",
    "        optimizer.zero_grad()\n",
    "        loss.backward()\n",
    "        optimizer.step()\n",
    "        \n",
    "        if (epoch + 1) % 100 == 0:\n",
    "            model.eval()\n",
    "            with torch.no_grad():\n",
    "                test_outputs = model(X_test_tensor)\n",
    "                _, predicted = torch.max(test_outputs, 1)\n",
    "                accuracy = (predicted == y_test_tensor).sum().item() / y_test_tensor.size(0)\n",
    "\n",
    "                # Log hyperparameters & metrics\n",
    "                wandb.log({\n",
    "                    \"epoch\": epoch + 1,\n",
    "                    \"loss\": loss.item(),\n",
    "                    \"accuracy\": accuracy,\n",
    "                    \"hidden_size\": config.hidden_size,\n",
    "                    \"num_layers\": config.num_layers,\n",
    "                    \"lr\": config.lr\n",
    "                })\n",
    "\n",
    "                print(f\"Epoch {epoch + 1}: Accuracy = {accuracy:.4f}\")\n",
    "\n",
    "    wandb.finish()\n",
    "\n",
    "# ----- Step 3: Run Sweep -----\n",
    "wandb.agent(sweep_id, train, count=10)  # Run 10 different configurations\n"
   ]
  }
 ],
 "metadata": {
  "kernelspec": {
   "display_name": "finance",
   "language": "python",
   "name": "python3"
  },
  "language_info": {
   "codemirror_mode": {
    "name": "ipython",
    "version": 3
   },
   "file_extension": ".py",
   "mimetype": "text/x-python",
   "name": "python",
   "nbconvert_exporter": "python",
   "pygments_lexer": "ipython3",
   "version": "3.10.16"
  }
 },
 "nbformat": 4,
 "nbformat_minor": 2
}
