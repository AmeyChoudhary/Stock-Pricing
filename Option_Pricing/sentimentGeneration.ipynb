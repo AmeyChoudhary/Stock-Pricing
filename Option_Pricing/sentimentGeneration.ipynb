{
 "cells": [
  {
   "cell_type": "markdown",
   "metadata": {},
   "source": [
    "# Sentiment Generation"
   ]
  },
  {
   "cell_type": "code",
   "execution_count": 8,
   "metadata": {},
   "outputs": [
    {
     "name": "stdout",
     "output_type": "stream",
     "text": [
      "Sentiment scores saved to sentiment_scores_title.csv\n"
     ]
    }
   ],
   "source": [
    "import pandas as pd\n",
    "import numpy as np\n",
    "import torch\n",
    "from transformers import BertTokenizer, BertForSequenceClassification\n",
    "from torch.nn.functional import softmax\n",
    "import json\n",
    "\n",
    "# Load FinBERT\n",
    "def load_finbert():\n",
    "    tokenizer = BertTokenizer.from_pretrained(\"yiyanghkust/finbert-tone\")\n",
    "    model = BertForSequenceClassification.from_pretrained(\"yiyanghkust/finbert-tone\")\n",
    "    return tokenizer, model\n",
    "\n",
    "# Get sentiment score for each article\n",
    "def get_sentiment(text, tokenizer, model):\n",
    "    inputs = tokenizer(text, return_tensors=\"pt\", truncation=True, padding=True, max_length=512)\n",
    "    with torch.no_grad():\n",
    "        outputs = model(**inputs).logits.numpy()[0]\n",
    "    scores = softmax(torch.tensor(outputs), dim=0).numpy()\n",
    "    return scores[2] - scores[0]  # Positive - Negative Sentiment Score\n",
    "\n",
    "# Process all news data to compute sentiment score for each day\n",
    "def process_sentiment(news_data, tokenizer, model):\n",
    "    sentiment_scores = []\n",
    "    for date, articles in news_data.items():\n",
    "        print(date, end = \"\\r\")\n",
    "        scores = []\n",
    "        for article in articles:\n",
    "            # text = \" \".join([article.get(\"title\", \"\"), article.get(\"description\", \"\"), article.get(\"content\", \"\")])\n",
    "            text = article.get(\"title\", \"\")\n",
    "            score = get_sentiment(text, tokenizer, model)\n",
    "            scores.append(score)\n",
    "        # Average score for the day (or default to 0 if no articles)\n",
    "        sentiment_scores.append({\n",
    "            'date': date,\n",
    "            'sentiment_score': np.mean(scores) if scores else 0.0\n",
    "        })\n",
    "    return sentiment_scores\n",
    "\n",
    "# ----- Load News Data and Save Sentiment Scores to CSV -----\n",
    "with open('newsData.json', 'r') as f:\n",
    "    news_data = json.load(f)\n",
    "\n",
    "# Load FinBERT\n",
    "tokenizer, finbert_model = load_finbert()\n",
    "\n",
    "# Get sentiment scores for all days in the news data\n",
    "sentiment_scores = process_sentiment(news_data, tokenizer, finbert_model)\n",
    "\n",
    "# Convert sentiment scores to a DataFrame and save to CSV\n",
    "sentiment_df = pd.DataFrame(sentiment_scores)\n",
    "sentiment_df.to_csv('sentiment_scores_title.csv', index=False)\n",
    "\n",
    "print(\"Sentiment scores saved to sentiment_scores_title.csv\")\n"
   ]
  }
 ],
 "metadata": {
  "kernelspec": {
   "display_name": "Python 3",
   "language": "python",
   "name": "python3"
  },
  "language_info": {
   "codemirror_mode": {
    "name": "ipython",
    "version": 3
   },
   "file_extension": ".py",
   "mimetype": "text/x-python",
   "name": "python",
   "nbconvert_exporter": "python",
   "pygments_lexer": "ipython3",
   "version": "3.10.12"
  }
 },
 "nbformat": 4,
 "nbformat_minor": 2
}
