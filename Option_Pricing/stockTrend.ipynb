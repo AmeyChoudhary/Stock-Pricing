{
 "cells": [
  {
   "cell_type": "code",
   "execution_count": 4,
   "metadata": {},
   "outputs": [],
   "source": [
    "from alpha_vantage.timeseries import TimeSeries\n",
    "import pandas as pd\n",
    "import os"
   ]
  },
  {
   "cell_type": "markdown",
   "metadata": {},
   "source": [
    "# Data collection"
   ]
  },
  {
   "cell_type": "code",
   "execution_count": null,
   "metadata": {},
   "outputs": [],
   "source": [
    "# Set your API Key\n",
    "API_KEY = \"SSIG9IPUQPWY332H\""
   ]
  },
  {
   "cell_type": "markdown",
   "metadata": {},
   "source": [
    "## Historical Stock data"
   ]
  },
  {
   "cell_type": "code",
   "execution_count": null,
   "metadata": {},
   "outputs": [],
   "source": [
    "# Initialize Alpha Vantage TimeSeries\n",
    "ts = TimeSeries(key=API_KEY, output_format='pandas')\n",
    "\n",
    "# Fetch historical stock data (daily)\n",
    "ticker = \"AAPL\"  # Example: Apple Inc.\n",
    "data, meta_data = ts.get_daily(symbol=ticker, outputsize=\"full\")\n",
    "\n",
    "# Save to CSV\n",
    "data.to_csv(f\"{ticker}_historical.csv\")\n",
    "\n",
    "print(\"Data fetched and saved:\", data.head())"
   ]
  },
  {
   "cell_type": "markdown",
   "metadata": {},
   "source": [
    "# Finding trends"
   ]
  },
  {
   "cell_type": "code",
   "execution_count": 3,
   "metadata": {},
   "outputs": [],
   "source": [
    "import pandas as pd\n",
    "\n",
    "df = pd.read_csv(\"AAPL_historical.csv\")\n",
    "\n",
    "# Convert date column to datetime type\n",
    "df[\"date\"] = pd.to_datetime(df[\"date\"])\n",
    "\n",
    "# Sort data by date in ascending order (oldest first)\n",
    "df = df.sort_values(\"date\")\n",
    "\n",
    "# Compute trend based on close price change\n",
    "df[\"trend\"] = df[\"4. close\"].diff().apply(lambda x: \"increase\" if x > 0 else (\"decrease\" if x < 0 else \"stable\"))\n",
    "\n",
    "# Display the result\n",
    "# save the columns date, 4. close, trend as a new csv file with new column names\n",
    "df[[\"date\", \"4. close\", \"trend\"]].to_csv(\"AAPL_trend.csv\", index=False)\n"
   ]
  }
 ],
 "metadata": {
  "kernelspec": {
   "display_name": "Python 3",
   "language": "python",
   "name": "python3"
  },
  "language_info": {
   "codemirror_mode": {
    "name": "ipython",
    "version": 3
   },
   "file_extension": ".py",
   "mimetype": "text/x-python",
   "name": "python",
   "nbconvert_exporter": "python",
   "pygments_lexer": "ipython3",
   "version": "3.10.12"
  }
 },
 "nbformat": 4,
 "nbformat_minor": 2
}
